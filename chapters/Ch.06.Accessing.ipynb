{
 "cells": [
  {
   "cell_type": "markdown",
   "metadata": {},
   "source": [
    "# Accessing data I: Remote access of webpages\n",
    "Thank you for checking out the code for: \n",
    "\n",
    "> Hogan, Bernie (2022, forthcoming) _From Social Science to Data Science_. Sage Publications. \n",
    "\n",
    "This notebook contains the code from the book, along with the headers and additional author notes that are not in the book as a way to help navigate the code. You can run this notebook in a browser by clicking the buttons below. \n",
    "    \n",
    "The version that is uploaded to GitHub should have all the results pasted, but the best way to follow along is to clear all outputs and then start afresh. To do this in Jupyter go the menu and select \"Kernel -> Restart Kernel and Clear all Outputs...\". To do this on Google Colab go to the menu and select \"Edit -> Clear all outputs\".\n",
    "    \n",
    "The most up-to-date version of this code can be found at https://www.github.com/berniehogan/fsstds \n",
    "\n",
    "Additional resources and teaching materials can be found on Sage's forthcoming website for this book. \n",
    "\n",
    "All code for the book and derivative code on the book's repository is released open source under the  MIT license. \n",
    "    \n",
    "\n",
    "[![Binder](https://mybinder.org/badge.svg)](https://mybinder.org/v2/gh/berniehogan/fsstds/main?filepath=chapters%2FCh.06.Accessing.ipynb)[![Colab](https://colab.research.google.com/assets/colab-badge.svg)](https://colab.research.google.com/github/berniehogan/fsstds/blob/main/chapters/Ch.06.Accessing.ipynb)"
   ]
  },
  {
   "cell_type": "markdown",
   "metadata": {},
   "source": [
    "## What is a URL "
   ]
  },
  {
   "cell_type": "code",
   "execution_count": 1,
   "metadata": {},
   "outputs": [],
   "source": [
    "import socket \n",
    "import requests "
   ]
  },
  {
   "cell_type": "code",
   "execution_count": 31,
   "metadata": {},
   "outputs": [
    {
     "name": "stdout",
     "output_type": "stream",
     "text": [
      "IP for Google: 142.250.187.206\n",
      "IP for localhost: 127.0.0.1\n",
      "My machine's IP Address on the local network: 192.168.0.134\n",
      "My machine's IP Address to others on the web: 51.xxx.xxx.xxx\n"
     ]
    }
   ],
   "source": [
    "#1. External server IP\n",
    "print(\"IP for Google:\", socket.gethostbyname(\"google.com\"))\n",
    "\n",
    "#2. Localhost IP\n",
    "print(\"IP for localhost:\", socket.gethostbyname(\"localhost\"))\n",
    "\n",
    "#3. Local network IP\n",
    "local_ip = socket.gethostbyname(socket.gethostname())\n",
    "print(\"My machine's IP Address on the local network:\", local_ip)\n",
    "\n",
    "#4. External computer IP: Actual IP commented for privacy\n",
    "my_external_ip = requests.get('https://api.ipify.org').text\n",
    "print(\"My machine's IP Address to others on the web:\",\n",
    "      my_external_ip.split('.')[0] + \".xxx.xxx.xxx\")"
   ]
  },
  {
   "cell_type": "markdown",
   "metadata": {},
   "source": [
    "### IP Addresses and ethics "
   ]
  },
  {
   "cell_type": "markdown",
   "metadata": {},
   "source": [
    "## URL parsing "
   ]
  },
  {
   "cell_type": "code",
   "execution_count": 2,
   "metadata": {},
   "outputs": [
    {
     "name": "stdout",
     "output_type": "stream",
     "text": [
      "https://www.google.com/search?client=firefox-b-d&q=Why+are+red+M%26M%27s+%231%3F\n"
     ]
    }
   ],
   "source": [
    "URL = \"https://www.google.com/search\"\n",
    "params = {\"client\":\"firefox-b-d\", \"q\":\"Why are red M&M's #1?\"}\n",
    "\n",
    "req = requests.models.PreparedRequest()\n",
    "req.prepare_url(URL, params)\n",
    "print(req.url)"
   ]
  },
  {
   "cell_type": "markdown",
   "metadata": {},
   "source": [
    "## What is a web request "
   ]
  },
  {
   "cell_type": "code",
   "execution_count": 3,
   "metadata": {},
   "outputs": [
    {
     "name": "stdout",
     "output_type": "stream",
     "text": [
      "https://consent.google.com/ml?continue=https://www.google.com/search%3Fclient%3Dfirefox-b-d%26q%3DWhy%2Bare%2Bred%2BM%2526M%2527s%2B%25231%253F&gl=GB&m=0&pc=srp&uxe=none&hl=en&src=1\n",
      "{'User-Agent': 'python-requests/2.27.1', 'Accept-Encoding': 'gzip, deflate, br', 'Accept': '*/*', 'Connection': 'keep-alive', 'Cookie': 'AEC=AakniGMPgRXDRNbctRjVcIym_dP2CBfYczlGZhhhVeqaiVPqq-4QtZAR_A; __Secure-ENID=4.SE=JjQVyp3rW6Flx0xrozW7fKq3zEIF78umotqhMLHc4v2HbqiJZFce8m2wqpfmCrXORG-UqcQB5GPWEur53QVVvMB1-C6DqT9XnHgsg6TmArBvzDRZ6jHyazsmBszXPx-2M52oaJJY3Pp2uLx49y5VHTQ3RhGz4ZClcjqiqC1FqoQ; CONSENT=PENDING+770'}\n"
     ]
    }
   ],
   "source": [
    "req = requests.get(URL, params)\n",
    "\n",
    "# The actual URL that is returned from the server based on what we sent.\n",
    "print(req.request.url)\n",
    "\n",
    "# The headers that we sent to the server\n",
    "print(req.request.headers)"
   ]
  },
  {
   "cell_type": "code",
   "execution_count": 4,
   "metadata": {},
   "outputs": [
    {
     "data": {
      "text/plain": [
       "dict_keys(['Content-Type', 'Vary', 'Cache-Control', 'Pragma', 'Expires', 'Date', 'Cross-Origin-Resource-Policy', 'Permissions-Policy', 'Cross-Origin-Opener-Policy', 'Content-Security-Policy', 'Report-To', 'Accept-CH', 'Content-Encoding', 'Server', 'X-XSS-Protection', 'X-Frame-Options', 'X-Content-Type-Options', 'Alt-Svc', 'Transfer-Encoding'])"
      ]
     },
     "execution_count": 4,
     "metadata": {},
     "output_type": "execute_result"
    }
   ],
   "source": [
    "dict(req.headers).keys()"
   ]
  },
  {
   "cell_type": "code",
   "execution_count": 5,
   "metadata": {},
   "outputs": [
    {
     "name": "stdout",
     "output_type": "stream",
     "text": [
      "/a> and data to:<ul><li>Deliver and maintain services, like tracking outages and protecting against spam, fraud, and abuse</li><li>Measure audience engagement and site statistics to understand how our services are used</li></ul>If you agree, we’ll also use cookies and data to:<ul><li>Improve the quality of our services and develop new ones</li><li>Deliver and measure the effectiveness of ads</li><li>Show personalized content, depending on your settings</li><li>Show personalized or generic ads,\n"
     ]
    }
   ],
   "source": [
    "print(req.content[4000:4500].decode('utf8'))"
   ]
  },
  {
   "cell_type": "markdown",
   "metadata": {},
   "source": [
    "# An example web collection task using paging"
   ]
  },
  {
   "cell_type": "code",
   "execution_count": 6,
   "metadata": {},
   "outputs": [
    {
     "name": "stdout",
     "output_type": "stream",
     "text": [
      "dict_keys(['kind', 'data'])\n",
      "Listing\n",
      "dict_keys(['after', 'dist', 'modhash', 'geo_filter', 'children', 'before'])\n"
     ]
    }
   ],
   "source": [
    "import requests\n",
    "import json\n",
    "\n",
    "s = requests.Session()\n",
    "s.headers.update({'User-agent': 'Python/Hogan redditex 0.3'})\n",
    "\n",
    "req = s.get('https://api.reddit.com/r/aww/new')\n",
    "sample = json.loads(req.content)\n",
    "\n",
    "print(sample.keys(), sample['kind'], sample['data'].keys(),\n",
    "      sep=\"\\n\")"
   ]
  },
  {
   "cell_type": "code",
   "execution_count": 7,
   "metadata": {},
   "outputs": [
    {
     "name": "stdout",
     "output_type": "stream",
     "text": [
      "<class 'pandas.core.frame.DataFrame'>\n",
      "RangeIndex: 25 entries, 0 to 24\n",
      "Columns: 179 entries, kind to data.author_cakeday\n",
      "dtypes: bool(31), float64(25), int64(12), object(111)\n",
      "memory usage: 29.8+ KB\n",
      "None\n",
      "Index(['kind', 'data.approved_at_utc', 'data.subreddit', 'data.selftext',\n",
      "       'data.author_fullname', 'data.saved', 'data.mod_reason_title',\n",
      "       'data.gilded', 'data.clicked', 'data.title', 'data.link_flair_richtext',\n",
      "       'data.subreddit_name_prefixed', 'data.hidden', 'data.pwls',\n",
      "       'data.link_flair_css_class', 'data.downs', 'data.thumbnail_height',\n",
      "       'data.top_awarded_type', 'data.hide_score', 'data.name',\n",
      "       'data.quarantine', 'data.link_flair_text_color', 'data.upvote_ratio',\n",
      "       'data.author_flair_background_color', 'data.subreddit_type'],\n",
      "      dtype='object')\n"
     ]
    }
   ],
   "source": [
    "import pandas as pd \n",
    "\n",
    "red_df = pd.json_normalize(sample['data']['children'])\n",
    "print(red_df.info())\n",
    "print(red_df.columns[:25])"
   ]
  },
  {
   "cell_type": "code",
   "execution_count": 8,
   "metadata": {},
   "outputs": [
    {
     "name": "stdout",
     "output_type": "stream",
     "text": [
      "We have received 4 batches of data to be processed.\n"
     ]
    }
   ],
   "source": [
    "import time \n",
    "\n",
    "after = \"\" # The first time is empty (and won't throw an error on Reddit)\n",
    "results = [] # The list of result objects\n",
    "count = 0  # Where we start\n",
    "max_count = 100 # Note: Reddit might not give results for maxcount > 1000\n",
    "\n",
    "while True:\n",
    "    reddit_link = f\"https://api.reddit.com/r/aww?after={after}\"\n",
    "\n",
    "    content = s.get(reddit_link)\n",
    "    if not content:\n",
    "        break\n",
    "\n",
    "    result = json.loads(req.content)\n",
    "    results.append(result[\"data\"][\"children\"])\n",
    "    count += len(result[\"data\"][\"children\"])\n",
    "\n",
    "    if count >= max_count: \n",
    "        break \n",
    "    else:\n",
    "        after = result[\"data\"][\"after\"]\n",
    "\n",
    "    time.sleep(2)\n",
    "\n",
    "print(f\"We have received {len(results)} batches of data to be processed.\")"
   ]
  },
  {
   "cell_type": "code",
   "execution_count": 9,
   "metadata": {},
   "outputs": [
    {
     "name": "stdout",
     "output_type": "stream",
     "text": [
      "<class 'pandas.core.frame.DataFrame'>\n",
      "RangeIndex: 100 entries, 0 to 99\n",
      "Columns: 179 entries, kind to author_cakeday\n",
      "dtypes: bool(31), float64(25), int64(12), object(111)\n",
      "memory usage: 118.8+ KB\n"
     ]
    },
    {
     "data": {
      "text/plain": [
       "None"
      ]
     },
     "metadata": {},
     "output_type": "display_data"
    }
   ],
   "source": [
    "reddit_df = pd.concat([pd.json_normalize(i) for i in results],\n",
    "                      ignore_index=True)\n",
    "\n",
    "reddit_df.columns = [i.removeprefix(\"data.\")\n",
    "                    if i.startswith(\"data.\") else i\n",
    "                    for i in reddit_df.columns]\n",
    "\n",
    "display(reddit_df.info())"
   ]
  },
  {
   "cell_type": "code",
   "execution_count": null,
   "metadata": {},
   "outputs": [],
   "source": [
    "import matplotlib.pyplot as plt \n",
    "%config InlineBackend.figure_format = 'svg'\n",
    "\n",
    "ax = reddit_df.ups.sort_values().plot(kind=\"hist\"); \n",
    "ax.set_xlabel(\"Upvote score\")\n",
    "\n",
    "plt.show()"
   ]
  },
  {
   "cell_type": "markdown",
   "metadata": {},
   "source": [
    "# Other web related issues to consider"
   ]
  },
  {
   "cell_type": "markdown",
   "metadata": {},
   "source": [
    "## When to use your own versus someone else's program? "
   ]
  },
  {
   "cell_type": "markdown",
   "metadata": {},
   "source": [
    "## Are there ways to simulate a browser? "
   ]
  },
  {
   "cell_type": "markdown",
   "metadata": {},
   "source": [
    "# Ethical issues to consider "
   ]
  },
  {
   "cell_type": "markdown",
   "metadata": {},
   "source": [
    "## What is public data and how public?"
   ]
  },
  {
   "cell_type": "markdown",
   "metadata": {},
   "source": [
    "## Considering data minimisation as a basic ethical principle "
   ]
  },
  {
   "cell_type": "markdown",
   "metadata": {},
   "source": [
    "### Volume"
   ]
  },
  {
   "cell_type": "markdown",
   "metadata": {},
   "source": [
    "### Velocity"
   ]
  },
  {
   "cell_type": "markdown",
   "metadata": {},
   "source": [
    "### Variety"
   ]
  },
  {
   "cell_type": "markdown",
   "metadata": {},
   "source": [
    "# Summary"
   ]
  },
  {
   "cell_type": "markdown",
   "metadata": {},
   "source": [
    "# Further Reading in ethics of data access and privacy"
   ]
  },
  {
   "cell_type": "markdown",
   "metadata": {},
   "source": [
    "# Extensions and reflections "
   ]
  }
 ],
 "metadata": {
  "kernelspec": {
   "display_name": "Python 3 (ipykernel)",
   "language": "python",
   "name": "python3"
  },
  "language_info": {
   "codemirror_mode": {
    "name": "ipython",
    "version": 3
   },
   "file_extension": ".py",
   "mimetype": "text/x-python",
   "name": "python",
   "nbconvert_exporter": "python",
   "pygments_lexer": "ipython3",
   "version": "3.9.7"
  }
 },
 "nbformat": 4,
 "nbformat_minor": 4
}
