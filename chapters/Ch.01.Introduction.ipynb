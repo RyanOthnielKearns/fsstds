{
 "cells": [
  {
   "cell_type": "markdown",
   "metadata": {},
   "source": [
    "# From Social Science to what?  \n",
    "Thank you for checking out the code for: \n",
    "\n",
    "> Hogan, Bernie (2022, forthcoming) _From Social Science to Data Science_. Sage Publications. \n",
    "\n",
    "This notebook contains the code from the book, along with the headers and additional author notes that are not in the book as a way to help navigate the code. You can run this notebook in a browser by clicking the buttons below. \n",
    "    \n",
    "The version that is uploaded to GitHub should have all the results pasted, but the best way to follow along is to clear all outputs and then start afresh. To do this in Jupyter go the menu and select \"Kernel -> Restart Kernel and Clear all Outputs...\". To do this on Google Colab go to the menu and select \"Edit -> Clear all outputs\".\n",
    "    \n",
    "The most up-to-date version of this code can be found at https://www.github.com/berniehogan/fsstds \n",
    "\n",
    "Additional resources and teaching materials can be found on Sage's forthcoming website for this book. \n",
    "\n",
    "All code for the book and derivative code on the book's repository is released open source under the  MIT license. \n",
    "    \n",
    "\n",
    "[![Binder](https://mybinder.org/badge.svg)](https://mybinder.org/v2/gh/berniehogan/fsstds/main?filepath=chapters%2FCh.01.Introduction.ipynb)[![Colab](https://colab.research.google.com/assets/colab-badge.svg)](https://colab.research.google.com/github/berniehogan/fsstds/blob/main/chapters/Ch.01.Introduction.ipynb)"
   ]
  },
  {
   "cell_type": "markdown",
   "metadata": {},
   "source": [
    "# (PO)DIKW - A potential theoretical framework for Data Science "
   ]
  },
  {
   "cell_type": "markdown",
   "metadata": {},
   "source": [
    "## What is data? "
   ]
  },
  {
   "cell_type": "markdown",
   "metadata": {},
   "source": [
    "## From Data to Wisdom. "
   ]
  },
  {
   "cell_type": "markdown",
   "metadata": {},
   "source": [
    "# Beyond the interface "
   ]
  },
  {
   "cell_type": "markdown",
   "metadata": {},
   "source": [
    "# Fixed, variable, and marginal costs: Why not to build a barn."
   ]
  },
  {
   "cell_type": "markdown",
   "metadata": {},
   "source": [
    "## From Economics to Data Science "
   ]
  },
  {
   "cell_type": "code",
   "execution_count": 1,
   "metadata": {},
   "outputs": [
    {
     "name": "stdout",
     "output_type": "stream",
     "text": [
      "user.example generic.student\n"
     ]
    }
   ],
   "source": [
    "# Attempt 1. High marginal costs, low fixed costs \n",
    "email1 = \"user.example@mail.com\"\n",
    "email_parts = email1.split(\"@\")\n",
    "name1 = email_parts[0]\n",
    "\n",
    "email2 = \"generic.student@oii.ox.ac.uk\"\n",
    "email_parts = email2.split(\"@\")\n",
    "name2 = email_parts[0]\n",
    "\n",
    "print(name1,name2)"
   ]
  },
  {
   "cell_type": "code",
   "execution_count": 2,
   "metadata": {},
   "outputs": [
    {
     "name": "stdout",
     "output_type": "stream",
     "text": [
      "['user.example', 'generic.student', 'dr.professor']\n"
     ]
    }
   ],
   "source": [
    "# Attempt 2. Low marginal costs\n",
    "email_list = [\"user.example@mail.com\",\n",
    "              \"generic.student@oii.ox.ac.uk\",\n",
    "              \"dr.professor@oii.ox.ac.uk\"]\n",
    "\n",
    "print([x.split(\"@\")[0] for x in email_list])"
   ]
  },
  {
   "cell_type": "markdown",
   "metadata": {},
   "source": [
    "## The challenges of maximising fixed costs "
   ]
  },
  {
   "cell_type": "markdown",
   "metadata": {},
   "source": [
    "# Code should be FREE"
   ]
  },
  {
   "cell_type": "markdown",
   "metadata": {},
   "source": [
    "## Functioning code"
   ]
  },
  {
   "cell_type": "code",
   "execution_count": 3,
   "metadata": {},
   "outputs": [
    {
     "name": "stdout",
     "output_type": "stream",
     "text": [
      "9\n"
     ]
    }
   ],
   "source": [
    "def square(number):\n",
    "    squarednumber = number * number  \n",
    "    return squarednumber\n",
    "\n",
    "print(square(3))"
   ]
  },
  {
   "cell_type": "markdown",
   "metadata": {},
   "source": [
    "## Robust code"
   ]
  },
  {
   "cell_type": "code",
   "execution_count": 4,
   "metadata": {},
   "outputs": [],
   "source": [
    "import numbers "
   ]
  },
  {
   "cell_type": "code",
   "execution_count": 5,
   "metadata": {},
   "outputs": [
    {
     "name": "stdout",
     "output_type": "stream",
     "text": [
      "nan 4\n"
     ]
    }
   ],
   "source": [
    "def square(number):\n",
    "    # pre-emtively checking for inclusion\n",
    "    if isinstance(number, numbers.Number):\n",
    "        squarednumber = number * number  \n",
    "        return squarednumber\n",
    "    else:\n",
    "        return float(\"NaN\")\n",
    "\n",
    "print(square(\"b\"),square(2))"
   ]
  },
  {
   "cell_type": "code",
   "execution_count": 6,
   "metadata": {},
   "outputs": [
    {
     "name": "stdout",
     "output_type": "stream",
     "text": [
      "nan 4\n"
     ]
    }
   ],
   "source": [
    "def square(number):\n",
    "    # duck typing to handle exclusion\n",
    "    try:\n",
    "        squarednumber = number * number  \n",
    "        return squarednumber\n",
    "    except:\n",
    "        return float(\"NaN\")\n",
    "\n",
    "print(square(\"b\"),square(2))"
   ]
  },
  {
   "cell_type": "markdown",
   "metadata": {},
   "source": [
    "## Elegant"
   ]
  },
  {
   "cell_type": "code",
   "execution_count": 7,
   "metadata": {},
   "outputs": [
    {
     "name": "stdout",
     "output_type": "stream",
     "text": [
      "nan 4\n"
     ]
    }
   ],
   "source": [
    "def square(number):\n",
    "    if isinstance(number, numbers.Number):\n",
    "        return number * number\n",
    "    return float(\"NaN\")\n",
    "\n",
    "print(square(\"b\"),\n",
    "      square(2))"
   ]
  },
  {
   "cell_type": "code",
   "execution_count": 8,
   "metadata": {},
   "outputs": [
    {
     "name": "stdout",
     "output_type": "stream",
     "text": [
      "nan 4 27\n"
     ]
    }
   ],
   "source": [
    "def to_exponent(number, power = 2):\n",
    "    if isinstance(number, numbers.Number):\n",
    "        return number ** power\n",
    "    return float(\"NaN\")\n",
    "\n",
    "print(to_exponent(\"b\"),\n",
    "      to_exponent(2),\n",
    "      to_exponent(3,3))"
   ]
  },
  {
   "cell_type": "markdown",
   "metadata": {},
   "source": [
    "## Efficient "
   ]
  },
  {
   "cell_type": "code",
   "execution_count": 9,
   "metadata": {},
   "outputs": [
    {
     "name": "stdout",
     "output_type": "stream",
     "text": [
      "CPU times: user 233 µs, sys: 12 µs, total: 245 µs\n",
      "Wall time: 254 µs\n"
     ]
    }
   ],
   "source": [
    "%%time\n",
    "\n",
    "newlist = []\n",
    "\n",
    "for i in range(1000): newlist.append(i)"
   ]
  },
  {
   "cell_type": "code",
   "execution_count": 10,
   "metadata": {},
   "outputs": [
    {
     "name": "stdout",
     "output_type": "stream",
     "text": [
      "31.2 µs ± 4.21 µs per loop (mean ± std. dev. of 7 runs, 1,000 loops each)\n",
      "14.7 µs ± 159 ns per loop (mean ± std. dev. of 7 runs, 1,000 loops each)\n",
      "5.6 µs ± 73.2 ns per loop (mean ± std. dev. of 7 runs, 1,000 loops each)\n"
     ]
    }
   ],
   "source": [
    "newlist = [] \n",
    "\n",
    "%timeit -n 1000 for i in range(500): newlist.append(i)\n",
    "\n",
    "%timeit -n 1000 newlist = [i for i in range(500)]\n",
    "\n",
    "%timeit -n 1000 newlist = list(range(500))"
   ]
  },
  {
   "cell_type": "markdown",
   "metadata": {},
   "source": [
    "# Pseudocode (and pseudo-pseudocode)"
   ]
  },
  {
   "cell_type": "markdown",
   "metadata": {},
   "source": [
    "## Attempt 1. Pseudocode as written word"
   ]
  },
  {
   "cell_type": "markdown",
   "metadata": {},
   "source": [
    "## Attempt 2. Pseudocode as mathematical formula"
   ]
  },
  {
   "cell_type": "markdown",
   "metadata": {},
   "source": [
    "## Attempt 3. Pseudocode as written code "
   ]
  },
  {
   "cell_type": "markdown",
   "metadata": {},
   "source": [
    "## Attempt 4. Slightly more formal pseudocode (in a Python style)"
   ]
  },
  {
   "cell_type": "markdown",
   "metadata": {},
   "source": [
    "# Summary"
   ]
  },
  {
   "cell_type": "markdown",
   "metadata": {},
   "source": [
    "# Further reading "
   ]
  },
  {
   "cell_type": "markdown",
   "metadata": {
    "tags": []
   },
   "source": [
    "# Extensions and reflections "
   ]
  }
 ],
 "metadata": {
  "kernelspec": {
   "display_name": "Python 3 (ipykernel)",
   "language": "python",
   "name": "python3"
  },
  "language_info": {
   "codemirror_mode": {
    "name": "ipython",
    "version": 3
   },
   "file_extension": ".py",
   "mimetype": "text/x-python",
   "name": "python",
   "nbconvert_exporter": "python",
   "pygments_lexer": "ipython3",
   "version": "3.9.7"
  }
 },
 "nbformat": 4,
 "nbformat_minor": 4
}
