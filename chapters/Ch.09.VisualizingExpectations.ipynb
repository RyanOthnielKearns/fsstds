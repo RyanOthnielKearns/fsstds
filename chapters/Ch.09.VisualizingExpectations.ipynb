{
 "cells": [
  {
   "cell_type": "markdown",
   "metadata": {},
   "source": [
    "# Introduction: Why show data?\n",
    "Thank you for checking out the code for: \n",
    "\n",
    "> Hogan, Bernie (2022, forthcoming) _From Social Science to Data Science_. Sage Publications. \n",
    "\n",
    "This notebook contains the code from the book, along with the headers and additional author notes that are not in the book as a way to help navigate the code. You can run this notebook in a browser by clicking the buttons below. \n",
    "    \n",
    "The version that is uploaded to GitHub should have all the results pasted, but the best way to follow along is to clear all outputs and then start afresh. To do this in Jupyter go the menu and select \"Kernel -> Restart Kernel and Clear all Outputs...\". To do this on Google Colab go to the menu and select \"Edit -> Clear all outputs\".\n",
    "    \n",
    "The most up-to-date version of this code can be found at https://www.github.com/berniehogan/fsstds \n",
    "\n",
    "Additional resources and teaching materials can be found on Sage's forthcoming website for this book. \n",
    "\n",
    "All code for the book and derivative code on the book's repository is released open source under the  MIT license. \n",
    "    \n",
    "\n",
    "[![Binder](https://mybinder.org/badge.svg)](https://mybinder.org/v2/gh/berniehogan/fsstds/main?filepath=chapters%2FCh.09.VisualizingExpectations.ipynb)[![Colab](https://colab.research.google.com/assets/colab-badge.svg)](https://colab.research.google.com/github/berniehogan/fsstds/blob/main/chapters/Ch.09.VisualizingExpectations.ipynb)"
   ]
  },
  {
   "cell_type": "code",
   "execution_count": 16,
   "metadata": {},
   "outputs": [],
   "source": [
    "import numpy as np\n",
    "import matplotlib.pyplot as plt \n",
    "import seaborn as sns\n",
    "%config InlineBackend.figure_format = 'svg'"
   ]
  },
  {
   "cell_type": "code",
   "execution_count": null,
   "metadata": {},
   "outputs": [],
   "source": [
    "df = sns.load_dataset(\"anscombe\")\n",
    "\n",
    "# LM plot adds a regression trend line to a scatterplot\n",
    "sns.lmplot(x=\"x\", y=\"y\", \n",
    "           col=\"dataset\", hue=\"dataset\", data=df,\n",
    "           ci=None, height=2, col_wrap=2,\n",
    "           palette=\"muted\",\n",
    "           scatter_kws={\"s\": 20})\n",
    "\n",
    "plt.show()"
   ]
  },
  {
   "cell_type": "code",
   "execution_count": null,
   "metadata": {},
   "outputs": [],
   "source": [
    "display(df.groupby('dataset')\n",
    "        .agg([\"mean\",\"count\",\"std\",\"median\"])\n",
    "        .style.format(\"{:.3f}\"))"
   ]
  },
  {
   "cell_type": "markdown",
   "metadata": {},
   "source": [
    "# Visualising Distributions "
   ]
  },
  {
   "cell_type": "code",
   "execution_count": null,
   "metadata": {},
   "outputs": [],
   "source": [
    "fig, (ax1,ax2,ax3) = plt.subplots(1,3,figsize=(6,3))\n",
    "\n",
    "plt1 = sns.histplot(np.random.uniform(size=1000),ax=ax1)\n",
    "plt1.set_xlabel(\"Uniform Distribution\")\n",
    "\n",
    "plt2 = sns.histplot(np.random.normal(size=1000),ax=ax2)\n",
    "plt2.set_xlabel(\"Normal Distribution\")\n",
    "plt2.set_ylabel(\"\")\n",
    "\n",
    "plt3 = sns.histplot(np.random.exponential(size=1000),ax=ax3)\n",
    "plt3.set_xlabel(\"Exponential Distribution\")\n",
    "plt3.set_ylabel(\"\")\n",
    "\n",
    "plt.tight_layout()\n",
    "\n",
    "plt.show()"
   ]
  },
  {
   "cell_type": "markdown",
   "metadata": {},
   "source": [
    "## Uniform distribution with histogram"
   ]
  },
  {
   "cell_type": "code",
   "execution_count": 20,
   "metadata": {},
   "outputs": [
    {
     "name": "stdout",
     "output_type": "stream",
     "text": [
      "0     507\n",
      "1     516\n",
      "2     482\n",
      "3     511\n",
      "4     524\n",
      "5     508\n",
      "6     462\n",
      "7     488\n",
      "8     520\n",
      "9     506\n",
      "10    514\n",
      "11    489\n",
      "12    480\n",
      "13    500\n",
      "14    494\n",
      "15    499\n",
      "dtype: int64\n"
     ]
    }
   ],
   "source": [
    "# Seed means that I should see the same random number sequence every time\n",
    "# I use this random number generator. Different seed, different sequence.\n",
    "\n",
    "rng = np.random.default_rng(seed=123456)\n",
    "distribution = rng.integers(low=0, high=16, size=8000)\n",
    "\n",
    "# Printing the distribution as a table first: \n",
    "import pandas as pd \n",
    "\n",
    "dist_table = pd.Series(distribution).value_counts() \n",
    "print(dist_table.sort_index())"
   ]
  },
  {
   "cell_type": "code",
   "execution_count": null,
   "metadata": {},
   "outputs": [],
   "source": [
    "fig, ax = plt.subplots()\n",
    "\n",
    "ax.axhline(500,\n",
    "           linestyle=\":\", color='black',\n",
    "           label=\"Expected value\")\n",
    "\n",
    "sns.histplot(distribution, bins=16,\n",
    "             label=\"Uniform distribution\")\n",
    "\n",
    "ax.legend()\n",
    "\n",
    "plt.show()"
   ]
  },
  {
   "cell_type": "markdown",
   "metadata": {},
   "source": [
    "# Testing a uniform distribution using a Chi-Square test "
   ]
  },
  {
   "cell_type": "code",
   "execution_count": 13,
   "metadata": {},
   "outputs": [],
   "source": [
    "import scipy"
   ]
  },
  {
   "cell_type": "code",
   "execution_count": 14,
   "metadata": {},
   "outputs": [
    {
     "name": "stdout",
     "output_type": "stream",
     "text": [
      "This time the distribution has a p-value of 0.910\n",
      "The expected value is 500.0\n"
     ]
    }
   ],
   "source": [
    "chisq,pval = scipy.stats.chisquare(dist_table)\n",
    "\n",
    "print(f\"This time the distribution has a p-value of {pval:0.3f}\")\n",
    "print(\"The expected value is\", dist_table.mean())"
   ]
  },
  {
   "cell_type": "code",
   "execution_count": 15,
   "metadata": {},
   "outputs": [
    {
     "data": {
      "text/plain": [
       "500.0"
      ]
     },
     "execution_count": 15,
     "metadata": {},
     "output_type": "execute_result"
    }
   ],
   "source": [
    "dist_table.mean()"
   ]
  },
  {
   "cell_type": "code",
   "execution_count": null,
   "metadata": {},
   "outputs": [],
   "source": [
    "dist_2 = dist_table.copy()\n",
    "\n",
    "dist_2.loc[7] += 90\n",
    "dist_2.loc[13] -= 90\n",
    "\n",
    "fig, ax = plt.subplots()\n",
    "\n",
    "ax.axhline(500,\n",
    "           linestyle=\":\", color='black',\n",
    "           label=\"Expected value\")\n",
    "\n",
    "sns.scatterplot(x=dist_2.index, y=dist_2.values,\n",
    "                label=\"Uniform distribution with two outliers\")\n",
    "\n",
    "ax.legend()\n",
    "\n",
    "plt.show()"
   ]
  },
  {
   "cell_type": "code",
   "execution_count": 18,
   "metadata": {},
   "outputs": [
    {
     "name": "stdout",
     "output_type": "stream",
     "text": [
      "This time the distribution has a p-value of 0.002\n",
      "The expected value of the distribution is still 500.0\n"
     ]
    }
   ],
   "source": [
    "chisq,pval = scipy.stats.chisquare(dist_2)\n",
    "\n",
    "print(f\"This time the distribution has a p-value of {pval:0.3f}\")\n",
    "print(\"The expected value of the distribution is still\", dist_table.mean())"
   ]
  },
  {
   "cell_type": "markdown",
   "metadata": {},
   "source": [
    "# Testing a uniform distribution using regression "
   ]
  },
  {
   "cell_type": "code",
   "execution_count": null,
   "metadata": {},
   "outputs": [],
   "source": [
    "fig, ax = plt.subplots()\n",
    "\n",
    "ax = sns.regplot(x = dist_table.index, y = dist_table.values,\n",
    "                 line_kws={\"label\":\"Trend line\"},\n",
    "                 label=\"Observed counts\")\n",
    "\n",
    "ax.axhline(500, linestyle=\":\", label=\"Expected trend\")\n",
    "\n",
    "ax.legend()\n",
    "\n",
    "plt.xticks(range(0,16)) \n",
    "\n",
    "plt.show()"
   ]
  },
  {
   "cell_type": "code",
   "execution_count": 30,
   "metadata": {},
   "outputs": [],
   "source": [
    "import statsmodels.api as sm"
   ]
  },
  {
   "cell_type": "code",
   "execution_count": null,
   "metadata": {},
   "outputs": [],
   "source": [
    "fig, ax = plt.subplots() \n",
    "\n",
    "X = [int(x) for x in dist_table.index]\n",
    "y = dist_table.values\n",
    "\n",
    "ax = sns.regplot(x=X, y=y, \n",
    "                 line_kws={\"label\":\"Expected trend line\"},\n",
    "                 label=\"Observed data\")\n",
    "\n",
    "\n",
    "# New part: The regression model explicitly\n",
    "X2 = sm.add_constant(X)\n",
    "est = sm.OLS(y, X2).fit()\n",
    "\n",
    "a = est.params[0]\n",
    "b1 = est.params[1] \n",
    "pred = [a + (b1*i) for i in X]\n",
    "\n",
    "# We use the predicted values from the regression to draw\n",
    "# vertical lines from predicted Y (along the line) to observed Y.\n",
    "ax.vlines(X, y, pred,\n",
    "          linestyle=\":\", color=\"grey\",\n",
    "          label=\"Distance between observed and expected\")\n",
    "\n",
    "ax.legend()\n",
    "\n",
    "plt.xticks(range(0,16))\n",
    "\n",
    "plt.show()"
   ]
  },
  {
   "cell_type": "code",
   "execution_count": 20,
   "metadata": {},
   "outputs": [
    {
     "name": "stdout",
     "output_type": "stream",
     "text": [
      "When X = 0, Y is predicted to be 505.9.\n",
      "When X is 0, 95% of the time Y is predicted to be between 488.7 and 523.1.\n",
      "\n",
      "When X increases by 1 unit, Y is predicted to increase by -0.8\n",
      "When X increases by 1 unit, 95% of the time Y is predicted to increase by somewhere between -2.7 and 1.2.\n"
     ]
    }
   ],
   "source": [
    "conf_ints = est.conf_int()\n",
    "\n",
    "print(f\"When X = 0, Y is predicted to be {est.params[0]:0.1f}.\")\n",
    "print(\"When X is 0, 95% of the time Y is predicted to be between \"\n",
    "      f\"{conf_ints[0][0]:0.1f} and {conf_ints[0][1]:0.1f}.\",end=\"\\n\\n\")\n",
    "\n",
    "print(\"When X increases by 1 unit, Y is predicted to increase by\", \n",
    "      f\"{est.params[1]:0.1f}\")\n",
    "print(\"When X increases by 1 unit, 95% of the time Y is predicted to\",\n",
    "      f\"increase by somewhere between {conf_ints[1][0]:0.1f} and \"\n",
    "      f\"{conf_ints[1][1]:0.1f}.\")"
   ]
  },
  {
   "cell_type": "code",
   "execution_count": 21,
   "metadata": {},
   "outputs": [
    {
     "name": "stdout",
     "output_type": "stream",
     "text": [
      "The pvalue for the constant 'a' is 0.000\n",
      "The pvalue for the coefficient 'b1' is 0.400\n"
     ]
    }
   ],
   "source": [
    "est.pvalues\n",
    "\n",
    "print(f\"The pvalue for the constant 'a' is {est.pvalues[0]:0.3f}\")\n",
    "print(f\"The pvalue for the coefficient 'b1' is {est.pvalues[1]:0.3f}\")"
   ]
  },
  {
   "cell_type": "markdown",
   "metadata": {},
   "source": [
    "## Testing against a uniform distribution: Births in the UK "
   ]
  },
  {
   "cell_type": "code",
   "execution_count": 33,
   "metadata": {},
   "outputs": [],
   "source": [
    "from pathlib import Path "
   ]
  },
  {
   "cell_type": "code",
   "execution_count": 34,
   "metadata": {},
   "outputs": [
    {
     "name": "stdout",
     "output_type": "stream",
     "text": [
      "The average number of births per day was 1813\n",
      "\n"
     ]
    }
   ],
   "source": [
    "birth_df = pd.read_csv(Path.cwd().parent / \"data\" / \"average_birth_data.csv\")\n",
    "\n",
    "print(\"The average number of births per day was\",\n",
    "      f\"{birth_df.average.mean():0.0f}\\n\")"
   ]
  },
  {
   "cell_type": "code",
   "execution_count": null,
   "metadata": {},
   "outputs": [],
   "source": [
    "display(birth_df.head())"
   ]
  },
  {
   "cell_type": "code",
   "execution_count": null,
   "metadata": {},
   "outputs": [],
   "source": [
    "fig, ax = plt.subplots() \n",
    "\n",
    "sns.regplot(x=birth_df.index, y=birth_df.average,\n",
    "            scatter_kws={\"color\":\"red\", \"alpha\":0.3})\n",
    "\n",
    "ax.axhline(birth_df.average.mean(), linestyle=\":\")\n",
    "\n",
    "plt.show()"
   ]
  },
  {
   "cell_type": "code",
   "execution_count": 38,
   "metadata": {},
   "outputs": [],
   "source": [
    "X = birth_df.index\n",
    "Y = birth_df[\"average\"]\n",
    "X2 = sm.add_constant(X)\n",
    "\n",
    "est = sm.OLS(Y, X2).fit()\n",
    "# print(est.summary()) # <- For the default Python output."
   ]
  },
  {
   "cell_type": "code",
   "execution_count": 39,
   "metadata": {},
   "outputs": [],
   "source": [
    "# pip install stargazer"
   ]
  },
  {
   "cell_type": "code",
   "execution_count": 40,
   "metadata": {},
   "outputs": [],
   "source": [
    "from stargazer.stargazer import Stargazer\n",
    "from IPython.core.display import HTML"
   ]
  },
  {
   "cell_type": "code",
   "execution_count": null,
   "metadata": {},
   "outputs": [],
   "source": [
    "stargazer = Stargazer([est])\n",
    "stargazer.show_model_numbers(False)\n",
    "stargazer.show_confidence_intervals(True)\n",
    "stargazer.significant_digits(2)\n",
    "HTML(stargazer.render_html()) # Book features stargazer.render_latex()"
   ]
  },
  {
   "cell_type": "markdown",
   "metadata": {},
   "source": [
    "## Annotating a figure"
   ]
  },
  {
   "cell_type": "code",
   "execution_count": 74,
   "metadata": {},
   "outputs": [],
   "source": [
    "import numpy as np\n",
    "import matplotlib.pyplot as plt\n",
    "import matplotlib.dates as mdates"
   ]
  },
  {
   "cell_type": "code",
   "execution_count": null,
   "metadata": {},
   "outputs": [],
   "source": [
    "# I create 'ax' here first so we can layer some elements behind the plot\n",
    "fig,ax = plt.subplots()\n",
    "\n",
    "# Set the ticks to be on the months, Format the months using the DateFormatter \n",
    "ax.xaxis.set_major_locator(mdates.MonthLocator())\n",
    "ax.xaxis.set_major_formatter(mdates.DateFormatter('%b'))\n",
    "\n",
    "# Add a vspan on the x-axis to 95% of births a full term after December 25\n",
    "# Parameters for estimating births comes from Jukic et al., \n",
    "# https://www.ncbi.nlm.nih.gov/pmc/articles/PMC3777570/\n",
    "# They estimated among their sample a mean 268 days (sd 10). \n",
    "xmas = 359\n",
    "mnbaby = 268\n",
    "sdbaby = 10\n",
    "yr = 366\n",
    "\n",
    "ninemoslater = (xmas + mnbaby - yr)\n",
    "\n",
    "# 2 Standard deviations above and below gets us 95% of births\n",
    "# So 20 days before and after will display 95% of impact of a \n",
    "# particular day. In this case, Christmas Day.\n",
    "bottomrange = ninemoslater-sdbaby*2\n",
    "toprange = ninemoslater+sdbaby*2\n",
    "\n",
    "ax.axvspan(bottomrange, toprange,\n",
    "           color='grey',alpha=0.5, label=\"95% range\")\n",
    "\n",
    "ax.axvline(ninemoslater, linestyle=\":\", \n",
    "           color='black', label=\"9 months after Dec 25\")\n",
    "\n",
    "ax=sns.regplot(x=birth_df.index, y=birth_df.average,\n",
    "               data=birth_df, robust=True, \n",
    "               marker=\"+\", ci=None,\n",
    "               scatter_kws={\"color\":\"red\", \"alpha\":0.5,},\n",
    "               label=\"Avg. per day\")\n",
    "\n",
    "# Get the x,y coords of minumum (boxing day)\n",
    "minday = birth_df[birth_df.average==min(birth_df.average)]\n",
    "\n",
    "# Offset x by 40 and y by 10 so the label fits nicely in frame. \n",
    "# For the text I used a newline and some formatting for a round number\n",
    "plt.text(x=minday.index[0]-40,\n",
    "         y=minday.average.values[0]+10,\n",
    "         s=f\"{minday.date.values[0]}\\n({minday.average.values[0]:.0f})\")\n",
    "\n",
    "ax.set(xlabel='Day of the year', ylabel='Average number of births')\n",
    "\n",
    "ax.legend()\n",
    "\n",
    "plt.show()"
   ]
  },
  {
   "cell_type": "markdown",
   "metadata": {
    "jp-MarkdownHeadingCollapsed": true,
    "tags": []
   },
   "source": [
    "## Normal versus Skewed distributions as being interesting"
   ]
  },
  {
   "cell_type": "markdown",
   "metadata": {
    "toc-hr-collapsed": false
   },
   "source": [
    "# Comparing two distributions versus two groups"
   ]
  },
  {
   "cell_type": "markdown",
   "metadata": {},
   "source": [
    "## Constraining our work based on our data"
   ]
  },
  {
   "cell_type": "markdown",
   "metadata": {},
   "source": [
    "## Two continuous distributions. "
   ]
  },
  {
   "cell_type": "code",
   "execution_count": null,
   "metadata": {},
   "outputs": [],
   "source": [
    "SIZE = 2000\n",
    "np.random.seed(13)\n",
    "dist1 = np.random.lognormal(0,.5,SIZE)\n",
    "dist2 = np.random.normal(0,2,SIZE)\n",
    "\n",
    "# sns.scatterplot(x = dist1, y=dist2)\n",
    "sns.jointplot(x = dist1, y=dist2, height=3, kind=\"hex\",)\n",
    "\n",
    "plt.show()"
   ]
  },
  {
   "cell_type": "code",
   "execution_count": 60,
   "metadata": {},
   "outputs": [],
   "source": [
    "from scipy import stats "
   ]
  },
  {
   "cell_type": "code",
   "execution_count": 29,
   "metadata": {},
   "outputs": [
    {
     "data": {
      "text/plain": [
       "(0.00590821749715962, 0.7917331952877843)"
      ]
     },
     "execution_count": 29,
     "metadata": {},
     "output_type": "execute_result"
    }
   ],
   "source": [
    "stats.pearsonr(dist1, dist2)"
   ]
  },
  {
   "cell_type": "markdown",
   "metadata": {},
   "source": [
    "## PRE Scores "
   ]
  },
  {
   "cell_type": "markdown",
   "metadata": {},
   "source": [
    "### Real-world bivariate data that shows correlations and clusters"
   ]
  },
  {
   "cell_type": "code",
   "execution_count": null,
   "metadata": {},
   "outputs": [],
   "source": [
    "df = sns.load_dataset('iris')\n",
    "df.columns = [x.replace(\"_\",\"-\") for x in df.columns]\n",
    "\n",
    "display(df.sample(6,random_state=13))"
   ]
  },
  {
   "cell_type": "code",
   "execution_count": null,
   "metadata": {},
   "outputs": [],
   "source": [
    "sns.kdeplot(df[\"sepal-width\"], hue=df[\"species\"])\n",
    "\n",
    "plt.show()"
   ]
  },
  {
   "cell_type": "code",
   "execution_count": null,
   "metadata": {},
   "outputs": [],
   "source": [
    "fig = sns.PairGrid(df, hue=\"species\", height=1.5)\n",
    "\n",
    "fig.map_upper(sns.scatterplot)\n",
    "fig.map_diag(sns.kdeplot)\n",
    "fig.map_lower(sns.kdeplot)\n",
    "fig.add_legend()\n",
    "\n",
    "plt.show()"
   ]
  },
  {
   "cell_type": "code",
   "execution_count": null,
   "metadata": {},
   "outputs": [],
   "source": [
    "sns.heatmap(df.corr(),vmin=-1,vmax=1,annot=True)\n",
    "\n",
    "plt.show()"
   ]
  },
  {
   "cell_type": "code",
   "execution_count": 61,
   "metadata": {},
   "outputs": [
    {
     "name": "stdout",
     "output_type": "stream",
     "text": [
      "For all data combined:\t corr = -0.428, sig = 0.000\n",
      "For species setosa:\t corr = 0.178, sig = 0.217\n",
      "For species versicolor:\t corr = 0.561, sig = 0.000\n",
      "For species virginica:\t corr = 0.401, sig = 0.004\n"
     ]
    }
   ],
   "source": [
    "tot_corr = stats.pearsonr(df[\"sepal-width\"], df[\"petal-length\"])\n",
    "\n",
    "print(f\"For all data combined:\\t corr = {tot_corr[0]:.3f},\",\n",
    "      f\"sig = {tot_corr[1]:.3f}\")\n",
    "\n",
    "for flower in df[\"species\"].unique():\n",
    "    corr = stats.pearsonr(df[df[\"species\"]==flower][\"sepal-width\"],\n",
    "                          df[df[\"species\"]==flower][\"petal-length\"])\n",
    "\n",
    "    print(f\"For species {flower}:\\t corr = {corr[0]:.3f},\",\n",
    "          f\"sig = {corr[1]:.3f}\")"
   ]
  },
  {
   "cell_type": "markdown",
   "metadata": {},
   "source": [
    "## Comparing distinct groups"
   ]
  },
  {
   "cell_type": "code",
   "execution_count": 62,
   "metadata": {},
   "outputs": [
    {
     "data": {
      "text/plain": [
       "Ttest_indResult(statistic=1.2753736993876346, pvalue=0.20651699514080454)"
      ]
     },
     "execution_count": 62,
     "metadata": {},
     "output_type": "execute_result"
    }
   ],
   "source": [
    "stats.ttest_ind_from_stats(mean1=34.0, std1=20, nobs1=50,\n",
    "                     mean2=28.0, std2=10, nobs2=20)"
   ]
  },
  {
   "cell_type": "markdown",
   "metadata": {},
   "source": [
    "### Analysis of variance"
   ]
  },
  {
   "cell_type": "code",
   "execution_count": null,
   "metadata": {},
   "outputs": [],
   "source": [
    "sns.boxplot(x=df[\"species\"], y=df[\"sepal-width\"])\n",
    "\n",
    "plt.show()"
   ]
  },
  {
   "cell_type": "code",
   "execution_count": 66,
   "metadata": {},
   "outputs": [
    {
     "data": {
      "text/plain": [
       "F_onewayResult(statistic=49.160040089612075, pvalue=4.492017133309115e-17)"
      ]
     },
     "execution_count": 66,
     "metadata": {},
     "output_type": "execute_result"
    }
   ],
   "source": [
    "x = df.groupby(\"species\")[\"sepal-width\"].apply(list)\n",
    "\n",
    "stats.f_oneway(x[\"setosa\"],x[\"versicolor\"],x[\"virginica\"])"
   ]
  },
  {
   "cell_type": "markdown",
   "metadata": {},
   "source": [
    "## Summary "
   ]
  },
  {
   "cell_type": "markdown",
   "metadata": {},
   "source": [
    "# Further reading in visualisation"
   ]
  },
  {
   "cell_type": "markdown",
   "metadata": {},
   "source": [
    "# Extensions and reflections "
   ]
  }
 ],
 "metadata": {
  "kernelspec": {
   "display_name": "Python 3 (ipykernel)",
   "language": "python",
   "name": "python3"
  },
  "language_info": {
   "codemirror_mode": {
    "name": "ipython",
    "version": 3
   },
   "file_extension": ".py",
   "mimetype": "text/x-python",
   "name": "python",
   "nbconvert_exporter": "python",
   "pygments_lexer": "ipython3",
   "version": "3.9.7"
  },
  "toc-autonumbering": true
 },
 "nbformat": 4,
 "nbformat_minor": 4
}
