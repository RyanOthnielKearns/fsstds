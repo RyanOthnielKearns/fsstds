{
 "cells": [
  {
   "cell_type": "markdown",
   "metadata": {},
   "source": [
    "<span style=\"font-size: 20pt;\"><span style=\"font-weight: bold;\">Chapter 4.</span>File Types: Getting data in</span>\n",
    "\n",
    "Last update: 12 January 2024\n",
    "\n",
    "Thank you for checking out the code for: \n",
    "\n",
    "> Hogan, Bernie (2023) _From Social Science to Data Science_. London, UK. Sage Publications. \n",
    "\n",
    "This notebook contains the code from the book, along with the headers and additional author notes that are not in the book as a way to help navigate the code. You can run this notebook in a browser by clicking the buttons below. \n",
    "    \n",
    "The version that is uploaded to GitHub should have all the results pasted, but the best way to follow along is to clear all outputs and then start afresh. To do this in Jupyter go the menu and select \"Kernel -> Restart Kernel and Clear all Outputs...\". To do this on Google Colab go to the menu and select \"Edit -> Clear all outputs\".\n",
    "    \n",
    "The most up-to-date version of this code can be found at https://www.github.com/berniehogan/fsstds \n",
    "\n",
    "Additional resources and teaching materials can be found on Sage's forthcoming website for this book. \n",
    "\n",
    "All code for the book and derivative code on the book's repository is released open source under the  MIT license. \n",
    "    \n",
    "\n",
    "[![Binder](https://mybinder.org/badge.svg)](https://mybinder.org/v2/gh/berniehogan/fsstds/main?filepath=chapters%2FCh.04.FileTypes.ipynb)[![Colab](https://colab.research.google.com/assets/colab-badge.svg)](https://colab.research.google.com/github/berniehogan/fsstds/blob/main/chapters/Ch.04.FileTypes.ipynb)"
   ]
  },
  {
   "cell_type": "markdown",
   "metadata": {
    "jp-MarkdownHeadingCollapsed": true,
    "tags": []
   },
   "source": [
    "<span style=\"font-size: 20pt;\">📺 YouTube Video lecture for this chapter 📺</span>\n",
    "\n",
    "(Please note: The volume seems a little high on this one)"
   ]
  },
  {
   "cell_type": "code",
   "execution_count": 45,
   "metadata": {
    "tags": []
   },
   "outputs": [
    {
     "data": {
      "image/jpeg": "[encoded data removed]",
      "text/html": [
       "\n",
       "        <iframe\n",
       "            width=\"400\"\n",
       "            height=\"300\"\n",
       "            src=\"https://www.youtube.com/embed/6sJzb56GHwQ\"\n",
       "            frameborder=\"0\"\n",
       "            allowfullscreen\n",
       "            \n",
       "        ></iframe>\n",
       "        "
      ],
      "text/plain": [
       "<IPython.lib.display.YouTubeVideo at 0x11efcf5d0>"
      ]
     },
     "execution_count": 45,
     "metadata": {},
     "output_type": "execute_result"
    }
   ],
   "source": [
    "from IPython.display import YouTubeVideo\n",
    "\n",
    "YouTubeVideo('6sJzb56GHwQ')"
   ]
  },
  {
   "cell_type": "markdown",
   "metadata": {},
   "source": [
    "# Importing Data to a DataFrame"
   ]
  },
  {
   "cell_type": "markdown",
   "metadata": {},
   "source": [
    "## A important note on file organisation\n",
    "\n",
    "Excerpt from the book:\n",
    "\n",
    "> \"Starting with this chapter I will be making use of existing data. This data is available on the webpage for this book, even if it is drawn from publicly available sources. You should store this data in a folder adjacent to the folder where you store your Jupyter notebooks, not in the same folder as the notebooks. This keeps your files and your data much more organised. I have opted to do that with the code below. So if this file is in a folder called '`chapters`' under a folder called `'book'`, then you should also have a folder called `'data'` under `'book'`, like so: \n",
    "\n",
    "~~~\n",
    "book\n",
    " |- chapters\n",
    " |- data\n",
    " |- exercises\n",
    " |- etc.\n",
    "~~~"
   ]
  },
  {
   "cell_type": "code",
   "execution_count": 1,
   "metadata": {
    "tags": []
   },
   "outputs": [],
   "source": [
    "from pathlib import Path "
   ]
  },
  {
   "cell_type": "code",
   "execution_count": 2,
   "metadata": {
    "tags": []
   },
   "outputs": [
    {
     "name": "stdout",
     "output_type": "stream",
     "text": [
      "The data directory can be found at: /Users/berniehogan/Documents/github/fsstds/data.\n"
     ]
    }
   ],
   "source": [
    "data_dir = Path.cwd().parent / \"data\"\n",
    "\n",
    "try:\n",
    "    if not data_dir.exists(): data_dir.mkdir()\n",
    "except:\n",
    "    print(f\"There was an issue creating the directory at {data_dir}\")\n",
    "else:\n",
    "    print(f\"The data directory can be found at: {data_dir}.\")"
   ]
  },
  {
   "cell_type": "markdown",
   "metadata": {},
   "source": [
    "## Example data \n",
    "\n",
    "Excerpt from the book: \n",
    "> \"This chapter uses example data from places online where the data is freely available for secondary use. These will be available in the GitHub repository for this book. The path for the data folder is https://github.com/berniehogan/fsstds/tree/main/data . From here you can download the example files one by one. If you \"clone\" the repository and you have a copy of GitHub desktop (or know how to use GitHub from the command line) you can then copy the entire repository, which will include the data as well as all the notebooks with the paths in the correct place. To remind, these notebooks primarily contain the code. The book itself is available through Sage.\""
   ]
  },
  {
   "cell_type": "markdown",
   "metadata": {},
   "source": [
    "# Rectangular data: CSV "
   ]
  },
  {
   "cell_type": "markdown",
   "metadata": {},
   "source": [
    "## Using the `csv` library "
   ]
  },
  {
   "cell_type": "code",
   "execution_count": 3,
   "metadata": {
    "tags": []
   },
   "outputs": [],
   "source": [
    "import csv"
   ]
  },
  {
   "cell_type": "code",
   "execution_count": 4,
   "metadata": {
    "tags": []
   },
   "outputs": [
    {
     "name": "stdout",
     "output_type": "stream",
     "text": [
      "['Name', 'Gender', 'Species', 'Appearance']\n",
      "['Fozzie', 'Male', 'Bear', '1976']\n",
      "['Kermit', 'Male', 'Frog', '1955']\n",
      "['Piggy', 'Female', 'Pig', '1974']\n",
      "['Gonzo', 'Male', '', '1970']\n",
      "['Rowlf', 'Male', 'Dog', '1962']\n",
      "['Beaker', '', 'Muppet', '1977']\n",
      "['Janice', 'Female', 'Muppet', '1975']\n",
      "['Hilda', 'Female', 'Muppet', '1976']\n"
     ]
    }
   ],
   "source": [
    "with open(data_dir / \"MuppetsTable_simple.csv\") as filein:\n",
    "    file_reader = csv.reader(filein, delimiter=',', quotechar='\"')\n",
    "    for row in file_reader:\n",
    "        print(row)"
   ]
  },
  {
   "cell_type": "markdown",
   "metadata": {},
   "source": [
    "### CSV and Quote characters "
   ]
  },
  {
   "cell_type": "code",
   "execution_count": 5,
   "metadata": {
    "tags": []
   },
   "outputs": [
    {
     "name": "stdout",
     "output_type": "stream",
     "text": [
      "5 ['Name', 'Gender', 'Species', 'Appearance', 'Notable Phrase']\n",
      "5 ['Fozzie', 'Male', 'Bear', '1976', 'Wocka, Wokca!']\n",
      "5 ['Kermit', 'Male', 'Frog', '1955', \"It's not easy being green.\"]\n",
      "6 ['Piggy', 'Female', 'Pig', '1974', '“I don’t care what you think of me', ' unless you think I’m awesome. In which case you are right.”']\n",
      "5 ['Gonzo', 'Male', '', '1970', 'Weirdos have more fun.']\n",
      "6 ['Rowlf', 'Male', 'Dog', '1962', '“Boy', ' is this piano outta tune! I love outta tune pianos.”']\n",
      "5 ['Beaker', '', 'Muppet', '1977', 'Meep']\n",
      "5 ['Janice', 'Female', 'Muppet', '1975', 'Groovy, man']\n",
      "5 ['Hilda', 'Female', 'Muppet', '1976', \"Gonzo, aren't you a little old to carry around a teddy bear?\"]\n"
     ]
    }
   ],
   "source": [
    "with open(data_dir / \"MuppetsTable_broken.csv\") as filein:\n",
    "    file_reader = csv.reader(filein)\n",
    "    for row in file_reader:\n",
    "        print(len(row),row)"
   ]
  },
  {
   "cell_type": "code",
   "execution_count": 6,
   "metadata": {
    "tags": []
   },
   "outputs": [],
   "source": [
    "with open(data_dir / \"MuppetsTable_broken.csv\") as filein:\n",
    "    new_table = filein.read().replace('“','\"').replace('”','\"')\n",
    "\n",
    "    fileout = open(data_dir / \"MuppetsTable_fixed.csv\",'w')\n",
    "    fileout.write(new_table)\n",
    "    fileout.close()"
   ]
  },
  {
   "cell_type": "code",
   "execution_count": 7,
   "metadata": {
    "tags": []
   },
   "outputs": [
    {
     "name": "stdout",
     "output_type": "stream",
     "text": [
      "5 ['Name', 'Gender', 'Species', 'Appearance', 'Notable Phrase']\n",
      "5 ['Fozzie', 'Male', 'Bear', '1976', 'Wocka, Wokca!']\n",
      "5 ['Kermit', 'Male', 'Frog', '1955', \"It's not easy being green.\"]\n",
      "5 ['Piggy', 'Female', 'Pig', '1974', 'I don’t care what you think of me, unless you think I’m awesome. In which case you are right.']\n",
      "5 ['Gonzo', 'Male', '', '1970', 'Weirdos have more fun.']\n",
      "5 ['Rowlf', 'Male', 'Dog', '1962', 'Boy, is this piano outta tune! I love outta tune pianos.']\n",
      "5 ['Beaker', '', 'Muppet', '1977', 'Meep']\n",
      "5 ['Janice', 'Female', 'Muppet', '1975', 'Groovy, man']\n",
      "5 ['Hilda', 'Female', 'Muppet', '1976', \"Gonzo, aren't you a little old to carry around a teddy bear?\"]\n"
     ]
    }
   ],
   "source": [
    "with open(data_dir / \"MuppetsTable_fixed.csv\") as filein:\n",
    "    file_reader = csv.reader(filein)\n",
    "    for row in file_reader:\n",
    "        print(len(row), row)"
   ]
  },
  {
   "cell_type": "code",
   "execution_count": 8,
   "metadata": {
    "tags": []
   },
   "outputs": [
    {
     "name": "stdout",
     "output_type": "stream",
     "text": [
      "Fozzie 1976\n",
      "Kermit 1955\n",
      "Piggy 1974\n",
      "Gonzo 1970\n",
      "Rowlf 1962\n",
      "Beaker 1977\n",
      "Janice 1975\n",
      "Hilda 1976\n"
     ]
    }
   ],
   "source": [
    "with open(data_dir / \"MuppetsTable_fixed.csv\") as filein:\n",
    "    reader = csv.DictReader(filein)\n",
    "    for row in reader:\n",
    "        print(row['Name'], row['Appearance'])"
   ]
  },
  {
   "cell_type": "markdown",
   "metadata": {},
   "source": [
    "## Using the Pandas CSV reader: `read_csv()` "
   ]
  },
  {
   "cell_type": "code",
   "execution_count": 9,
   "metadata": {
    "tags": []
   },
   "outputs": [],
   "source": [
    "import pandas as pd "
   ]
  },
  {
   "cell_type": "code",
   "execution_count": 10,
   "metadata": {
    "tags": []
   },
   "outputs": [
    {
     "data": {
      "text/html": [
       "<div>\n",
       "<style scoped>\n",
       "    .dataframe tbody tr th:only-of-type {\n",
       "        vertical-align: middle;\n",
       "    }\n",
       "\n",
       "    .dataframe tbody tr th {\n",
       "        vertical-align: top;\n",
       "    }\n",
       "\n",
       "    .dataframe thead th {\n",
       "        text-align: right;\n",
       "    }\n",
       "</style>\n",
       "<table border=\"1\" class=\"dataframe\">\n",
       "  <thead>\n",
       "    <tr style=\"text-align: right;\">\n",
       "      <th></th>\n",
       "      <th>Name</th>\n",
       "      <th>Gender</th>\n",
       "      <th>Species</th>\n",
       "      <th>Appearance</th>\n",
       "    </tr>\n",
       "  </thead>\n",
       "  <tbody>\n",
       "    <tr>\n",
       "      <th>0</th>\n",
       "      <td>Fozzie</td>\n",
       "      <td>Male</td>\n",
       "      <td>Bear</td>\n",
       "      <td>1976</td>\n",
       "    </tr>\n",
       "    <tr>\n",
       "      <th>1</th>\n",
       "      <td>Kermit</td>\n",
       "      <td>Male</td>\n",
       "      <td>Frog</td>\n",
       "      <td>1955</td>\n",
       "    </tr>\n",
       "    <tr>\n",
       "      <th>2</th>\n",
       "      <td>Piggy</td>\n",
       "      <td>Female</td>\n",
       "      <td>Pig</td>\n",
       "      <td>1974</td>\n",
       "    </tr>\n",
       "    <tr>\n",
       "      <th>3</th>\n",
       "      <td>Gonzo</td>\n",
       "      <td>Male</td>\n",
       "      <td>NaN</td>\n",
       "      <td>1970</td>\n",
       "    </tr>\n",
       "    <tr>\n",
       "      <th>4</th>\n",
       "      <td>Rowlf</td>\n",
       "      <td>Male</td>\n",
       "      <td>Dog</td>\n",
       "      <td>1962</td>\n",
       "    </tr>\n",
       "    <tr>\n",
       "      <th>5</th>\n",
       "      <td>Beaker</td>\n",
       "      <td>NaN</td>\n",
       "      <td>Muppet</td>\n",
       "      <td>1977</td>\n",
       "    </tr>\n",
       "    <tr>\n",
       "      <th>6</th>\n",
       "      <td>Janice</td>\n",
       "      <td>Female</td>\n",
       "      <td>Muppet</td>\n",
       "      <td>1975</td>\n",
       "    </tr>\n",
       "    <tr>\n",
       "      <th>7</th>\n",
       "      <td>Hilda</td>\n",
       "      <td>Female</td>\n",
       "      <td>Muppet</td>\n",
       "      <td>1976</td>\n",
       "    </tr>\n",
       "  </tbody>\n",
       "</table>\n",
       "</div>"
      ],
      "text/plain": [
       "     Name  Gender Species  Appearance\n",
       "0  Fozzie    Male    Bear        1976\n",
       "1  Kermit    Male    Frog        1955\n",
       "2   Piggy  Female     Pig        1974\n",
       "3   Gonzo    Male     NaN        1970\n",
       "4   Rowlf    Male     Dog        1962\n",
       "5  Beaker     NaN  Muppet        1977\n",
       "6  Janice  Female  Muppet        1975\n",
       "7   Hilda  Female  Muppet        1976"
      ]
     },
     "metadata": {},
     "output_type": "display_data"
    }
   ],
   "source": [
    "df = pd.read_csv(data_dir / \"MuppetsTable_fixed.csv\") \n",
    "display(df.iloc[:,:4]) # Using iloc to get first four columns."
   ]
  },
  {
   "cell_type": "markdown",
   "metadata": {},
   "source": [
    "# Rectangular rich data: Excel "
   ]
  },
  {
   "cell_type": "code",
   "execution_count": 11,
   "metadata": {
    "tags": []
   },
   "outputs": [
    {
     "name": "stdout",
     "output_type": "stream",
     "text": [
      "<class 'pandas.core.frame.DataFrame'>\n",
      "RangeIndex: 1069 entries, 0 to 1068\n",
      "Data columns (total 14 columns):\n",
      " #   Column         Non-Null Count  Dtype \n",
      "---  ------         --------------  ----- \n",
      " 0   Country Name   1066 non-null   object\n",
      " 1   Country Code   1064 non-null   object\n",
      " 2   Series Name    1064 non-null   object\n",
      " 3   Series Code    1064 non-null   object\n",
      " 4   2011 [YR2011]  1064 non-null   object\n",
      " 5   2012 [YR2012]  1064 non-null   object\n",
      " 6   2013 [YR2013]  1064 non-null   object\n",
      " 7   2014 [YR2014]  1064 non-null   object\n",
      " 8   2015 [YR2015]  1064 non-null   object\n",
      " 9   2016 [YR2016]  1064 non-null   object\n",
      " 10  2017 [YR2017]  1064 non-null   object\n",
      " 11  2018 [YR2018]  1064 non-null   object\n",
      " 12  2019 [YR2019]  1064 non-null   object\n",
      " 13  2020 [YR2020]  1064 non-null   object\n",
      "dtypes: object(14)\n",
      "memory usage: 117.1+ KB\n"
     ]
    },
    {
     "data": {
      "text/plain": [
       "None"
      ]
     },
     "metadata": {},
     "output_type": "display_data"
    }
   ],
   "source": [
    "wb_df = pd.read_excel(data_dir / \"World Bank Indicators 2012-2021.xlsx\")\n",
    "\n",
    "display(wb_df.info())"
   ]
  },
  {
   "cell_type": "code",
   "execution_count": 12,
   "metadata": {
    "tags": []
   },
   "outputs": [
    {
     "data": {
      "text/html": [
       "<div>\n",
       "<style scoped>\n",
       "    .dataframe tbody tr th:only-of-type {\n",
       "        vertical-align: middle;\n",
       "    }\n",
       "\n",
       "    .dataframe tbody tr th {\n",
       "        vertical-align: top;\n",
       "    }\n",
       "\n",
       "    .dataframe thead th {\n",
       "        text-align: right;\n",
       "    }\n",
       "</style>\n",
       "<table border=\"1\" class=\"dataframe\">\n",
       "  <thead>\n",
       "    <tr style=\"text-align: right;\">\n",
       "      <th></th>\n",
       "      <th>Country Name</th>\n",
       "      <th>Country Code</th>\n",
       "      <th>Series Name</th>\n",
       "    </tr>\n",
       "  </thead>\n",
       "  <tbody>\n",
       "    <tr>\n",
       "      <th>0</th>\n",
       "      <td>Afghanistan</td>\n",
       "      <td>AFG</td>\n",
       "      <td>Population, total</td>\n",
       "    </tr>\n",
       "    <tr>\n",
       "      <th>1</th>\n",
       "      <td>Afghanistan</td>\n",
       "      <td>AFG</td>\n",
       "      <td>Total greenhouse gas emissions (kt of CO2 equi...</td>\n",
       "    </tr>\n",
       "    <tr>\n",
       "      <th>2</th>\n",
       "      <td>Afghanistan</td>\n",
       "      <td>AFG</td>\n",
       "      <td>GNI, Atlas method (current US$)</td>\n",
       "    </tr>\n",
       "    <tr>\n",
       "      <th>3</th>\n",
       "      <td>Afghanistan</td>\n",
       "      <td>AFG</td>\n",
       "      <td>Individuals using the Internet (% of population)</td>\n",
       "    </tr>\n",
       "    <tr>\n",
       "      <th>4</th>\n",
       "      <td>Albania</td>\n",
       "      <td>ALB</td>\n",
       "      <td>Population, total</td>\n",
       "    </tr>\n",
       "    <tr>\n",
       "      <th>...</th>\n",
       "      <td>...</td>\n",
       "      <td>...</td>\n",
       "      <td>...</td>\n",
       "    </tr>\n",
       "    <tr>\n",
       "      <th>1064</th>\n",
       "      <td>NaN</td>\n",
       "      <td>NaN</td>\n",
       "      <td>NaN</td>\n",
       "    </tr>\n",
       "    <tr>\n",
       "      <th>1065</th>\n",
       "      <td>NaN</td>\n",
       "      <td>NaN</td>\n",
       "      <td>NaN</td>\n",
       "    </tr>\n",
       "    <tr>\n",
       "      <th>1066</th>\n",
       "      <td>NaN</td>\n",
       "      <td>NaN</td>\n",
       "      <td>NaN</td>\n",
       "    </tr>\n",
       "    <tr>\n",
       "      <th>1067</th>\n",
       "      <td>Data from database: World Development Indicators</td>\n",
       "      <td>NaN</td>\n",
       "      <td>NaN</td>\n",
       "    </tr>\n",
       "    <tr>\n",
       "      <th>1068</th>\n",
       "      <td>Last Updated: 04/08/2022</td>\n",
       "      <td>NaN</td>\n",
       "      <td>NaN</td>\n",
       "    </tr>\n",
       "  </tbody>\n",
       "</table>\n",
       "<p>1069 rows × 3 columns</p>\n",
       "</div>"
      ],
      "text/plain": [
       "                                          Country Name Country Code  \\\n",
       "0                                          Afghanistan          AFG   \n",
       "1                                          Afghanistan          AFG   \n",
       "2                                          Afghanistan          AFG   \n",
       "3                                          Afghanistan          AFG   \n",
       "4                                              Albania          ALB   \n",
       "...                                                ...          ...   \n",
       "1064                                               NaN          NaN   \n",
       "1065                                               NaN          NaN   \n",
       "1066                                               NaN          NaN   \n",
       "1067  Data from database: World Development Indicators          NaN   \n",
       "1068                          Last Updated: 04/08/2022          NaN   \n",
       "\n",
       "                                            Series Name  \n",
       "0                                     Population, total  \n",
       "1     Total greenhouse gas emissions (kt of CO2 equi...  \n",
       "2                       GNI, Atlas method (current US$)  \n",
       "3      Individuals using the Internet (% of population)  \n",
       "4                                     Population, total  \n",
       "...                                                 ...  \n",
       "1064                                                NaN  \n",
       "1065                                                NaN  \n",
       "1066                                                NaN  \n",
       "1067                                                NaN  \n",
       "1068                                                NaN  \n",
       "\n",
       "[1069 rows x 3 columns]"
      ]
     },
     "metadata": {},
     "output_type": "display_data"
    }
   ],
   "source": [
    "display(wb_df.iloc[:,:3])"
   ]
  },
  {
   "cell_type": "code",
   "execution_count": 13,
   "metadata": {
    "tags": []
   },
   "outputs": [
    {
     "data": {
      "text/html": [
       "<div>\n",
       "<style scoped>\n",
       "    .dataframe tbody tr th:only-of-type {\n",
       "        vertical-align: middle;\n",
       "    }\n",
       "\n",
       "    .dataframe tbody tr th {\n",
       "        vertical-align: top;\n",
       "    }\n",
       "\n",
       "    .dataframe thead th {\n",
       "        text-align: right;\n",
       "    }\n",
       "</style>\n",
       "<table border=\"1\" class=\"dataframe\">\n",
       "  <thead>\n",
       "    <tr style=\"text-align: right;\">\n",
       "      <th></th>\n",
       "      <th>Country Name</th>\n",
       "      <th>Country Code</th>\n",
       "      <th>Series Name</th>\n",
       "      <th>Series Code</th>\n",
       "    </tr>\n",
       "  </thead>\n",
       "  <tbody>\n",
       "    <tr>\n",
       "      <th>1062</th>\n",
       "      <td>World</td>\n",
       "      <td>WLD</td>\n",
       "      <td>GNI, Atlas method (current US$)</td>\n",
       "      <td>NY.GNP.ATLS.CD</td>\n",
       "    </tr>\n",
       "    <tr>\n",
       "      <th>1063</th>\n",
       "      <td>World</td>\n",
       "      <td>WLD</td>\n",
       "      <td>Individuals using the Internet (% of population)</td>\n",
       "      <td>IT.NET.USER.ZS</td>\n",
       "    </tr>\n",
       "    <tr>\n",
       "      <th>1064</th>\n",
       "      <td>NaN</td>\n",
       "      <td>NaN</td>\n",
       "      <td>NaN</td>\n",
       "      <td>NaN</td>\n",
       "    </tr>\n",
       "    <tr>\n",
       "      <th>1065</th>\n",
       "      <td>NaN</td>\n",
       "      <td>NaN</td>\n",
       "      <td>NaN</td>\n",
       "      <td>NaN</td>\n",
       "    </tr>\n",
       "    <tr>\n",
       "      <th>1066</th>\n",
       "      <td>NaN</td>\n",
       "      <td>NaN</td>\n",
       "      <td>NaN</td>\n",
       "      <td>NaN</td>\n",
       "    </tr>\n",
       "    <tr>\n",
       "      <th>1067</th>\n",
       "      <td>Data from database: World Development Indicators</td>\n",
       "      <td>NaN</td>\n",
       "      <td>NaN</td>\n",
       "      <td>NaN</td>\n",
       "    </tr>\n",
       "    <tr>\n",
       "      <th>1068</th>\n",
       "      <td>Last Updated: 04/08/2022</td>\n",
       "      <td>NaN</td>\n",
       "      <td>NaN</td>\n",
       "      <td>NaN</td>\n",
       "    </tr>\n",
       "  </tbody>\n",
       "</table>\n",
       "</div>"
      ],
      "text/plain": [
       "                                          Country Name Country Code  \\\n",
       "1062                                             World          WLD   \n",
       "1063                                             World          WLD   \n",
       "1064                                               NaN          NaN   \n",
       "1065                                               NaN          NaN   \n",
       "1066                                               NaN          NaN   \n",
       "1067  Data from database: World Development Indicators          NaN   \n",
       "1068                          Last Updated: 04/08/2022          NaN   \n",
       "\n",
       "                                           Series Name     Series Code  \n",
       "1062                   GNI, Atlas method (current US$)  NY.GNP.ATLS.CD  \n",
       "1063  Individuals using the Internet (% of population)  IT.NET.USER.ZS  \n",
       "1064                                               NaN             NaN  \n",
       "1065                                               NaN             NaN  \n",
       "1066                                               NaN             NaN  \n",
       "1067                                               NaN             NaN  \n",
       "1068                                               NaN             NaN  "
      ]
     },
     "execution_count": 13,
     "metadata": {},
     "output_type": "execute_result"
    }
   ],
   "source": [
    "wb_df.iloc[:,:4].tail(7)"
   ]
  },
  {
   "cell_type": "code",
   "execution_count": 14,
   "metadata": {
    "tags": []
   },
   "outputs": [],
   "source": [
    "# Remember the [:-5] is what slices off the last five rows\n",
    "wb_df.iloc[:-5].to_excel(data_dir / \"Cleaned_Popular_Indicators.xlsx\",\n",
    "                        index=False)"
   ]
  },
  {
   "cell_type": "markdown",
   "metadata": {},
   "source": [
    "# Nested data: `JSON` (JavaScript Object Notation)"
   ]
  },
  {
   "cell_type": "markdown",
   "metadata": {},
   "source": [
    "## Loading JSON"
   ]
  },
  {
   "cell_type": "code",
   "execution_count": 15,
   "metadata": {
    "tags": []
   },
   "outputs": [
    {
     "data": {
      "text/plain": [
       "dict"
      ]
     },
     "execution_count": 15,
     "metadata": {},
     "output_type": "execute_result"
    }
   ],
   "source": [
    "import json \n",
    "\n",
    "mdata = json.loads(open(data_dir / \"omdb_Muppet_search_page_1.json\").read())\n",
    "type(mdata)"
   ]
  },
  {
   "cell_type": "code",
   "execution_count": 16,
   "metadata": {
    "tags": []
   },
   "outputs": [
    {
     "name": "stdout",
     "output_type": "stream",
     "text": [
      "{\n",
      "  \"Search\": [\n",
      "    {\n",
      "      \"Title\": \"The Muppet Christmas Carol\",\n",
      "      \"Year\": \"1992\",\n",
      "      \"imdbID\": \"tt0104940\",\n",
      "      \"Type\": \"movie\"\n",
      "    },\n",
      "    {\n",
      "      \"Title\": \"The Muppet Movie\",\n",
      "      \"Year\": \"1979\",\n",
      "      \"imdbID\": \"tt0079588\",\n",
      "      \"Type\": \"movie\"\n",
      "    },\n",
      "    {\n",
      "      \"Title\": \"The Muppet\n"
     ]
    }
   ],
   "source": [
    "print(json.dumps(mdata,indent=2)[:300])"
   ]
  },
  {
   "cell_type": "code",
   "execution_count": 17,
   "metadata": {
    "tags": []
   },
   "outputs": [
    {
     "data": {
      "text/plain": [
       "dict_keys(['Search', 'totalResults', 'Response'])"
      ]
     },
     "execution_count": 17,
     "metadata": {},
     "output_type": "execute_result"
    }
   ],
   "source": [
    "mdata.keys()"
   ]
  },
  {
   "cell_type": "code",
   "execution_count": 18,
   "metadata": {
    "tags": []
   },
   "outputs": [
    {
     "name": "stdout",
     "output_type": "stream",
     "text": [
      "62 True\n"
     ]
    }
   ],
   "source": [
    "print(mdata['totalResults'],\n",
    "      mdata['Response'])"
   ]
  },
  {
   "cell_type": "code",
   "execution_count": 19,
   "metadata": {
    "tags": []
   },
   "outputs": [
    {
     "name": "stdout",
     "output_type": "stream",
     "text": [
      "{'Title': 'The Muppet Christmas Carol', 'Year': '1992', 'imdbID': 'tt0104940', 'Type': 'movie'}\n"
     ]
    }
   ],
   "source": [
    "print(mdata['Search'][0])"
   ]
  },
  {
   "cell_type": "code",
   "execution_count": 20,
   "metadata": {
    "tags": []
   },
   "outputs": [
    {
     "name": "stdout",
     "output_type": "stream",
     "text": [
      "{\n",
      "  \"Title\": \"The Muppet Christmas Carol\",\n",
      "  \"Year\": \"1992\",\n",
      "  \"imdbID\": \"tt0104940\",\n",
      "  \"Type\": \"movie\"\n",
      "}\n"
     ]
    }
   ],
   "source": [
    "print(json.dumps(mdata['Search'][0],indent=2))"
   ]
  },
  {
   "cell_type": "code",
   "execution_count": 21,
   "metadata": {
    "tags": []
   },
   "outputs": [],
   "source": [
    "results = { \"Search\":[\n",
    "                 {\"Title\":\"Ghosts of Hidden Valley\",\n",
    "                  \"Year\":2010},\n",
    "                 {\"Title\":\"The Perspex Event\",\n",
    "                  \"Year\":2018}]\n",
    "          }"
   ]
  },
  {
   "cell_type": "code",
   "execution_count": 22,
   "metadata": {
    "tags": []
   },
   "outputs": [
    {
     "data": {
      "text/html": [
       "<div>\n",
       "<style scoped>\n",
       "    .dataframe tbody tr th:only-of-type {\n",
       "        vertical-align: middle;\n",
       "    }\n",
       "\n",
       "    .dataframe tbody tr th {\n",
       "        vertical-align: top;\n",
       "    }\n",
       "\n",
       "    .dataframe thead th {\n",
       "        text-align: right;\n",
       "    }\n",
       "</style>\n",
       "<table border=\"1\" class=\"dataframe\">\n",
       "  <thead>\n",
       "    <tr style=\"text-align: right;\">\n",
       "      <th></th>\n",
       "      <th>Title</th>\n",
       "      <th>Year</th>\n",
       "    </tr>\n",
       "  </thead>\n",
       "  <tbody>\n",
       "    <tr>\n",
       "      <th>0</th>\n",
       "      <td>Ghosts of Hidden Valley</td>\n",
       "      <td>2010</td>\n",
       "    </tr>\n",
       "    <tr>\n",
       "      <th>1</th>\n",
       "      <td>The Perspex Event</td>\n",
       "      <td>2018</td>\n",
       "    </tr>\n",
       "  </tbody>\n",
       "</table>\n",
       "</div>"
      ],
      "text/plain": [
       "                     Title  Year\n",
       "0  Ghosts of Hidden Valley  2010\n",
       "1        The Perspex Event  2018"
      ]
     },
     "execution_count": 22,
     "metadata": {},
     "output_type": "execute_result"
    }
   ],
   "source": [
    "pd.json_normalize(results[\"Search\"])"
   ]
  },
  {
   "cell_type": "code",
   "execution_count": 23,
   "metadata": {
    "tags": []
   },
   "outputs": [
    {
     "data": {
      "text/html": [
       "<div>\n",
       "<style scoped>\n",
       "    .dataframe tbody tr th:only-of-type {\n",
       "        vertical-align: middle;\n",
       "    }\n",
       "\n",
       "    .dataframe tbody tr th {\n",
       "        vertical-align: top;\n",
       "    }\n",
       "\n",
       "    .dataframe thead th {\n",
       "        text-align: right;\n",
       "    }\n",
       "</style>\n",
       "<table border=\"1\" class=\"dataframe\">\n",
       "  <thead>\n",
       "    <tr style=\"text-align: right;\">\n",
       "      <th></th>\n",
       "      <th>Title</th>\n",
       "      <th>Year</th>\n",
       "      <th>imdbID</th>\n",
       "    </tr>\n",
       "  </thead>\n",
       "  <tbody>\n",
       "    <tr>\n",
       "      <th>0</th>\n",
       "      <td>The Muppet Christmas Carol</td>\n",
       "      <td>1992</td>\n",
       "      <td>tt0104940</td>\n",
       "    </tr>\n",
       "    <tr>\n",
       "      <th>1</th>\n",
       "      <td>The Muppet Movie</td>\n",
       "      <td>1979</td>\n",
       "      <td>tt0079588</td>\n",
       "    </tr>\n",
       "    <tr>\n",
       "      <th>2</th>\n",
       "      <td>The Muppet Show</td>\n",
       "      <td>1976–1981</td>\n",
       "      <td>tt0074028</td>\n",
       "    </tr>\n",
       "    <tr>\n",
       "      <th>3</th>\n",
       "      <td>Muppet Treasure Island</td>\n",
       "      <td>1996</td>\n",
       "      <td>tt0117110</td>\n",
       "    </tr>\n",
       "    <tr>\n",
       "      <th>4</th>\n",
       "      <td>The Great Muppet Caper</td>\n",
       "      <td>1981</td>\n",
       "      <td>tt0082474</td>\n",
       "    </tr>\n",
       "    <tr>\n",
       "      <th>5</th>\n",
       "      <td>Muppet Babies</td>\n",
       "      <td>1984–2020</td>\n",
       "      <td>tt0086764</td>\n",
       "    </tr>\n",
       "    <tr>\n",
       "      <th>6</th>\n",
       "      <td>It's a Very Merry Muppet Christmas Movie</td>\n",
       "      <td>2002</td>\n",
       "      <td>tt0329737</td>\n",
       "    </tr>\n",
       "    <tr>\n",
       "      <th>7</th>\n",
       "      <td>A Muppet Family Christmas</td>\n",
       "      <td>1987</td>\n",
       "      <td>tt0251282</td>\n",
       "    </tr>\n",
       "    <tr>\n",
       "      <th>8</th>\n",
       "      <td>Muppet*vision 3-D</td>\n",
       "      <td>1991</td>\n",
       "      <td>tt0102481</td>\n",
       "    </tr>\n",
       "    <tr>\n",
       "      <th>9</th>\n",
       "      <td>Muppet Classic Theater</td>\n",
       "      <td>1994</td>\n",
       "      <td>tt0213096</td>\n",
       "    </tr>\n",
       "  </tbody>\n",
       "</table>\n",
       "</div>"
      ],
      "text/plain": [
       "                                      Title       Year     imdbID\n",
       "0                The Muppet Christmas Carol       1992  tt0104940\n",
       "1                          The Muppet Movie       1979  tt0079588\n",
       "2                           The Muppet Show  1976–1981  tt0074028\n",
       "3                    Muppet Treasure Island       1996  tt0117110\n",
       "4                    The Great Muppet Caper       1981  tt0082474\n",
       "5                             Muppet Babies  1984–2020  tt0086764\n",
       "6  It's a Very Merry Muppet Christmas Movie       2002  tt0329737\n",
       "7                 A Muppet Family Christmas       1987  tt0251282\n",
       "8                         Muppet*vision 3-D       1991  tt0102481\n",
       "9                    Muppet Classic Theater       1994  tt0213096"
      ]
     },
     "metadata": {},
     "output_type": "display_data"
    }
   ],
   "source": [
    "mdf = pd.json_normalize(mdata[\"Search\"])\n",
    "display(mdf.iloc[:,:3])"
   ]
  },
  {
   "cell_type": "code",
   "execution_count": 24,
   "metadata": {
    "tags": []
   },
   "outputs": [
    {
     "data": {
      "text/html": [
       "<div>\n",
       "<style scoped>\n",
       "    .dataframe tbody tr th:only-of-type {\n",
       "        vertical-align: middle;\n",
       "    }\n",
       "\n",
       "    .dataframe tbody tr th {\n",
       "        vertical-align: top;\n",
       "    }\n",
       "\n",
       "    .dataframe thead th {\n",
       "        text-align: right;\n",
       "    }\n",
       "</style>\n",
       "<table border=\"1\" class=\"dataframe\">\n",
       "  <thead>\n",
       "    <tr style=\"text-align: right;\">\n",
       "      <th></th>\n",
       "      <th>Search</th>\n",
       "      <th>totalResults</th>\n",
       "      <th>Response</th>\n",
       "    </tr>\n",
       "  </thead>\n",
       "  <tbody>\n",
       "    <tr>\n",
       "      <th>0</th>\n",
       "      <td>[{'Title': 'The Muppet Christmas Carol', 'Year...</td>\n",
       "      <td>62</td>\n",
       "      <td>True</td>\n",
       "    </tr>\n",
       "  </tbody>\n",
       "</table>\n",
       "</div>"
      ],
      "text/plain": [
       "                                              Search totalResults Response\n",
       "0  [{'Title': 'The Muppet Christmas Carol', 'Year...           62     True"
      ]
     },
     "execution_count": 24,
     "metadata": {},
     "output_type": "execute_result"
    }
   ],
   "source": [
    "pd.json_normalize(mdata)"
   ]
  },
  {
   "cell_type": "markdown",
   "metadata": {},
   "source": [
    "# Nested markup languages: HTML and XML "
   ]
  },
  {
   "cell_type": "markdown",
   "metadata": {},
   "source": [
    "## HTML: Hypertext Markup Language "
   ]
  },
  {
   "cell_type": "markdown",
   "metadata": {},
   "source": [
    "## Wikipedia as a data source "
   ]
  },
  {
   "cell_type": "markdown",
   "metadata": {},
   "source": [
    "## Wikipedia as HTML "
   ]
  },
  {
   "cell_type": "code",
   "execution_count": 25,
   "metadata": {
    "tags": []
   },
   "outputs": [
    {
     "name": "stdout",
     "output_type": "stream",
     "text": [
      "1091805\n"
     ]
    }
   ],
   "source": [
    "with open(data_dir / \"Canada - Wikipedia.html\") as infile: \n",
    "    wiki_HTML = infile.read()\n",
    "\n",
    "print(len(wiki_HTML))"
   ]
  },
  {
   "cell_type": "code",
   "execution_count": 26,
   "metadata": {
    "tags": []
   },
   "outputs": [
    {
     "name": "stdout",
     "output_type": "stream",
     "text": [
      "<!DOCTYPE html>\n",
      "<html class=\"client-nojs\" lang=\"en\" dir=\"ltr\">\n",
      "<head>\n",
      "<meta charset=\"UTF-8\"/>\n",
      "<title>Canada - Wikipedia</title>\n",
      "<script>document.documentElement.className=\"client-js\";RLCONF={\"wgBreakF\n"
     ]
    }
   ],
   "source": [
    "print(wiki_HTML[:200])"
   ]
  },
  {
   "cell_type": "markdown",
   "metadata": {},
   "source": [
    "## Using BeautifulSoup for markup data"
   ]
  },
  {
   "cell_type": "code",
   "execution_count": 27,
   "metadata": {
    "tags": []
   },
   "outputs": [],
   "source": [
    "import bs4"
   ]
  },
  {
   "cell_type": "code",
   "execution_count": 28,
   "metadata": {
    "tags": []
   },
   "outputs": [
    {
     "name": "stdout",
     "output_type": "stream",
     "text": [
      "Canada - Wikipedia\n",
      "4381\n"
     ]
    }
   ],
   "source": [
    "soup = bs4.BeautifulSoup(wiki_HTML, 'html.parser')\n",
    "\n",
    "print(soup.title.text)\n",
    "\n",
    "# Query the soup for all 'a' tags. (Knowing that 'a' tags refer to links)\n",
    "links = soup.find_all(\"a\")\n",
    "print(len(links))"
   ]
  },
  {
   "cell_type": "markdown",
   "metadata": {},
   "source": [
    "## Data Scepticism"
   ]
  },
  {
   "cell_type": "code",
   "execution_count": 29,
   "metadata": {
    "tags": []
   },
   "outputs": [],
   "source": [
    "import random "
   ]
  },
  {
   "cell_type": "code",
   "execution_count": 30,
   "metadata": {
    "tags": []
   },
   "outputs": [
    {
     "name": "stdout",
     "output_type": "stream",
     "text": [
      "Head:  <a id=\"top\"></a>\n",
      "Tail:  <a href=\"https://www.mediawiki.org/\"><img alt=\"Powered by MediaWiki\" height=\"31\" loading=\"lazy\" src=\"/static/images/footer/poweredby_mediawiki_88x31.png\" srcset=\"/static/images/footer/poweredby_mediawiki_132x47.png 1.5x, /static/images/footer/poweredby_mediawiki_176x62.png 2x\" width=\"88\"/></a>\n",
      "Random:  <a href=\"#cite_ref-LeattMapa2003_321-0\">^</a>\n"
     ]
    }
   ],
   "source": [
    "print(\"Head: \", links[0])\n",
    "print(\"Tail: \", links[-1])\n",
    "\n",
    "spot = random.choice(links)\n",
    "print(\"Random: \", spot)"
   ]
  },
  {
   "cell_type": "code",
   "execution_count": 31,
   "metadata": {
    "tags": []
   },
   "outputs": [
    {
     "data": {
      "text/plain": [
       "{'href': 'https://www.mediawiki.org/'}"
      ]
     },
     "execution_count": 31,
     "metadata": {},
     "output_type": "execute_result"
    }
   ],
   "source": [
    "links[-1].attrs"
   ]
  },
  {
   "cell_type": "code",
   "execution_count": 32,
   "metadata": {
    "tags": []
   },
   "outputs": [
    {
     "name": "stdout",
     "output_type": "stream",
     "text": [
      "There are 4377 'href' links in this file.\n",
      "The first 'href' link:\n",
      "<a href=\"/wiki/Wikipedia:Featured_articles\" title=\"This is a featured article. Click here for more information.\"><img alt=\"Featured article\" data-file-height=\"438\" data-file-width=\"462\" decoding=\"async\" height=\"19\" src=\"//upload.wikimedia.org/wikipedia/en/thumb/e/e7/Cscr-featured.svg/20px-Cscr-featured.svg.png\" srcset=\"//upload.wikimedia.org/wikipedia/en/thumb/e/e7/Cscr-featured.svg/30px-Cscr-featured.svg.png 1.5x, //upload.wikimedia.org/wikipedia/en/thumb/e/e7/Cscr-featured.svg/40px-Cscr-featured.svg.png 2x\" width=\"20\"/></a>\n"
     ]
    }
   ],
   "source": [
    "href_links = [x for x in soup.find_all('a') if 'href' in x.attrs]\n",
    "\n",
    "print(f\"There are {len(href_links)} 'href' links in this file.\")\n",
    "\n",
    "print(f\"The first 'href' link:\\n{href_links[0]}\")"
   ]
  },
  {
   "cell_type": "code",
   "execution_count": 33,
   "metadata": {
    "tags": []
   },
   "outputs": [
    {
     "name": "stdout",
     "output_type": "stream",
     "text": [
      "There are 950 'href' & '://' links in this file.\n",
      "The first 'href' and '://' link:\n",
      "https://en.wikipedia.org/w/index.php?title=Canada&action=edit\n"
     ]
    }
   ],
   "source": [
    "href_ext_links = [x for x in soup.find_all('a') if\n",
    "                  'href' in x.attrs and # Do this if clause first\n",
    "                  '://' in x.get('href')] # since this depends on first if\n",
    "\n",
    "print(f\"There are {len(href_ext_links)} 'href' & '://' links in this file.\")\n",
    "print(f\"The first 'href' and '://' link:\\n{href_ext_links[0].get('href')}\")"
   ]
  },
  {
   "cell_type": "code",
   "execution_count": 34,
   "metadata": {
    "tags": []
   },
   "outputs": [
    {
     "name": "stdout",
     "output_type": "stream",
     "text": [
      "There are 3427 'href' internal links in this file.\n",
      "The first 'href' internal link:\n",
      "/wiki/Wikipedia:Featured_articles\n"
     ]
    }
   ],
   "source": [
    "href_int_links = [x for x in soup.find_all('a')\n",
    "                  if 'href' in x.attrs and \"://\" not in x.get('href')]\n",
    "\n",
    "print(f\"There are {len(href_int_links)} 'href' internal links in this file.\")\n",
    "print(f\"The first 'href' internal link:\\n{href_int_links[0].get('href')}\")"
   ]
  },
  {
   "cell_type": "markdown",
   "metadata": {},
   "source": [
    "# XML"
   ]
  },
  {
   "cell_type": "code",
   "execution_count": 35,
   "metadata": {
    "tags": []
   },
   "outputs": [
    {
     "name": "stdout",
     "output_type": "stream",
     "text": [
      "277240\n",
      "<mediawiki xmlns=\"http://www.mediawiki.org/xml/export-0.10/\" xmlns:xsi=\"http://www.w3.org/2001/XMLSchema-instance\" xsi:schemaLocation=\"http://www.mediawiki.org/xml/export-0.10/ http://www.mediawiki.org/xml/export-0.10.xsd\" version=\"0.10\" xml:lang=\"en\">\n",
      "  <siteinfo>\n",
      "    <sitename>Wikipedia</sitename>\n"
     ]
    }
   ],
   "source": [
    "with open(data_dir / \"Canada - Wikipedia Special Export.xml\") as infile: \n",
    "    wiki_XML = infile.read()\n",
    "\n",
    "print(len(wiki_XML))\n",
    "print(wiki_XML[:300])"
   ]
  },
  {
   "cell_type": "code",
   "execution_count": 36,
   "metadata": {
    "tags": []
   },
   "outputs": [
    {
     "name": "stdout",
     "output_type": "stream",
     "text": [
      "1079679373\n"
     ]
    }
   ],
   "source": [
    "import bs4\n",
    "\n",
    "wiki_XML = wiki_XML.replace('<text xml:space=','<wikitext xml:space=')\n",
    "\n",
    "soup = bs4.BeautifulSoup(wiki_XML, 'lxml')\n",
    "\n",
    "print(soup.mediawiki.page.revision.id.text )"
   ]
  },
  {
   "cell_type": "markdown",
   "metadata": {},
   "source": [
    "## Navigating XML"
   ]
  },
  {
   "cell_type": "code",
   "execution_count": 37,
   "metadata": {
    "tags": []
   },
   "outputs": [
    {
     "name": "stdout",
     "output_type": "stream",
     "text": [
      "id\n",
      "parentid\n",
      "timestamp\n",
      "contributor\n",
      "minor\n",
      "comment\n",
      "model\n",
      "format\n",
      "text\n",
      "sha1\n"
     ]
    }
   ],
   "source": [
    "# for i in soup.children: print(i.name)\n",
    "# for i in soup.html.children: print(i.name)\n",
    "# for i in soup.html.body.children: print(i.name)\n",
    "# for i in soup.html.body.mediawiki.children: print(i.name) \n",
    "# for i in soup.html.body.mediawiki.page: print(i.name)\n",
    "for i in soup.html.body.mediawiki.page.revision: \n",
    "    if name := i.name: print(name)"
   ]
  },
  {
   "cell_type": "code",
   "execution_count": 38,
   "metadata": {
    "tags": []
   },
   "outputs": [
    {
     "name": "stdout",
     "output_type": "stream",
     "text": [
      "<id>1079679373</id>\n",
      "1079679373\n"
     ]
    }
   ],
   "source": [
    "print(soup.html.body.mediawiki.page.revision.id)\n",
    "# Notice how we can shorten it (and get the text directly): \n",
    "print(soup.revision.id.text)"
   ]
  },
  {
   "cell_type": "code",
   "execution_count": 39,
   "metadata": {
    "tags": []
   },
   "outputs": [
    {
     "name": "stdout",
     "output_type": "stream",
     "text": [
      "<id>5042916</id>\n",
      "page\n"
     ]
    }
   ],
   "source": [
    "print(soup.id, soup.id.parent.name, sep=\"\\n\")"
   ]
  },
  {
   "cell_type": "markdown",
   "metadata": {},
   "source": [
    "## Using `xmltodict`"
   ]
  },
  {
   "cell_type": "code",
   "execution_count": 40,
   "metadata": {
    "tags": []
   },
   "outputs": [
    {
     "name": "stdout",
     "output_type": "stream",
     "text": [
      "Collecting xmltodict\n",
      "  Downloading xmltodict-0.13.0-py2.py3-none-any.whl (10.0 kB)\n",
      "Installing collected packages: xmltodict\n",
      "Successfully installed xmltodict-0.13.0\n"
     ]
    }
   ],
   "source": [
    "# You may need to install xmltodict.\n",
    "# This code is extra careful to check for the right version of Python for\n",
    "# installation. In fairness, `pip install <library>` usually works  fine.\n",
    "\n",
    "try: \n",
    "    import xmltodict\n",
    "except ModuleNotFoundError:\n",
    "    import sys\n",
    "    !{sys.executable} -m pip install xmltodict\n",
    "    import xmltodict"
   ]
  },
  {
   "cell_type": "code",
   "execution_count": 41,
   "metadata": {
    "tags": []
   },
   "outputs": [],
   "source": [
    "with open(data_dir / \"Canada - Wikipedia Special Export.xml\") as infile:\n",
    "    doc = xmltodict.parse(infile.read())"
   ]
  },
  {
   "cell_type": "code",
   "execution_count": 42,
   "metadata": {
    "tags": []
   },
   "outputs": [
    {
     "name": "stdout",
     "output_type": "stream",
     "text": [
      "dict_keys(['mediawiki'])\n",
      "dict_keys(['@xmlns', '@xmlns:xsi', '@xsi:schemaLocation', '@version', '@xml:lang', 'siteinfo', 'page'])\n",
      "http://www.mediawiki.org/xml/export-0.10/\n"
     ]
    }
   ],
   "source": [
    "print(doc.keys())\n",
    "print(doc['mediawiki'].keys())\n",
    "print(doc['mediawiki']['@xmlns'])"
   ]
  },
  {
   "cell_type": "code",
   "execution_count": 43,
   "metadata": {
    "tags": []
   },
   "outputs": [
    {
     "name": "stdout",
     "output_type": "stream",
     "text": [
      "1079679373\n"
     ]
    }
   ],
   "source": [
    "print(doc['mediawiki']['page']['revision']['id'])"
   ]
  },
  {
   "cell_type": "markdown",
   "metadata": {},
   "source": [
    "# Serialization"
   ]
  },
  {
   "cell_type": "code",
   "execution_count": 44,
   "metadata": {
    "tags": []
   },
   "outputs": [
    {
     "name": "stdout",
     "output_type": "stream",
     "text": [
      "[{'RevisionID': 1079679373, 'PageID': 5042916}, 'Other Data', 3.1415]\n"
     ]
    }
   ],
   "source": [
    "import pickle\n",
    "\n",
    "data_example = {'RevisionID':1079679373, 'PageID':5042916}\n",
    "data_for_pickle = [data_example,'Other Data',3.1415]\n",
    "\n",
    "pickle.dump(data_for_pickle,\n",
    "            open(data_dir / 'temp.pkl','wb'))\n",
    "\n",
    "# Check to see if the data comes back as we expected\n",
    "data_from_pkl = pickle.load(open(data_dir / 'temp.pkl','rb'))\n",
    "print(data_from_pkl)"
   ]
  },
  {
   "cell_type": "markdown",
   "metadata": {},
   "source": [
    "## Long term storage: Pickles and feather "
   ]
  },
  {
   "cell_type": "markdown",
   "metadata": {},
   "source": [
    "# Summary"
   ]
  },
  {
   "cell_type": "markdown",
   "metadata": {},
   "source": [
    "# Extending and reflecting "
   ]
  }
 ],
 "metadata": {
  "kernelspec": {
   "display_name": "Python 3 (ipykernel)",
   "language": "python",
   "name": "python3"
  },
  "language_info": {
   "codemirror_mode": {
    "name": "ipython",
    "version": 3
   },
   "file_extension": ".py",
   "mimetype": "text/x-python",
   "name": "python",
   "nbconvert_exporter": "python",
   "pygments_lexer": "ipython3",
   "version": "3.11.5"
  },
  "toc-autonumbering": true
 },
 "nbformat": 4,
 "nbformat_minor": 4
}
