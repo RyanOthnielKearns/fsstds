{
 "cells": [
  {
   "cell_type": "markdown",
   "metadata": {},
   "source": [
    "# Introduction: The connections that signal social structure \n",
    "Thank you for checking out the code for: \n",
    "\n",
    "> Hogan, Bernie (2022, forthcoming) _From Social Science to Data Science_. Sage Publications. \n",
    "\n",
    "This notebook contains the code from the book, along with the headers and additional author notes that are not in the book as a way to help navigate the code. You can run this notebook in a browser by clicking the buttons below. \n",
    "    \n",
    "The version that is uploaded to GitHub should have all the results pasted, but the best way to follow along is to clear all outputs and then start afresh. To do this in Jupyter go the menu and select \"Kernel -> Restart Kernel and Clear all Outputs...\". To do this on Google Colab go to the menu and select \"Edit -> Clear all outputs\".\n",
    "    \n",
    "The most up-to-date version of this code can be found at https://www.github.com/berniehogan/fsstds \n",
    "\n",
    "Additional resources and teaching materials can be found on Sage's forthcoming website for this book. \n",
    "\n",
    "All code for the book and derivative code on the book's repository is released open source under the  MIT license. \n",
    "    \n",
    "\n",
    "[![Binder](https://mybinder.org/badge.svg)](https://mybinder.org/v2/gh/berniehogan/fsstds/main?filepath=chapters%2FCh.13.NetworkAnalysis.ipynb)[![Colab](https://colab.research.google.com/assets/colab-badge.svg)](https://colab.research.google.com/github/berniehogan/fsstds/blob/main/chapters/Ch.13.NetworkAnalysis.ipynb)"
   ]
  },
  {
   "cell_type": "markdown",
   "metadata": {},
   "source": [
    "## Doing network analysis in Python "
   ]
  },
  {
   "cell_type": "code",
   "execution_count": 1,
   "metadata": {},
   "outputs": [
    {
     "name": "stdout",
     "output_type": "stream",
     "text": [
      "2.7.1\n"
     ]
    }
   ],
   "source": [
    "import networkx as nx\n",
    "print(nx.__version__)"
   ]
  },
  {
   "cell_type": "markdown",
   "metadata": {},
   "source": [
    "# Creating network graphs"
   ]
  },
  {
   "cell_type": "code",
   "execution_count": 2,
   "metadata": {},
   "outputs": [
    {
     "name": "stdout",
     "output_type": "stream",
     "text": [
      "DiGraph named 'Demo' with 0 nodes and 0 edges\n"
     ]
    }
   ],
   "source": [
    "g = nx.DiGraph(name=\"Demo\")\n",
    "print(g)"
   ]
  },
  {
   "cell_type": "markdown",
   "metadata": {},
   "source": [
    "## Selecting a graph type "
   ]
  },
  {
   "cell_type": "markdown",
   "metadata": {},
   "source": [
    "## Adding nodes"
   ]
  },
  {
   "cell_type": "code",
   "execution_count": 3,
   "metadata": {},
   "outputs": [
    {
     "name": "stdout",
     "output_type": "stream",
     "text": [
      "Graph with 4 nodes and 2 edges: ['Ali', 'Barb', 'Cam', 'Dot']\n",
      "Graph with 3 nodes and 2 edges: ['Ali', 'Barb', 'Cam']\n"
     ]
    }
   ],
   "source": [
    "nodes = [\"Ali\",\"Barb\",\"Cam\",\"Dot\"]\n",
    "edges = [(\"Ali\",\"Barb\"),\n",
    "         (\"Barb\",\"Cam\")]\n",
    "\n",
    "g1 = nx.Graph()\n",
    "g1.add_nodes_from(nodes)\n",
    "g1.add_edges_from(edges)\n",
    "print(f\"{g1}:\",g1.nodes)\n",
    "\n",
    "g2 = nx.Graph(edges)\n",
    "print(f\"{g2}:\", g2.nodes)"
   ]
  },
  {
   "cell_type": "markdown",
   "metadata": {},
   "source": [
    "## Adding edges "
   ]
  },
  {
   "cell_type": "code",
   "execution_count": 4,
   "metadata": {},
   "outputs": [
    {
     "name": "stdout",
     "output_type": "stream",
     "text": [
      "Graph named 'undirected' with 3 nodes and 2 edges\n",
      "DiGraph named 'directed' with 3 nodes and 3 edges\n"
     ]
    }
   ],
   "source": [
    "edges_list = [(\"Ali\",\"Barb\"),\n",
    "              (\"Barb\",\"Cam\"),\n",
    "              (\"Cam\",\"Barb\")]\n",
    "\n",
    "g = nx.Graph(edges_list, name = \"undirected\")\n",
    "dg = nx.DiGraph(edges_list, name = \"directed\")\n",
    "\n",
    "print(g, dg, sep=\"\\n\")"
   ]
  },
  {
   "cell_type": "code",
   "execution_count": 5,
   "metadata": {},
   "outputs": [
    {
     "name": "stdout",
     "output_type": "stream",
     "text": [
      "Not a valid edge list for uniplex graphs.\n",
      "MultiGraph with 3 nodes and 3 edges\n",
      "MultiDiGraph with 3 nodes and 4 edges\n"
     ]
    }
   ],
   "source": [
    "mult_edges = [(\"Ali\",\"Barb\",1),\n",
    "             (\"Barb\",\"Cam\",1),\n",
    "             (\"Barb\",\"Cam\",2),\n",
    "             (\"Cam\",\"Barb\",1)]\n",
    "\n",
    "try: g = nx.Graph(mult_edges)\n",
    "except: print(\"Not a valid edge list for uniplex graphs.\")\n",
    "\n",
    "mg = nx.MultiGraph(mult_edges)\n",
    "mdg = nx.MultiDiGraph(mult_edges)\n",
    "\n",
    "print(mg, mdg, sep=\"\\n\")"
   ]
  },
  {
   "cell_type": "markdown",
   "metadata": {},
   "source": [
    "# Adding attributes"
   ]
  },
  {
   "cell_type": "code",
   "execution_count": 20,
   "metadata": {},
   "outputs": [
    {
     "name": "stdout",
     "output_type": "stream",
     "text": [
      "g:\t\t\t DiGraph named 'label example' with 3 nodes and 3 edges\n",
      "g.graph:\t\t {'name': 'label example', 'demovar': 'demo_1'}\n",
      "g['Ali']:\t\t {'Barb': {'type': 'friend', 'weight': 30}}\n",
      "g.nodes['Ali']:\t\t {'weight': 32}\n",
      "g.edges['Ali','Barb']:\t {'type': 'friend', 'weight': 30}\n"
     ]
    }
   ],
   "source": [
    "g = nx.DiGraph([(\"Ali\",\"Barb\"),(\"Barb\",\"Cam\"), (\"Cam\",\"Barb\")], \n",
    "             name=\"label example\",\n",
    "             demovar=\"demo_1\")\n",
    "\n",
    "g.nodes[\"Ali\"][\"weight\"] = 32\n",
    "g.edges[\"Ali\",\"Barb\"][\"type\"] = \"friend\"\n",
    "g.edges[\"Ali\",\"Barb\"][\"weight\"] = 30\n",
    "\n",
    "print(\"g:\\t\\t\\t\",g)\n",
    "print(\"g.graph:\\t\\t\", g.graph)\n",
    "print(\"g['Ali']:\\t\\t\", g[\"Ali\"])\n",
    "print(\"g.nodes['Ali']:\\t\\t\",g.nodes[\"Ali\"])\n",
    "print(\"g.edges['Ali','Barb']:\\t\", g.edges[\"Ali\",\"Barb\"])\n"
   ]
  },
  {
   "cell_type": "markdown",
   "metadata": {},
   "source": [
    "## Working with distributions of attributes: The case of Degree"
   ]
  },
  {
   "cell_type": "code",
   "execution_count": 21,
   "metadata": {},
   "outputs": [
    {
     "name": "stdout",
     "output_type": "stream",
     "text": [
      "[('Ali', 1), ('Barb', 3), ('Cam', 2)]\n",
      "[('Ali', 0), ('Barb', 2), ('Cam', 1)]\n",
      "[('Ali', 1), ('Barb', 1), ('Cam', 1)]\n"
     ]
    }
   ],
   "source": [
    "print(g.degree(),g.in_degree(),g.out_degree(),sep=\"\\n\")"
   ]
  },
  {
   "cell_type": "code",
   "execution_count": 22,
   "metadata": {},
   "outputs": [],
   "source": [
    "for node_id,score in g.out_degree():\n",
    "    g.nodes[node_id][\"out-degree\"] = score\n",
    "\n",
    "for node_id,score in g.in_degree():\n",
    "    g.nodes[node_id][\"in-degree\"] = score"
   ]
  },
  {
   "cell_type": "code",
   "execution_count": 23,
   "metadata": {},
   "outputs": [],
   "source": [
    "import pandas as pd "
   ]
  },
  {
   "cell_type": "code",
   "execution_count": null,
   "metadata": {},
   "outputs": [],
   "source": [
    "node_data = {\"Ali\":{\"age\":32,\"travel\":\"cycling\"},\n",
    "             \"Barb\":{\"age\":28,\"travel\":\"walking\"},\n",
    "             \"Cam\":{\"age\":43,\"travel\":\"bus\"}}\n",
    "\n",
    "df = pd.DataFrame.from_dict(node_data,orient=\"index\")\n",
    "df"
   ]
  },
  {
   "cell_type": "code",
   "execution_count": 12,
   "metadata": {},
   "outputs": [
    {
     "data": {
      "text/plain": [
       "32"
      ]
     },
     "execution_count": 12,
     "metadata": {},
     "output_type": "execute_result"
    }
   ],
   "source": [
    "for index, val in df[\"age\"].items():\n",
    "    g.nodes[index][\"age\"] = val\n",
    "\n",
    "g.nodes[\"Ali\"][\"age\"] # Just spot checking"
   ]
  },
  {
   "cell_type": "code",
   "execution_count": null,
   "metadata": {},
   "outputs": [],
   "source": [
    "display(pd.DataFrame.from_dict(g.nodes,orient=\"index\"))"
   ]
  },
  {
   "cell_type": "markdown",
   "metadata": {},
   "source": [
    "# Plotting a graph "
   ]
  },
  {
   "cell_type": "code",
   "execution_count": 15,
   "metadata": {},
   "outputs": [
    {
     "name": "stdout",
     "output_type": "stream",
     "text": [
      "Graph with 4 nodes and 4 edges\n"
     ]
    }
   ],
   "source": [
    "g = nx.Graph([(\"a\",\"b\"),(\"b\",\"c\"),(\"c\",\"a\"),(\"a\",\"d\")])\n",
    "print(g)"
   ]
  },
  {
   "cell_type": "code",
   "execution_count": 16,
   "metadata": {},
   "outputs": [],
   "source": [
    "import matplotlib.pyplot as plt \n",
    "%config InlineBackend.figure_format = 'svg'"
   ]
  },
  {
   "cell_type": "code",
   "execution_count": null,
   "metadata": {},
   "outputs": [],
   "source": [
    "nx.draw_random(g,with_labels=True)\n",
    "\n",
    "plt.show()"
   ]
  },
  {
   "cell_type": "code",
   "execution_count": 28,
   "metadata": {},
   "outputs": [
    {
     "name": "stdout",
     "output_type": "stream",
     "text": [
      "Graph with 50 nodes and 60 edges\n"
     ]
    }
   ],
   "source": [
    "g = nx.generators.binomial_graph(50,.05,seed=1979)\n",
    "print(g)"
   ]
  },
  {
   "cell_type": "code",
   "execution_count": null,
   "metadata": {},
   "outputs": [],
   "source": [
    "pos = nx.spring_layout(g)\n",
    "\n",
    "nx.draw_networkx_nodes(g,pos,node_size=20)\n",
    "nx.draw_networkx_edges(g,pos,edge_color=\"grey\")\n",
    "plt.axis(\"off\")\n",
    "plt.show()"
   ]
  },
  {
   "cell_type": "code",
   "execution_count": 30,
   "metadata": {},
   "outputs": [],
   "source": [
    "largest_comp_nodes = max(sorted(nx.connected_components(g),\n",
    "                                key=len, reverse=True))"
   ]
  },
  {
   "cell_type": "code",
   "execution_count": null,
   "metadata": {},
   "outputs": [],
   "source": [
    "lcc = g.subgraph(largest_comp_nodes)\n",
    "\n",
    "nx.draw_networkx_nodes(lcc,pos,node_size=20)\n",
    "nx.draw_networkx_edges(lcc,pos,edge_color=\"grey\")\n",
    "plt.axis(\"off\")\n",
    "plt.show()"
   ]
  },
  {
   "cell_type": "markdown",
   "metadata": {},
   "source": [
    "## Considering layouts for a graph"
   ]
  },
  {
   "cell_type": "code",
   "execution_count": 36,
   "metadata": {},
   "outputs": [
    {
     "name": "stdout",
     "output_type": "stream",
     "text": [
      "Graph named \"Zachary's Karate Club\" with 34 nodes and 78 edges\n",
      "{'club': 'Mr. Hi'}\n"
     ]
    }
   ],
   "source": [
    "kg = nx.karate_club_graph()\n",
    "print(kg)\n",
    "print(kg.nodes[0])"
   ]
  },
  {
   "cell_type": "code",
   "execution_count": 37,
   "metadata": {},
   "outputs": [],
   "source": [
    "from collections import defaultdict"
   ]
  },
  {
   "cell_type": "code",
   "execution_count": 38,
   "metadata": {},
   "outputs": [
    {
     "name": "stdout",
     "output_type": "stream",
     "text": [
      "Club Mr. Hi has 17 members\n",
      "Club Officer has 17 members\n"
     ]
    }
   ],
   "source": [
    "clubs = defaultdict(list)\n",
    "for node in kg.nodes: \n",
    "    clubs[kg.nodes[node][\"club\"]].append(node)\n",
    "\n",
    "for club, members in clubs.items(): \n",
    "    print(f\"Club {club} has {len(members)} members\") "
   ]
  },
  {
   "cell_type": "code",
   "execution_count": null,
   "metadata": {},
   "outputs": [],
   "source": [
    "pos = nx.spring_layout(kg)\n",
    "\n",
    "nx.draw_networkx_nodes(kg.subgraph(clubs[\"Mr. Hi\"]), pos,\n",
    "                      node_color=\"lightgrey\")\n",
    "\n",
    "nx.draw_networkx_nodes(kg.subgraph(clubs[\"Officer\"]), pos,\n",
    "                      node_color=\"darkgrey\")\n",
    "\n",
    "nx.draw_networkx_edges(kg,pos)\n",
    "\n",
    "nx.draw_networkx_labels(kg,pos,\n",
    "                        font_size=6)\n",
    "plt.show()"
   ]
  },
  {
   "cell_type": "markdown",
   "metadata": {},
   "source": [
    "# Subgroups and communities in a network "
   ]
  },
  {
   "cell_type": "code",
   "execution_count": 41,
   "metadata": {},
   "outputs": [],
   "source": [
    "import networkx.algorithms.community as nx_comm "
   ]
  },
  {
   "cell_type": "code",
   "execution_count": 42,
   "metadata": {},
   "outputs": [
    {
     "name": "stdout",
     "output_type": "stream",
     "text": [
      "Community 0 has 17 members\n",
      "Community 1 has 9 members\n",
      "Community 2 has 8 members\n"
     ]
    }
   ],
   "source": [
    "greedy_comm = nx_comm.greedy_modularity_communities(kg) \n",
    "\n",
    "for c,i in enumerate(greedy_comm):\n",
    "    print(f\"Community {c} has {len(i)} members\")"
   ]
  },
  {
   "cell_type": "code",
   "execution_count": 43,
   "metadata": {},
   "outputs": [
    {
     "name": "stdout",
     "output_type": "stream",
     "text": [
      "Using an algorithm, modularity was: 0.41\n",
      "Using the clubs, modularity was: 0.39\n"
     ]
    }
   ],
   "source": [
    "greedy_mod = nx_comm.modularity(kg, greedy_comm)\n",
    "print(f\"Using an algorithm, modularity was: {greedy_mod:0.2f}\")\n",
    "\n",
    "attr_mod = nx_comm.modularity(kg, list(clubs.values()))\n",
    "print(f\"Using the clubs, modularity was: {attr_mod:0.2f}\")"
   ]
  },
  {
   "cell_type": "markdown",
   "metadata": {},
   "source": [
    "# Creating a network from data"
   ]
  },
  {
   "cell_type": "code",
   "execution_count": 44,
   "metadata": {},
   "outputs": [],
   "source": [
    "import pickle\n",
    "from pathlib import Path"
   ]
  },
  {
   "cell_type": "code",
   "execution_count": 45,
   "metadata": {},
   "outputs": [
    {
     "name": "stdout",
     "output_type": "stream",
     "text": [
      "61184\n"
     ]
    }
   ],
   "source": [
    "data_dir = Path().cwd().parent / \"data\"\n",
    "pickle_file = data_dir / \"movies_stack_df.pkl\"\n",
    "\n",
    "if pickle_file.exists():\n",
    "    stack_df = pickle.load(open(pickle_file ,'rb'))\n",
    "    print(len(stack_df))\n",
    "else:\n",
    "    print(\"Please download and clean the Stack_df data as per Chpater 10.\",\n",
    "          \"See data from https://archive.org/download/stackexchange .\")"
   ]
  },
  {
   "cell_type": "code",
   "execution_count": null,
   "metadata": {},
   "outputs": [],
   "source": [
    "question_mask = stack_df.PostTypeId =='1'\n",
    "answer_mask = stack_df.PostTypeId =='2'\n",
    "\n",
    "# Only questions have tags and I will want them later.\n",
    "thin_df = stack_df[question_mask][[\"OwnerUserId\",\"ListTags\"]]\n",
    "\n",
    "answer_df = stack_df[answer_mask].merge(thin_df,\n",
    "              left_on=\"ParentId\",right_index=True,\n",
    "              how=\"left\", suffixes=[\"\",\"-q\"])\n",
    "\n",
    "# Remove deleted accounts where only content remains\n",
    "answer_df.dropna(subset = [\"OwnerUserId\",\"OwnerUserId-q\"],inplace = True)\n",
    "\n",
    "display(answer_df[[\"OwnerUserId\",\"ParentId\",\"OwnerUserId-q\"]]\n",
    "        .sample(5,random_state=1984))"
   ]
  },
  {
   "cell_type": "code",
   "execution_count": 50,
   "metadata": {},
   "outputs": [
    {
     "name": "stdout",
     "output_type": "stream",
     "text": [
      "DiGraph with 14054 nodes and 29101 edges\n"
     ]
    }
   ],
   "source": [
    "stack_edgelist = list(zip(answer_df[\"OwnerUserId\"],\n",
    "                          answer_df[\"OwnerUserId-q\"]))\n",
    "\n",
    "g = nx.DiGraph(stack_edgelist)\n",
    "print(g)"
   ]
  },
  {
   "cell_type": "markdown",
   "metadata": {},
   "source": [
    "## Whole networks versus partial networks"
   ]
  },
  {
   "cell_type": "code",
   "execution_count": 51,
   "metadata": {},
   "outputs": [
    {
     "data": {
      "text/plain": [
       "1336"
      ]
     },
     "execution_count": 51,
     "metadata": {},
     "output_type": "execute_result"
    }
   ],
   "source": [
    "tag = \"dialogue\"\n",
    "tag_mask = answer_df['ListTags-q'].map(lambda x: \"dialogue\" in x)\n",
    "len(answer_df[tag_mask])"
   ]
  },
  {
   "cell_type": "markdown",
   "metadata": {
    "tags": []
   },
   "source": [
    "## Weighted networks"
   ]
  },
  {
   "cell_type": "code",
   "execution_count": 52,
   "metadata": {},
   "outputs": [
    {
     "name": "stdout",
     "output_type": "stream",
     "text": [
      "33278\n",
      "29101\n"
     ]
    }
   ],
   "source": [
    "print(len(stack_edgelist))\n",
    "print(len(pd.Series(stack_edgelist).unique()))"
   ]
  },
  {
   "cell_type": "code",
   "execution_count": 53,
   "metadata": {},
   "outputs": [
    {
     "name": "stdout",
     "output_type": "stream",
     "text": [
      "DiGraph named 'Weighted Directed Reply Graph' with 115 nodes and 222 edges\n"
     ]
    }
   ],
   "source": [
    "weight_ser = pd.Series(stack_edgelist).value_counts()\n",
    "wg = nx.DiGraph(name=\"Weighted Directed Reply Graph\")\n",
    "\n",
    "ebunch = []\n",
    "for nodes,weight in weight_ser.items():\n",
    "    if weight >= 5 and nodes[0] != nodes[1]:\n",
    "        ebunch.append((nodes[0],nodes[1],weight))\n",
    "\n",
    "wg.add_weighted_edges_from(ebunch)\n",
    "print(wg)"
   ]
  },
  {
   "cell_type": "code",
   "execution_count": null,
   "metadata": {},
   "outputs": [],
   "source": [
    "filter_graph = wg.subgraph([node for node,val in wg.degree() if val > 2])\n",
    "\n",
    "pos = nx.spring_layout(filter_graph)\n",
    "nx.draw_networkx_nodes(filter_graph,pos,alpha=0.4)\n",
    "nx.draw_networkx_edges(filter_graph,pos,edge_color=\"lightgrey\")\n",
    "nx.draw_networkx_labels(filter_graph,pos,font_size=6)\n",
    "\n",
    "plt.show()"
   ]
  },
  {
   "cell_type": "markdown",
   "metadata": {},
   "source": [
    "## Bipartite networks"
   ]
  },
  {
   "cell_type": "code",
   "execution_count": null,
   "metadata": {},
   "outputs": [],
   "source": [
    "stack_df[question_mask][[\"OwnerUserId\",\"ListTags\"]].head()"
   ]
  },
  {
   "cell_type": "code",
   "execution_count": null,
   "metadata": {},
   "outputs": [],
   "source": [
    "tags_df = (stack_df[question_mask][[\"OwnerUserId\",\"ListTags\"]]\n",
    "           .explode(\"ListTags\").dropna())\n",
    "\n",
    "display(tags_df.head())"
   ]
  },
  {
   "cell_type": "code",
   "execution_count": 65,
   "metadata": {},
   "outputs": [
    {
     "name": "stdout",
     "output_type": "stream",
     "text": [
      "(43259, 2)\n"
     ]
    }
   ],
   "source": [
    "print(tags_df.shape)"
   ]
  },
  {
   "cell_type": "code",
   "execution_count": 66,
   "metadata": {},
   "outputs": [
    {
     "name": "stdout",
     "output_type": "stream",
     "text": [
      "The sets have 0 elements in common\n"
     ]
    }
   ],
   "source": [
    "in_common = set(tags_df[\"OwnerUserId\"]) & set(tags_df[\"ListTags\"])\n",
    "print(f\"The sets have {len(in_common)} elements in common\")"
   ]
  },
  {
   "cell_type": "code",
   "execution_count": 67,
   "metadata": {},
   "outputs": [
    {
     "name": "stdout",
     "output_type": "stream",
     "text": [
      "All rows: 43259\n",
      "Rows counting only top 40 tags: 22434\n"
     ]
    }
   ],
   "source": [
    "top40_tags = list(tags_df[\"ListTags\"].value_counts().index[:40])\n",
    "tag_filtered_df = tags_df[tags_df[\"ListTags\"].map(lambda x: x in top40_tags)]\n",
    "print(f\"All rows: {len(tags_df)}\")\n",
    "print(f\"Rows counting only top 40 tags: {len(tag_filtered_df)}\")"
   ]
  },
  {
   "cell_type": "code",
   "execution_count": 68,
   "metadata": {},
   "outputs": [
    {
     "name": "stdout",
     "output_type": "stream",
     "text": [
      "Graph with 5828 nodes and 12258 edges\n"
     ]
    }
   ],
   "source": [
    "bp_tag_list = list(zip(tag_filtered_df[\"OwnerUserId\"],\n",
    "                       tag_filtered_df[\"ListTags\"]))\n",
    "\n",
    "tagg = nx.Graph(bp_tag_list)\n",
    "print(tagg)"
   ]
  },
  {
   "cell_type": "code",
   "execution_count": 69,
   "metadata": {},
   "outputs": [
    {
     "data": {
      "text/plain": [
       "True"
      ]
     },
     "execution_count": 69,
     "metadata": {},
     "output_type": "execute_result"
    }
   ],
   "source": [
    "from networkx.algorithms import bipartite as bp \n",
    "\n",
    "bp.is_bipartite(tagg)"
   ]
  },
  {
   "cell_type": "code",
   "execution_count": 70,
   "metadata": {},
   "outputs": [
    {
     "name": "stdout",
     "output_type": "stream",
     "text": [
      "5788 40\n",
      "Graph with 40 nodes and 780 edges\n"
     ]
    }
   ],
   "source": [
    "bp_lvl1,bp_lvl2 =  nx.bipartite.sets(tagg)\n",
    "print(len(bp_lvl1),len(bp_lvl2))\n",
    "\n",
    "lvl2g = bp.weighted_projected_graph(tagg, bp_lvl2)\n",
    "print(lvl2g)"
   ]
  },
  {
   "cell_type": "code",
   "execution_count": null,
   "metadata": {},
   "outputs": [],
   "source": [
    "nx.draw_spring(lvl2g)\n",
    "\n",
    "plt.show()"
   ]
  },
  {
   "cell_type": "code",
   "execution_count": 75,
   "metadata": {},
   "outputs": [
    {
     "name": "stdout",
     "output_type": "stream",
     "text": [
      "780 107\n"
     ]
    }
   ],
   "source": [
    "keep_list = []\n",
    "for edge in lvl2g.edges: \n",
    "    if lvl2g.edges[edge][\"weight\"] >= 50: \n",
    "        keep_list.append(edge)\n",
    "\n",
    "print(len(lvl2g.edges),len(keep_list))"
   ]
  },
  {
   "cell_type": "code",
   "execution_count": null,
   "metadata": {},
   "outputs": [],
   "source": [
    "lvl2g_sub = lvl2g.edge_subgraph(keep_list)\n",
    "\n",
    "pos = nx.spring_layout(lvl2g_sub)\n",
    "\n",
    "nx.draw_networkx_nodes(lvl2g_sub,pos,node_color=\"lightblue\",alpha=0.3)\n",
    "nx.draw_networkx_edges(lvl2g_sub,pos,edge_color=\"lightgrey\")\n",
    "nx.draw_networkx_labels(lvl2g_sub,pos,font_size=8)\n",
    "\n",
    "plt.show()"
   ]
  },
  {
   "cell_type": "code",
   "execution_count": 77,
   "metadata": {},
   "outputs": [
    {
     "name": "stdout",
     "output_type": "stream",
     "text": [
      "Graph with 5828 nodes and 12258 edges\n"
     ]
    }
   ],
   "source": [
    "nx.write_graphml(tagg, data_dir / \"bipartite_tagdata movie stack.graphml\")\n",
    "newg = nx.read_graphml(data_dir / \"bipartite_tagdata movie stack.graphml\")\n",
    "print(newg)"
   ]
  },
  {
   "cell_type": "markdown",
   "metadata": {},
   "source": [
    "# Summary"
   ]
  },
  {
   "cell_type": "markdown",
   "metadata": {},
   "source": [
    "# Further reading "
   ]
  },
  {
   "cell_type": "markdown",
   "metadata": {},
   "source": [
    "# Extending and reflecting "
   ]
  }
 ],
 "metadata": {
  "kernelspec": {
   "display_name": "Python 3 (ipykernel)",
   "language": "python",
   "name": "python3"
  },
  "language_info": {
   "codemirror_mode": {
    "name": "ipython",
    "version": 3
   },
   "file_extension": ".py",
   "mimetype": "text/x-python",
   "name": "python",
   "nbconvert_exporter": "python",
   "pygments_lexer": "ipython3",
   "version": "3.9.7"
  }
 },
 "nbformat": 4,
 "nbformat_minor": 4
}
