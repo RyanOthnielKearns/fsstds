{
 "cells": [
  {
   "cell_type": "markdown",
   "metadata": {
    "tags": []
   },
   "source": [
    "<span style=\"font-size: 20pt;\"><span style=\"font-weight: bold;\">Chapter 10.</span>Cleaning data for socially interesting features</span>\n",
    "\n",
    "Last update: 12 January 2024\n",
    "\n",
    "Thank you for checking out the code for: \n",
    "\n",
    "> Hogan, Bernie (2023) _From Social Science to Data Science_. London, UK. Sage Publications. \n",
    "\n",
    "This notebook contains the code from the book, along with the headers and additional author notes that are not in the book as a way to help navigate the code. You can run this notebook in a browser by clicking the buttons below. \n",
    "    \n",
    "The version that is uploaded to GitHub should have all the results pasted, but the best way to follow along is to clear all outputs and then start afresh. To do this in Jupyter go the menu and select \"Kernel -> Restart Kernel and Clear all Outputs...\". To do this on Google Colab go to the menu and select \"Edit -> Clear all outputs\".\n",
    "    \n",
    "The most up-to-date version of this code can be found at https://www.github.com/berniehogan/fsstds \n",
    "\n",
    "Additional resources and teaching materials can be found on Sage's forthcoming website for this book. \n",
    "\n",
    "All code for the book and derivative code on the book's repository is released open source under the  MIT license. \n",
    "    \n",
    "\n",
    "[![Binder](https://mybinder.org/badge.svg)](https://mybinder.org/v2/gh/berniehogan/fsstds/main?filepath=chapters%2FCh.10.Cleaning.ipynb)[![Colab](https://colab.research.google.com/assets/colab-badge.svg)](https://colab.research.google.com/github/berniehogan/fsstds/blob/main/chapters/Ch.10.Cleaning.ipynb)"
   ]
  },
  {
   "cell_type": "markdown",
   "metadata": {
    "jp-MarkdownHeadingCollapsed": true,
    "tags": []
   },
   "source": [
    "<span style=\"font-size: 20pt;\">📺 YouTube Video lecture for this chapter 📺</span>\n",
    "\n",
    "(Please note: This lecture is still pending)"
   ]
  },
  {
   "cell_type": "code",
   "execution_count": 41,
   "metadata": {
    "tags": []
   },
   "outputs": [],
   "source": [
    "from IPython.display import YouTubeVideo\n",
    "\n",
    "# YouTubeVideo('')"
   ]
  },
  {
   "cell_type": "markdown",
   "metadata": {},
   "source": [
    "## Important note on this chapter before getting started \n",
    "\n",
    "> This chapter is a sustained cleaning example of Stack Exchange data. It uses the Movie data, which can be downloaded from the Internet Archive. The subsequent chapters use this cleaned data for some of the examples. However, while you can continue to use this chapter to create such a file, I would highly recommend the use of the [Stack Exchange Downloader](https://github.com/berniehogan/fsstds/blob/main/supplemental_notebooks/Ch.00.Stack_downloader.ipynb), which I have provided in the supplemental notebooks. You simply need to run that one long cell and it will render a series of buttons and options for a very simple download experience. The downloader also exports to `feather` as well as `pickle` and `parquet`. I recommend using feather. \n",
    "\n",
    "> The updated versions of the following chaters preferentially load the feather data but will also still load the .pkl data as you can see in those chapters. Much of the insights of those chapters do not require this data, but it is really great data to get started with: \n",
    "\n",
    "> * It is live, \n",
    "> * It is messy, (which is good - there's lots to practice cleaning up such data)\n",
    "> * There are many stacks to consider if you have topic expertise,\n",
    "> * it is open access and does not require authentication. \n",
    "\n",
    "**This notebook uses the most recent Movies.StackExchange.com download. Which as of the latest edit is from 4 December 2023. Thus, the results will be different from the book, but the structure and logic will be completely the same.** "
   ]
  },
  {
   "cell_type": "markdown",
   "metadata": {
    "tags": []
   },
   "source": [
    "## Introduction: Data as a form of social context\n",
    "\n",
    "In the book I give an series of examples, such as a train journey and an email message, where we can think of many forms of socially interesting data that can be collected. There is no code in the first section. It focuses on data such as dates, locations, relationships, and the semantics of text. These can all be found in many forms of social data. \n",
    "\n",
    "To see them all in action and to practice with live data we can look to Stack Exchange. "
   ]
  },
  {
   "cell_type": "markdown",
   "metadata": {},
   "source": [
    "# A sustained example for cleaning: Stack Exchange"
   ]
  },
  {
   "cell_type": "markdown",
   "metadata": {},
   "source": [
    "The book unfortunately omits one key step in this process of wrangling data from Stack Exchange. The files from https://archive.org/download/stackexchange/ come down as `.7z` files. There are programs available for both Mac and Windows which will unzip 7zip files. However, you can also do this directly in Python. \n",
    "\n",
    "The first code cell below is NOT in the book. It will automatically take a 7zip file from the data folder and extract it as a subfolder. You will first have to download the `.7z` file to your data folder. If you want to look at an automated way to download the data and extract, you are welcome to review the [Stack Exchange Downloader](https://github.com/berniehogan/fsstds/blob/main/supplemental_notebooks/Ch.00.Stack_downloader.ipynb) in the supplemental files. \n",
    "\n",
    "Notice the first part of the code installs `py7zr` which is the Python archive for unzipping 7z files. Then it has a method called `extract_7zip` with an optional parameter `remove_7z` which if true will try to delete the original 7z file once it has been extracted. \n",
    "\n",
    "The stack exchange folder then is placed in the same folder as the original 7z. It assumes the naming convention `movies.stackexchage.com.7z` but removes the 7z at the end so there should be a folder called (in this case) `movies.stackexchange.com` created once the file is run. "
   ]
  },
  {
   "cell_type": "code",
   "execution_count": 1,
   "metadata": {
    "tags": []
   },
   "outputs": [
    {
     "data": {
      "text/plain": [
       "True"
      ]
     },
     "execution_count": 1,
     "metadata": {},
     "output_type": "execute_result"
    }
   ],
   "source": [
    "# 7zip extractor might not be installed. It shouldn't cause trouble to live install\n",
    "try: \n",
    "    import py7zr\n",
    "except ModuleNotFoundError:\n",
    "    import sys\n",
    "    !{sys.executable} -m pip install py7zr\n",
    "    import py7zr\n",
    "\n",
    "from pathlib import Path\n",
    "    \n",
    "def extract_7zip(archive_path, remove_7z=False):\n",
    "    \n",
    "    if isinstance(archive_path, str):\n",
    "        archive_path = Path(archive_path)\n",
    "            \n",
    "    if not archive_path.exists():\n",
    "        raise FileNotFoundError(f\"The there is no file found at {str(path)}. \")\n",
    "        \n",
    "    file_name = archive_path.name\n",
    "    folder_name = \".\".join(archive_path.name.split(\".\")[:-1])\n",
    "    archive_folder = archive_path.parent / folder_name\n",
    "    archive_folder.mkdir(exist_ok=True)\n",
    "\n",
    "    with py7zr.SevenZipFile(archive_path, 'r') as archive:\n",
    "        archive.extractall(archive_folder)\n",
    "\n",
    "    if remove_7z: \n",
    "        try:\n",
    "            os.remove(archive_path)\n",
    "        except:\n",
    "            print(\"The original 7z could not be deleted\")\n",
    "\n",
    "    return True\n",
    "\n",
    "extract_7zip(\"../data/movies.stackexchange.com.7z\", remove_7z=False)"
   ]
  },
  {
   "cell_type": "code",
   "execution_count": 2,
   "metadata": {
    "tags": []
   },
   "outputs": [
    {
     "name": "stdout",
     "output_type": "stream",
     "text": [
      "﻿<?xml version=\"1.0\" encoding=\"utf-8\"?>\n",
      "<posts>\n",
      "  <row Id=\"1\" PostTypeId=\"1\" AcceptedAnswerId=\"2776\" CreationDate=\"2011-11-30T19:15:54.070\" Score=\"31\" ViewCount=\"8503\" Body=\"&lt;p&gt;Some comedians / actors are given creative freedom to improvise at times when producing a new film. Is there any evidence that Vince Vaughn or Owen Wilson improvised in any scenes, diverging from the script in the film &amp;quot;Wedding Crashers&amp;quot;?&lt;/p&gt;&#xA;\" OwnerUserId=\"11\" LastEditorUserId=\"94442\" LastEditDate=\"2022-02-12T21:59:39.633\" LastActivityDate=\"2022-02-12T21:59:39.633\" Title=\"To what extent were the actors in Wedding Crashers improvising?\" Tags=\"&lt;wedding-crashers&gt;\" AnswerCount=\"2\" CommentCount=\"0\" ContentLicense=\"CC BY-SA 4.0\" />\n",
      "  <row Id=\"2\" PostTypeId=\"2\" ParentId=\"1\" CreationDate=\"2011-11-30T19:37:10.510\" Score=\"15\" Body=\"&lt;p&gt;According to the &lt;a href=&quot;http://www.imdb.com/title/tt0396269/trivia&quot;&gt;trivia on IMDb&lt;/a&gt;, Owen Wilson and Vince Vaughn im\n"
     ]
    }
   ],
   "source": [
    "from pathlib import Path\n",
    "\n",
    "# I just unzipped the file within the data folder.\n",
    "data_dir = Path().cwd().parent / \"data\" / \"movies.stackexchange.com\"\n",
    "\n",
    "print(open(data_dir / \"Posts.xml\").read(1000))"
   ]
  },
  {
   "cell_type": "code",
   "execution_count": 3,
   "metadata": {
    "tags": []
   },
   "outputs": [
    {
     "name": "stdout",
     "output_type": "stream",
     "text": [
      "<class 'dict'>\n"
     ]
    }
   ],
   "source": [
    "import xmltodict \n",
    "\n",
    "xml_data = open(data_dir / \"Posts.xml\",'r').read()\n",
    "\n",
    "stack_dict = xmltodict.parse(xml_data)\n",
    "print(type(stack_dict))"
   ]
  },
  {
   "cell_type": "code",
   "execution_count": 4,
   "metadata": {
    "tags": []
   },
   "outputs": [
    {
     "name": "stdout",
     "output_type": "stream",
     "text": [
      "dict_keys(['row'])\n",
      "<class 'list'>\n"
     ]
    }
   ],
   "source": [
    "print(stack_dict[\"posts\"].keys())\n",
    "print(type(stack_dict[\"posts\"][\"row\"]))"
   ]
  },
  {
   "cell_type": "code",
   "execution_count": 5,
   "metadata": {
    "tags": []
   },
   "outputs": [
    {
     "data": {
      "text/plain": [
       "{'@Id': '1',\n",
       " '@PostTypeId': '1',\n",
       " '@AcceptedAnswerId': '2776',\n",
       " '@CreationDate': '2011-11-30T19:15:54.070',\n",
       " '@Score': '31',\n",
       " '@ViewCount': '8503',\n",
       " '@Body': '<p>Some comedians / actors are given creative freedom to improvise at times when producing a new film. Is there any evidence that Vince Vaughn or Owen Wilson improvised in any scenes, diverging from the script in the film &quot;Wedding Crashers&quot;?</p>\\n',\n",
       " '@OwnerUserId': '11',\n",
       " '@LastEditorUserId': '94442',\n",
       " '@LastEditDate': '2022-02-12T21:59:39.633',\n",
       " '@LastActivityDate': '2022-02-12T21:59:39.633',\n",
       " '@Title': 'To what extent were the actors in Wedding Crashers improvising?',\n",
       " '@Tags': '<wedding-crashers>',\n",
       " '@AnswerCount': '2',\n",
       " '@CommentCount': '0',\n",
       " '@ContentLicense': 'CC BY-SA 4.0'}"
      ]
     },
     "metadata": {},
     "output_type": "display_data"
    }
   ],
   "source": [
    "display(stack_dict[\"posts\"][\"row\"][0])"
   ]
  },
  {
   "cell_type": "code",
   "execution_count": 6,
   "metadata": {
    "tags": []
   },
   "outputs": [
    {
     "name": "stdout",
     "output_type": "stream",
     "text": [
      "64054\n"
     ]
    }
   ],
   "source": [
    "print(len(stack_dict['posts']['row']))"
   ]
  },
  {
   "cell_type": "code",
   "execution_count": 7,
   "metadata": {
    "tags": []
   },
   "outputs": [],
   "source": [
    "import pandas as pd \n",
    "\n",
    "stack_df = pd.json_normalize(stack_dict[\"posts\"][\"row\"])"
   ]
  },
  {
   "cell_type": "markdown",
   "metadata": {},
   "source": [
    "## Quick summaries of the dataset "
   ]
  },
  {
   "cell_type": "code",
   "execution_count": 8,
   "metadata": {
    "tags": []
   },
   "outputs": [
    {
     "name": "stdout",
     "output_type": "stream",
     "text": [
      "<class 'pandas.core.frame.DataFrame'>\n",
      "RangeIndex: 64054 entries, 0 to 64053\n",
      "Data columns (total 22 columns):\n",
      " #   Column                  Non-Null Count  Dtype \n",
      "---  ------                  --------------  ----- \n",
      " 0   @Id                     64054 non-null  object\n",
      " 1   @PostTypeId             64054 non-null  object\n",
      " 2   @AcceptedAnswerId       13634 non-null  object\n",
      " 3   @CreationDate           64054 non-null  object\n",
      " 4   @Score                  64054 non-null  object\n",
      " 5   @ViewCount              22570 non-null  object\n",
      " 6   @Body                   64054 non-null  object\n",
      " 7   @OwnerUserId            62148 non-null  object\n",
      " 8   @LastEditorUserId       40154 non-null  object\n",
      " 9   @LastEditDate           40848 non-null  object\n",
      " 10  @LastActivityDate       64054 non-null  object\n",
      " 11  @Title                  22570 non-null  object\n",
      " 12  @Tags                   22570 non-null  object\n",
      " 13  @AnswerCount            22570 non-null  object\n",
      " 14  @CommentCount           64054 non-null  object\n",
      " 15  @ContentLicense         64054 non-null  object\n",
      " 16  @ParentId               37036 non-null  object\n",
      " 17  @FavoriteCount          4886 non-null   object\n",
      " 18  @LastEditorDisplayName  940 non-null    object\n",
      " 19  @OwnerDisplayName       2075 non-null   object\n",
      " 20  @ClosedDate             2080 non-null   object\n",
      " 21  @CommunityOwnedDate     68 non-null     object\n",
      "dtypes: object(22)\n",
      "memory usage: 10.8+ MB\n"
     ]
    }
   ],
   "source": [
    "stack_df.info()"
   ]
  },
  {
   "cell_type": "code",
   "execution_count": 9,
   "metadata": {
    "tags": []
   },
   "outputs": [],
   "source": [
    "stack_df.columns = [i.replace(\"@\",\"\") for i in stack_df.columns]"
   ]
  },
  {
   "cell_type": "code",
   "execution_count": 10,
   "metadata": {
    "tags": []
   },
   "outputs": [
    {
     "data": {
      "text/plain": [
       "Id                                                                       1\n",
       "PostTypeId                                                               1\n",
       "AcceptedAnswerId                                                      2776\n",
       "CreationDate                                       2011-11-30T19:15:54.070\n",
       "Score                                                                   31\n",
       "ViewCount                                                             8503\n",
       "Body                     <p>Some comedians / actors are given creative ...\n",
       "OwnerUserId                                                             11\n",
       "LastEditorUserId                                                     94442\n",
       "LastEditDate                                       2022-02-12T21:59:39.633\n",
       "LastActivityDate                                   2022-02-12T21:59:39.633\n",
       "Title                    To what extent were the actors in Wedding Cras...\n",
       "Tags                                                    <wedding-crashers>\n",
       "AnswerCount                                                              2\n",
       "CommentCount                                                             0\n",
       "ContentLicense                                                CC BY-SA 4.0\n",
       "ParentId                                                               NaN\n",
       "FavoriteCount                                                          NaN\n",
       "LastEditorDisplayName                                                  NaN\n",
       "OwnerDisplayName                                                       NaN\n",
       "ClosedDate                                                             NaN\n",
       "CommunityOwnedDate                                                     NaN\n",
       "Name: 0, dtype: object"
      ]
     },
     "execution_count": 10,
     "metadata": {},
     "output_type": "execute_result"
    }
   ],
   "source": [
    "stack_df.loc[0]"
   ]
  },
  {
   "cell_type": "markdown",
   "metadata": {},
   "source": [
    "# Setting an index"
   ]
  },
  {
   "cell_type": "code",
   "execution_count": 11,
   "metadata": {
    "tags": []
   },
   "outputs": [
    {
     "data": {
      "text/plain": [
       "Index(['Id', 'PostTypeId', 'AcceptedAnswerId', 'CreationDate', 'Score',\n",
       "       'ViewCount', 'Body', 'OwnerUserId', 'LastEditorUserId', 'LastEditDate',\n",
       "       'LastActivityDate', 'Title', 'Tags', 'AnswerCount', 'CommentCount',\n",
       "       'ContentLicense', 'ParentId', 'FavoriteCount', 'LastEditorDisplayName',\n",
       "       'OwnerDisplayName', 'ClosedDate', 'CommunityOwnedDate'],\n",
       "      dtype='object')"
      ]
     },
     "execution_count": 11,
     "metadata": {},
     "output_type": "execute_result"
    }
   ],
   "source": [
    "stack_df.columns"
   ]
  },
  {
   "cell_type": "code",
   "execution_count": 12,
   "metadata": {
    "tags": []
   },
   "outputs": [],
   "source": [
    "stack_df.set_index('Id', inplace=True)"
   ]
  },
  {
   "cell_type": "markdown",
   "metadata": {},
   "source": [
    "# Handling missing data"
   ]
  },
  {
   "cell_type": "code",
   "execution_count": 13,
   "metadata": {
    "tags": []
   },
   "outputs": [
    {
     "data": {
      "text/plain": [
       "463"
      ]
     },
     "execution_count": 13,
     "metadata": {},
     "output_type": "execute_result"
    }
   ],
   "source": [
    "len(stack_df[\"OwnerDisplayName\"].unique())"
   ]
  },
  {
   "cell_type": "code",
   "execution_count": 14,
   "metadata": {
    "tags": []
   },
   "outputs": [
    {
     "data": {
      "text/plain": [
       "array([nan, 'user96', 'user35', 'user223', 'user315'], dtype=object)"
      ]
     },
     "execution_count": 14,
     "metadata": {},
     "output_type": "execute_result"
    }
   ],
   "source": [
    "stack_df[\"OwnerDisplayName\"].unique()[0:5]"
   ]
  },
  {
   "cell_type": "code",
   "execution_count": 15,
   "metadata": {
    "tags": []
   },
   "outputs": [],
   "source": [
    "stack_df[\"OwnerDisplayName\"].fillna(\"\",inplace=True)"
   ]
  },
  {
   "cell_type": "code",
   "execution_count": 16,
   "metadata": {
    "tags": []
   },
   "outputs": [
    {
     "data": {
      "text/plain": [
       "str"
      ]
     },
     "execution_count": 16,
     "metadata": {},
     "output_type": "execute_result"
    }
   ],
   "source": [
    "type(stack_df[\"OwnerDisplayName\"][0])"
   ]
  },
  {
   "cell_type": "markdown",
   "metadata": {},
   "source": [
    "# Cleaning numeric data"
   ]
  },
  {
   "cell_type": "code",
   "execution_count": 17,
   "metadata": {
    "tags": []
   },
   "outputs": [
    {
     "data": {
      "text/html": [
       "<div>\n",
       "<style scoped>\n",
       "    .dataframe tbody tr th:only-of-type {\n",
       "        vertical-align: middle;\n",
       "    }\n",
       "\n",
       "    .dataframe tbody tr th {\n",
       "        vertical-align: top;\n",
       "    }\n",
       "\n",
       "    .dataframe thead th {\n",
       "        text-align: right;\n",
       "    }\n",
       "</style>\n",
       "<table border=\"1\" class=\"dataframe\">\n",
       "  <thead>\n",
       "    <tr style=\"text-align: right;\">\n",
       "      <th></th>\n",
       "      <th>PostTypeId</th>\n",
       "      <th>AcceptedAnswerId</th>\n",
       "      <th>CreationDate</th>\n",
       "      <th>Score</th>\n",
       "      <th>ViewCount</th>\n",
       "    </tr>\n",
       "    <tr>\n",
       "      <th>Id</th>\n",
       "      <th></th>\n",
       "      <th></th>\n",
       "      <th></th>\n",
       "      <th></th>\n",
       "      <th></th>\n",
       "    </tr>\n",
       "  </thead>\n",
       "  <tbody>\n",
       "    <tr>\n",
       "      <th>1</th>\n",
       "      <td>1</td>\n",
       "      <td>2776</td>\n",
       "      <td>2011-11-30T19:15:54.070</td>\n",
       "      <td>31</td>\n",
       "      <td>8503</td>\n",
       "    </tr>\n",
       "    <tr>\n",
       "      <th>2</th>\n",
       "      <td>2</td>\n",
       "      <td>NaN</td>\n",
       "      <td>2011-11-30T19:37:10.510</td>\n",
       "      <td>15</td>\n",
       "      <td>NaN</td>\n",
       "    </tr>\n",
       "    <tr>\n",
       "      <th>3</th>\n",
       "      <td>1</td>\n",
       "      <td>814</td>\n",
       "      <td>2011-11-30T19:41:14.960</td>\n",
       "      <td>30</td>\n",
       "      <td>1946</td>\n",
       "    </tr>\n",
       "    <tr>\n",
       "      <th>4</th>\n",
       "      <td>1</td>\n",
       "      <td>120</td>\n",
       "      <td>2011-11-30T19:42:45.470</td>\n",
       "      <td>59</td>\n",
       "      <td>3929</td>\n",
       "    </tr>\n",
       "    <tr>\n",
       "      <th>6</th>\n",
       "      <td>1</td>\n",
       "      <td>21</td>\n",
       "      <td>2011-11-30T19:44:55.593</td>\n",
       "      <td>16</td>\n",
       "      <td>8337</td>\n",
       "    </tr>\n",
       "  </tbody>\n",
       "</table>\n",
       "</div>"
      ],
      "text/plain": [
       "   PostTypeId AcceptedAnswerId             CreationDate Score ViewCount\n",
       "Id                                                                     \n",
       "1           1             2776  2011-11-30T19:15:54.070    31      8503\n",
       "2           2              NaN  2011-11-30T19:37:10.510    15       NaN\n",
       "3           1              814  2011-11-30T19:41:14.960    30      1946\n",
       "4           1              120  2011-11-30T19:42:45.470    59      3929\n",
       "6           1               21  2011-11-30T19:44:55.593    16      8337"
      ]
     },
     "execution_count": 17,
     "metadata": {},
     "output_type": "execute_result"
    }
   ],
   "source": [
    "# I use [:5] for brevity. You can remove it to see all of the columns.\n",
    "stack_df[stack_df.columns[:5]].head()"
   ]
  },
  {
   "cell_type": "code",
   "execution_count": 18,
   "metadata": {
    "tags": []
   },
   "outputs": [
    {
     "name": "stdout",
     "output_type": "stream",
     "text": [
      "7.2629656227558\n"
     ]
    }
   ],
   "source": [
    "for col in [\"Score\", \"ViewCount\", \"AnswerCount\",\n",
    "            \"CommentCount\", \"FavoriteCount\"]:\n",
    "    stack_df[col] = pd.to_numeric(stack_df[col],errors=\"coerce\")\n",
    "\n",
    "print(stack_df['Score'].mean())"
   ]
  },
  {
   "cell_type": "code",
   "execution_count": 19,
   "metadata": {
    "tags": []
   },
   "outputs": [
    {
     "data": {
      "text/html": [
       "<style type=\"text/css\">\n",
       "</style>\n",
       "<table id=\"T_bdc0c\">\n",
       "  <thead>\n",
       "    <tr>\n",
       "      <th class=\"blank level0\" >&nbsp;</th>\n",
       "      <th id=\"T_bdc0c_level0_col0\" class=\"col_heading level0 col0\" >Score</th>\n",
       "      <th id=\"T_bdc0c_level0_col1\" class=\"col_heading level0 col1\" >ViewCount</th>\n",
       "      <th id=\"T_bdc0c_level0_col2\" class=\"col_heading level0 col2\" >AnswerCount</th>\n",
       "      <th id=\"T_bdc0c_level0_col3\" class=\"col_heading level0 col3\" >CommentCount</th>\n",
       "      <th id=\"T_bdc0c_level0_col4\" class=\"col_heading level0 col4\" >FavoriteCount</th>\n",
       "    </tr>\n",
       "  </thead>\n",
       "  <tbody>\n",
       "    <tr>\n",
       "      <th id=\"T_bdc0c_level0_row0\" class=\"row_heading level0 row0\" >count</th>\n",
       "      <td id=\"T_bdc0c_row0_col0\" class=\"data row0 col0\" >64054.00</td>\n",
       "      <td id=\"T_bdc0c_row0_col1\" class=\"data row0 col1\" >22570.00</td>\n",
       "      <td id=\"T_bdc0c_row0_col2\" class=\"data row0 col2\" >22570.00</td>\n",
       "      <td id=\"T_bdc0c_row0_col3\" class=\"data row0 col3\" >64054.00</td>\n",
       "      <td id=\"T_bdc0c_row0_col4\" class=\"data row0 col4\" >4886.00</td>\n",
       "    </tr>\n",
       "    <tr>\n",
       "      <th id=\"T_bdc0c_level0_row1\" class=\"row_heading level0 row1\" >mean</th>\n",
       "      <td id=\"T_bdc0c_row1_col0\" class=\"data row1 col0\" >7.26</td>\n",
       "      <td id=\"T_bdc0c_row1_col1\" class=\"data row1 col1\" >7704.07</td>\n",
       "      <td id=\"T_bdc0c_row1_col2\" class=\"data row1 col2\" >1.64</td>\n",
       "      <td id=\"T_bdc0c_row1_col3\" class=\"data row1 col3\" >1.58</td>\n",
       "      <td id=\"T_bdc0c_row1_col4\" class=\"data row1 col4\" >0.00</td>\n",
       "    </tr>\n",
       "    <tr>\n",
       "      <th id=\"T_bdc0c_level0_row2\" class=\"row_heading level0 row2\" >std</th>\n",
       "      <td id=\"T_bdc0c_row2_col0\" class=\"data row2 col0\" >11.70</td>\n",
       "      <td id=\"T_bdc0c_row2_col1\" class=\"data row2 col1\" >29366.40</td>\n",
       "      <td id=\"T_bdc0c_row2_col2\" class=\"data row2 col2\" >1.45</td>\n",
       "      <td id=\"T_bdc0c_row2_col3\" class=\"data row2 col3\" >2.44</td>\n",
       "      <td id=\"T_bdc0c_row2_col4\" class=\"data row2 col4\" >0.02</td>\n",
       "    </tr>\n",
       "    <tr>\n",
       "      <th id=\"T_bdc0c_level0_row3\" class=\"row_heading level0 row3\" >min</th>\n",
       "      <td id=\"T_bdc0c_row3_col0\" class=\"data row3 col0\" >-24.00</td>\n",
       "      <td id=\"T_bdc0c_row3_col1\" class=\"data row3 col1\" >6.00</td>\n",
       "      <td id=\"T_bdc0c_row3_col2\" class=\"data row3 col2\" >0.00</td>\n",
       "      <td id=\"T_bdc0c_row3_col3\" class=\"data row3 col3\" >0.00</td>\n",
       "      <td id=\"T_bdc0c_row3_col4\" class=\"data row3 col4\" >0.00</td>\n",
       "    </tr>\n",
       "    <tr>\n",
       "      <th id=\"T_bdc0c_level0_row4\" class=\"row_heading level0 row4\" >25%</th>\n",
       "      <td id=\"T_bdc0c_row4_col0\" class=\"data row4 col0\" >1.00</td>\n",
       "      <td id=\"T_bdc0c_row4_col1\" class=\"data row4 col1\" >422.00</td>\n",
       "      <td id=\"T_bdc0c_row4_col2\" class=\"data row4 col2\" >1.00</td>\n",
       "      <td id=\"T_bdc0c_row4_col3\" class=\"data row4 col3\" >0.00</td>\n",
       "      <td id=\"T_bdc0c_row4_col4\" class=\"data row4 col4\" >0.00</td>\n",
       "    </tr>\n",
       "    <tr>\n",
       "      <th id=\"T_bdc0c_level0_row5\" class=\"row_heading level0 row5\" >50%</th>\n",
       "      <td id=\"T_bdc0c_row5_col0\" class=\"data row5 col0\" >4.00</td>\n",
       "      <td id=\"T_bdc0c_row5_col1\" class=\"data row5 col1\" >1428.00</td>\n",
       "      <td id=\"T_bdc0c_row5_col2\" class=\"data row5 col2\" >1.00</td>\n",
       "      <td id=\"T_bdc0c_row5_col3\" class=\"data row5 col3\" >1.00</td>\n",
       "      <td id=\"T_bdc0c_row5_col4\" class=\"data row5 col4\" >0.00</td>\n",
       "    </tr>\n",
       "    <tr>\n",
       "      <th id=\"T_bdc0c_level0_row6\" class=\"row_heading level0 row6\" >75%</th>\n",
       "      <td id=\"T_bdc0c_row6_col0\" class=\"data row6 col0\" >9.00</td>\n",
       "      <td id=\"T_bdc0c_row6_col1\" class=\"data row6 col1\" >5138.00</td>\n",
       "      <td id=\"T_bdc0c_row6_col2\" class=\"data row6 col2\" >2.00</td>\n",
       "      <td id=\"T_bdc0c_row6_col3\" class=\"data row6 col3\" >2.00</td>\n",
       "      <td id=\"T_bdc0c_row6_col4\" class=\"data row6 col4\" >0.00</td>\n",
       "    </tr>\n",
       "    <tr>\n",
       "      <th id=\"T_bdc0c_level0_row7\" class=\"row_heading level0 row7\" >max</th>\n",
       "      <td id=\"T_bdc0c_row7_col0\" class=\"data row7 col0\" >326.00</td>\n",
       "      <td id=\"T_bdc0c_row7_col1\" class=\"data row7 col1\" >1528888.00</td>\n",
       "      <td id=\"T_bdc0c_row7_col2\" class=\"data row7 col2\" >19.00</td>\n",
       "      <td id=\"T_bdc0c_row7_col3\" class=\"data row7 col3\" >31.00</td>\n",
       "      <td id=\"T_bdc0c_row7_col4\" class=\"data row7 col4\" >1.00</td>\n",
       "    </tr>\n",
       "  </tbody>\n",
       "</table>\n"
      ],
      "text/plain": [
       "<pandas.io.formats.style.Styler at 0x11ba7a8d0>"
      ]
     },
     "execution_count": 19,
     "metadata": {},
     "output_type": "execute_result"
    }
   ],
   "source": [
    "stack_df.describe().style.format(\"{:0.2f}\")"
   ]
  },
  {
   "cell_type": "code",
   "execution_count": 20,
   "metadata": {
    "tags": []
   },
   "outputs": [
    {
     "name": "stdout",
     "output_type": "stream",
     "text": [
      "Missing rows for Score: 0\n",
      "Missing rows for ViewCount: 41484\n",
      "Missing rows for AnswerCount: 41484\n",
      "Missing rows for CommentCount: 0\n",
      "Missing rows for FavoriteCount: 59168\n"
     ]
    }
   ],
   "source": [
    "tot = len(stack_df)\n",
    "\n",
    "for col in [\"Score\", \"ViewCount\", \"AnswerCount\", \n",
    "            \"CommentCount\",\"FavoriteCount\"]:\n",
    "    print(f\"Missing rows for {col}:\", tot - stack_df[col].count()) "
   ]
  },
  {
   "cell_type": "markdown",
   "metadata": {},
   "source": [
    "# Cleaning up Web data"
   ]
  },
  {
   "cell_type": "code",
   "execution_count": 21,
   "metadata": {
    "tags": []
   },
   "outputs": [
    {
     "data": {
      "text/plain": [
       "'<p>According to the <a href=\"http://www.imdb.com/title/tt0396269/trivia\">trivia on IMDb</a>, Owen Wilson and Vince Vaughn improvised the \"Lock it up!\" banter. As I understand it, that also means the other scenes did not - or only slightly - diverge from the script.</p>\\n'"
      ]
     },
     "execution_count": 21,
     "metadata": {},
     "output_type": "execute_result"
    }
   ],
   "source": [
    "# Remember to set `Id` to the index (and remove the @symbols) \n",
    "# if you get an error here.\n",
    "stack_df.loc[\"2\",\"Body\"]"
   ]
  },
  {
   "cell_type": "markdown",
   "metadata": {
    "toc-hr-collapsed": false
   },
   "source": [
    "## Encoding"
   ]
  },
  {
   "cell_type": "markdown",
   "metadata": {},
   "source": [
    "## Stripping HTML from text "
   ]
  },
  {
   "cell_type": "code",
   "execution_count": 22,
   "metadata": {
    "tags": []
   },
   "outputs": [
    {
     "data": {
      "text/html": [
       "<div>\n",
       "<style scoped>\n",
       "    .dataframe tbody tr th:only-of-type {\n",
       "        vertical-align: middle;\n",
       "    }\n",
       "\n",
       "    .dataframe tbody tr th {\n",
       "        vertical-align: top;\n",
       "    }\n",
       "\n",
       "    .dataframe thead th {\n",
       "        text-align: right;\n",
       "    }\n",
       "</style>\n",
       "<table border=\"1\" class=\"dataframe\">\n",
       "  <thead>\n",
       "    <tr style=\"text-align: right;\">\n",
       "      <th></th>\n",
       "      <th>Body</th>\n",
       "      <th>BodyText</th>\n",
       "    </tr>\n",
       "    <tr>\n",
       "      <th>Id</th>\n",
       "      <th></th>\n",
       "      <th></th>\n",
       "    </tr>\n",
       "  </thead>\n",
       "  <tbody>\n",
       "    <tr>\n",
       "      <th>1</th>\n",
       "      <td>&lt;p&gt;Some comedians / actors are given creative ...</td>\n",
       "      <td>Some comedians / actors are given creative fre...</td>\n",
       "    </tr>\n",
       "    <tr>\n",
       "      <th>2</th>\n",
       "      <td>&lt;p&gt;According to the &lt;a href=\"http://www.imdb.c...</td>\n",
       "      <td>According to the trivia on IMDb, Owen Wilson a...</td>\n",
       "    </tr>\n",
       "    <tr>\n",
       "      <th>3</th>\n",
       "      <td>&lt;p&gt;In his Star Wars Episode 1 &lt;a href=\"https:/...</td>\n",
       "      <td>In his Star Wars Episode 1 review/analysis, Mi...</td>\n",
       "    </tr>\n",
       "    <tr>\n",
       "      <th>4</th>\n",
       "      <td>&lt;p&gt;I'm a big fan of the Pink Panther movies (t...</td>\n",
       "      <td>I'm a big fan of the Pink Panther movies (the ...</td>\n",
       "    </tr>\n",
       "    <tr>\n",
       "      <th>6</th>\n",
       "      <td>&lt;p&gt;At the end of the movie, adult Jack (Sean P...</td>\n",
       "      <td>At the end of the movie, adult Jack (Sean Penn...</td>\n",
       "    </tr>\n",
       "  </tbody>\n",
       "</table>\n",
       "</div>"
      ],
      "text/plain": [
       "                                                 Body  \\\n",
       "Id                                                      \n",
       "1   <p>Some comedians / actors are given creative ...   \n",
       "2   <p>According to the <a href=\"http://www.imdb.c...   \n",
       "3   <p>In his Star Wars Episode 1 <a href=\"https:/...   \n",
       "4   <p>I'm a big fan of the Pink Panther movies (t...   \n",
       "6   <p>At the end of the movie, adult Jack (Sean P...   \n",
       "\n",
       "                                             BodyText  \n",
       "Id                                                     \n",
       "1   Some comedians / actors are given creative fre...  \n",
       "2   According to the trivia on IMDb, Owen Wilson a...  \n",
       "3   In his Star Wars Episode 1 review/analysis, Mi...  \n",
       "4   I'm a big fan of the Pink Panther movies (the ...  \n",
       "6   At the end of the movie, adult Jack (Sean Penn...  "
      ]
     },
     "metadata": {},
     "output_type": "display_data"
    }
   ],
   "source": [
    "# Note - this might take a few seconds to a minute to complete. \n",
    "import bs4 \n",
    "import warnings\n",
    "\n",
    "# The parser now commonly warns that the comments might be filenames instead. \n",
    "# For discussion, example implementation, see: https://bugs.launchpad.net/beautifulsoup/+bug/1955450\n",
    "warnings.filterwarnings(\"ignore\", category=bs4.MarkupResemblesLocatorWarning)\n",
    "\n",
    "def robustParse(text):\n",
    "    try: \n",
    "        return bs4.BeautifulSoup(text, \"lxml\").text.replace(\"\\n\",\" \")\n",
    "    except: \n",
    "        return None \n",
    "\n",
    "# Note: Variable column header different from book.\n",
    "# Updated to be consistent with SemanticName conventions\n",
    "stack_df[\"BodyText\"] = stack_df[\"Body\"].map(robustParse)\n",
    "\n",
    "display(stack_df[[\"Body\",\"BodyText\"]].head())"
   ]
  },
  {
   "cell_type": "markdown",
   "metadata": {},
   "source": [
    "## Extracting links from HTML"
   ]
  },
  {
   "cell_type": "code",
   "execution_count": 23,
   "metadata": {
    "tags": []
   },
   "outputs": [
    {
     "data": {
      "text/plain": [
       "Id\n",
       "1                                                   []\n",
       "2         [http://www.imdb.com/title/tt0396269/trivia]\n",
       "3    [https://redlettermedia.com/mr-plinketts-star-...\n",
       "4    [http://www.imdb.com/title/tt0352520/, http://...\n",
       "6                                                   []\n",
       "Name: BodyURLs, dtype: object"
      ]
     },
     "execution_count": 23,
     "metadata": {},
     "output_type": "execute_result"
    }
   ],
   "source": [
    "\n",
    "# Notice that this will, like above, take a moment to run. \n",
    "def returnLinks(text):\n",
    "    try: \n",
    "        soup = bs4.BeautifulSoup(text, 'html.parser')\n",
    "        return [x['href'] for x in soup.find_all('a')\n",
    "                if 'href' in x.attrs and \"://\" in x.get('href')]\n",
    "    except:\n",
    "        return None\n",
    "\n",
    "# Let's make a new column with a list of all URLs found\n",
    "# Errata: Naming convention aligned with Stack Downloader and other cols\n",
    "#         It was ListUrl and now it is BodyURLs \n",
    "stack_df[\"BodyURLs\"] = stack_df[\"Body\"].map(returnLinks)\n",
    "\n",
    "stack_df[\"BodyURLs\"].head()"
   ]
  },
  {
   "cell_type": "markdown",
   "metadata": {},
   "source": [
    "# Cleaning up lists of data "
   ]
  },
  {
   "cell_type": "code",
   "execution_count": 24,
   "metadata": {
    "tags": []
   },
   "outputs": [
    {
     "name": "stdout",
     "output_type": "stream",
     "text": [
      "<plot-explanation><analysis><ending><the-tree-of-life>\n",
      "\n",
      "['plot-explanation', 'analysis', 'ending', 'the-tree-of-life']\n"
     ]
    }
   ],
   "source": [
    "def splitTags(text):\n",
    "    if type(text) != str:\n",
    "        return []\n",
    "    elif len(text) == 0:\n",
    "        return []\n",
    "    else:\n",
    "        return text[1:-1].split(\"><\")\n",
    "\n",
    "print(stack_df[\"Tags\"][4],end=\"\\n\\n\")\n",
    "\n",
    "stack_df[\"TagsList\"] = stack_df[\"Tags\"].map(splitTags)\n",
    "print(stack_df[\"TagsList\"][4])"
   ]
  },
  {
   "cell_type": "code",
   "execution_count": 25,
   "metadata": {
    "tags": []
   },
   "outputs": [
    {
     "data": {
      "text/plain": [
       "TagsList\n",
       "0    41484\n",
       "1     5092\n",
       "2    11805\n",
       "3     4656\n",
       "4      897\n",
       "5      120\n",
       "Name: count, dtype: int64"
      ]
     },
     "execution_count": 25,
     "metadata": {},
     "output_type": "execute_result"
    }
   ],
   "source": [
    "stack_df[\"TagsList\"].map(len).value_counts().sort_index(ascending=True)"
   ]
  },
  {
   "cell_type": "code",
   "execution_count": 26,
   "metadata": {
    "tags": []
   },
   "outputs": [
    {
     "data": {
      "text/html": [
       "<div>\n",
       "<style scoped>\n",
       "    .dataframe tbody tr th:only-of-type {\n",
       "        vertical-align: middle;\n",
       "    }\n",
       "\n",
       "    .dataframe tbody tr th {\n",
       "        vertical-align: top;\n",
       "    }\n",
       "\n",
       "    .dataframe thead th {\n",
       "        text-align: right;\n",
       "    }\n",
       "</style>\n",
       "<table border=\"1\" class=\"dataframe\">\n",
       "  <thead>\n",
       "    <tr style=\"text-align: right;\">\n",
       "      <th>TagsList</th>\n",
       "      <th>0</th>\n",
       "      <th>1</th>\n",
       "      <th>2</th>\n",
       "      <th>3</th>\n",
       "      <th>4</th>\n",
       "      <th>5</th>\n",
       "    </tr>\n",
       "    <tr>\n",
       "      <th>PostTypeId</th>\n",
       "      <th></th>\n",
       "      <th></th>\n",
       "      <th></th>\n",
       "      <th></th>\n",
       "      <th></th>\n",
       "      <th></th>\n",
       "    </tr>\n",
       "  </thead>\n",
       "  <tbody>\n",
       "    <tr>\n",
       "      <th>1</th>\n",
       "      <td>0</td>\n",
       "      <td>5092</td>\n",
       "      <td>11805</td>\n",
       "      <td>4656</td>\n",
       "      <td>897</td>\n",
       "      <td>120</td>\n",
       "    </tr>\n",
       "    <tr>\n",
       "      <th>2</th>\n",
       "      <td>37036</td>\n",
       "      <td>0</td>\n",
       "      <td>0</td>\n",
       "      <td>0</td>\n",
       "      <td>0</td>\n",
       "      <td>0</td>\n",
       "    </tr>\n",
       "    <tr>\n",
       "      <th>4</th>\n",
       "      <td>2211</td>\n",
       "      <td>0</td>\n",
       "      <td>0</td>\n",
       "      <td>0</td>\n",
       "      <td>0</td>\n",
       "      <td>0</td>\n",
       "    </tr>\n",
       "    <tr>\n",
       "      <th>5</th>\n",
       "      <td>2211</td>\n",
       "      <td>0</td>\n",
       "      <td>0</td>\n",
       "      <td>0</td>\n",
       "      <td>0</td>\n",
       "      <td>0</td>\n",
       "    </tr>\n",
       "    <tr>\n",
       "      <th>6</th>\n",
       "      <td>21</td>\n",
       "      <td>0</td>\n",
       "      <td>0</td>\n",
       "      <td>0</td>\n",
       "      <td>0</td>\n",
       "      <td>0</td>\n",
       "    </tr>\n",
       "    <tr>\n",
       "      <th>7</th>\n",
       "      <td>5</td>\n",
       "      <td>0</td>\n",
       "      <td>0</td>\n",
       "      <td>0</td>\n",
       "      <td>0</td>\n",
       "      <td>0</td>\n",
       "    </tr>\n",
       "  </tbody>\n",
       "</table>\n",
       "</div>"
      ],
      "text/plain": [
       "TagsList        0     1      2     3    4    5\n",
       "PostTypeId                                    \n",
       "1               0  5092  11805  4656  897  120\n",
       "2           37036     0      0     0    0    0\n",
       "4            2211     0      0     0    0    0\n",
       "5            2211     0      0     0    0    0\n",
       "6              21     0      0     0    0    0\n",
       "7               5     0      0     0    0    0"
      ]
     },
     "execution_count": 26,
     "metadata": {},
     "output_type": "execute_result"
    }
   ],
   "source": [
    "pd.crosstab(stack_df['PostTypeId'],stack_df['TagsList'].map(len))"
   ]
  },
  {
   "cell_type": "code",
   "execution_count": 27,
   "metadata": {
    "tags": []
   },
   "outputs": [
    {
     "name": "stdout",
     "output_type": "stream",
     "text": [
      "22570\n"
     ]
    }
   ],
   "source": [
    "print(len(stack_df[stack_df[\"Tags\"].notna()]))"
   ]
  },
  {
   "cell_type": "code",
   "execution_count": 28,
   "metadata": {
    "tags": []
   },
   "outputs": [
    {
     "data": {
      "text/html": [
       "<div>\n",
       "<style scoped>\n",
       "    .dataframe tbody tr th:only-of-type {\n",
       "        vertical-align: middle;\n",
       "    }\n",
       "\n",
       "    .dataframe tbody tr th {\n",
       "        vertical-align: top;\n",
       "    }\n",
       "\n",
       "    .dataframe thead th {\n",
       "        text-align: right;\n",
       "    }\n",
       "</style>\n",
       "<table border=\"1\" class=\"dataframe\">\n",
       "  <thead>\n",
       "    <tr style=\"text-align: right;\">\n",
       "      <th></th>\n",
       "      <th>TagsList</th>\n",
       "      <th>Body</th>\n",
       "      <th>Score</th>\n",
       "      <th>OwnerUserId</th>\n",
       "    </tr>\n",
       "    <tr>\n",
       "      <th>Id</th>\n",
       "      <th></th>\n",
       "      <th></th>\n",
       "      <th></th>\n",
       "      <th></th>\n",
       "    </tr>\n",
       "  </thead>\n",
       "  <tbody>\n",
       "    <tr>\n",
       "      <th>1</th>\n",
       "      <td>wedding-crashers</td>\n",
       "      <td>&lt;p&gt;Some comedians / actors are given creative ...</td>\n",
       "      <td>31</td>\n",
       "      <td>11</td>\n",
       "    </tr>\n",
       "    <tr>\n",
       "      <th>3</th>\n",
       "      <td>analysis</td>\n",
       "      <td>&lt;p&gt;In his Star Wars Episode 1 &lt;a href=\"https:/...</td>\n",
       "      <td>30</td>\n",
       "      <td>41</td>\n",
       "    </tr>\n",
       "    <tr>\n",
       "      <th>3</th>\n",
       "      <td>star-wars</td>\n",
       "      <td>&lt;p&gt;In his Star Wars Episode 1 &lt;a href=\"https:/...</td>\n",
       "      <td>30</td>\n",
       "      <td>41</td>\n",
       "    </tr>\n",
       "    <tr>\n",
       "      <th>4</th>\n",
       "      <td>comedy</td>\n",
       "      <td>&lt;p&gt;I'm a big fan of the Pink Panther movies (t...</td>\n",
       "      <td>59</td>\n",
       "      <td>22</td>\n",
       "    </tr>\n",
       "    <tr>\n",
       "      <th>4</th>\n",
       "      <td>the-pink-panther</td>\n",
       "      <td>&lt;p&gt;I'm a big fan of the Pink Panther movies (t...</td>\n",
       "      <td>59</td>\n",
       "      <td>22</td>\n",
       "    </tr>\n",
       "    <tr>\n",
       "      <th>6</th>\n",
       "      <td>plot-explanation</td>\n",
       "      <td>&lt;p&gt;At the end of the movie, adult Jack (Sean P...</td>\n",
       "      <td>16</td>\n",
       "      <td>34</td>\n",
       "    </tr>\n",
       "    <tr>\n",
       "      <th>6</th>\n",
       "      <td>analysis</td>\n",
       "      <td>&lt;p&gt;At the end of the movie, adult Jack (Sean P...</td>\n",
       "      <td>16</td>\n",
       "      <td>34</td>\n",
       "    </tr>\n",
       "    <tr>\n",
       "      <th>6</th>\n",
       "      <td>ending</td>\n",
       "      <td>&lt;p&gt;At the end of the movie, adult Jack (Sean P...</td>\n",
       "      <td>16</td>\n",
       "      <td>34</td>\n",
       "    </tr>\n",
       "    <tr>\n",
       "      <th>6</th>\n",
       "      <td>the-tree-of-life</td>\n",
       "      <td>&lt;p&gt;At the end of the movie, adult Jack (Sean P...</td>\n",
       "      <td>16</td>\n",
       "      <td>34</td>\n",
       "    </tr>\n",
       "    <tr>\n",
       "      <th>10</th>\n",
       "      <td>plot-explanation</td>\n",
       "      <td>&lt;p&gt;Frank Costello the mob boss, one of the mai...</td>\n",
       "      <td>21</td>\n",
       "      <td>11</td>\n",
       "    </tr>\n",
       "  </tbody>\n",
       "</table>\n",
       "</div>"
      ],
      "text/plain": [
       "            TagsList                                               Body  \\\n",
       "Id                                                                        \n",
       "1   wedding-crashers  <p>Some comedians / actors are given creative ...   \n",
       "3           analysis  <p>In his Star Wars Episode 1 <a href=\"https:/...   \n",
       "3          star-wars  <p>In his Star Wars Episode 1 <a href=\"https:/...   \n",
       "4             comedy  <p>I'm a big fan of the Pink Panther movies (t...   \n",
       "4   the-pink-panther  <p>I'm a big fan of the Pink Panther movies (t...   \n",
       "6   plot-explanation  <p>At the end of the movie, adult Jack (Sean P...   \n",
       "6           analysis  <p>At the end of the movie, adult Jack (Sean P...   \n",
       "6             ending  <p>At the end of the movie, adult Jack (Sean P...   \n",
       "6   the-tree-of-life  <p>At the end of the movie, adult Jack (Sean P...   \n",
       "10  plot-explanation  <p>Frank Costello the mob boss, one of the mai...   \n",
       "\n",
       "    Score OwnerUserId  \n",
       "Id                     \n",
       "1      31          11  \n",
       "3      30          41  \n",
       "3      30          41  \n",
       "4      59          22  \n",
       "4      59          22  \n",
       "6      16          34  \n",
       "6      16          34  \n",
       "6      16          34  \n",
       "6      16          34  \n",
       "10     21          11  "
      ]
     },
     "metadata": {},
     "output_type": "display_data"
    }
   ],
   "source": [
    "longtag_stack_df = stack_df[stack_df[\"Tags\"].notna()].explode(\"TagsList\")\n",
    "display(longtag_stack_df[[\"TagsList\",\n",
    "                          \"Body\",\n",
    "                          \"Score\",\n",
    "                          \"OwnerUserId\"]].head(10))"
   ]
  },
  {
   "cell_type": "code",
   "execution_count": 29,
   "metadata": {
    "tags": []
   },
   "outputs": [
    {
     "data": {
      "text/html": [
       "<div>\n",
       "<style scoped>\n",
       "    .dataframe tbody tr th:only-of-type {\n",
       "        vertical-align: middle;\n",
       "    }\n",
       "\n",
       "    .dataframe tbody tr th {\n",
       "        vertical-align: top;\n",
       "    }\n",
       "\n",
       "    .dataframe thead th {\n",
       "        text-align: right;\n",
       "    }\n",
       "</style>\n",
       "<table border=\"1\" class=\"dataframe\">\n",
       "  <thead>\n",
       "    <tr style=\"text-align: right;\">\n",
       "      <th></th>\n",
       "      <th>TagsList</th>\n",
       "      <th>QuestionId</th>\n",
       "      <th>Score</th>\n",
       "      <th>OwnerUserId</th>\n",
       "    </tr>\n",
       "  </thead>\n",
       "  <tbody>\n",
       "    <tr>\n",
       "      <th>0</th>\n",
       "      <td>wedding-crashers</td>\n",
       "      <td>1</td>\n",
       "      <td>31</td>\n",
       "      <td>11</td>\n",
       "    </tr>\n",
       "    <tr>\n",
       "      <th>1</th>\n",
       "      <td>analysis</td>\n",
       "      <td>3</td>\n",
       "      <td>30</td>\n",
       "      <td>41</td>\n",
       "    </tr>\n",
       "    <tr>\n",
       "      <th>2</th>\n",
       "      <td>star-wars</td>\n",
       "      <td>3</td>\n",
       "      <td>30</td>\n",
       "      <td>41</td>\n",
       "    </tr>\n",
       "    <tr>\n",
       "      <th>3</th>\n",
       "      <td>comedy</td>\n",
       "      <td>4</td>\n",
       "      <td>59</td>\n",
       "      <td>22</td>\n",
       "    </tr>\n",
       "    <tr>\n",
       "      <th>4</th>\n",
       "      <td>the-pink-panther</td>\n",
       "      <td>4</td>\n",
       "      <td>59</td>\n",
       "      <td>22</td>\n",
       "    </tr>\n",
       "    <tr>\n",
       "      <th>5</th>\n",
       "      <td>plot-explanation</td>\n",
       "      <td>6</td>\n",
       "      <td>16</td>\n",
       "      <td>34</td>\n",
       "    </tr>\n",
       "  </tbody>\n",
       "</table>\n",
       "</div>"
      ],
      "text/plain": [
       "           TagsList QuestionId  Score OwnerUserId\n",
       "0  wedding-crashers          1     31          11\n",
       "1          analysis          3     30          41\n",
       "2         star-wars          3     30          41\n",
       "3            comedy          4     59          22\n",
       "4  the-pink-panther          4     59          22\n",
       "5  plot-explanation          6     16          34"
      ]
     },
     "metadata": {},
     "output_type": "display_data"
    }
   ],
   "source": [
    "longtag_stack_df['QuestionId'] = longtag_stack_df.index\n",
    "longtag_stack_df.index = pd.RangeIndex(len(longtag_stack_df))\n",
    "display(longtag_stack_df[[\"TagsList\",\n",
    "                          \"QuestionId\",\n",
    "                          \"Score\",\n",
    "                          \"OwnerUserId\"]].head(6))"
   ]
  },
  {
   "cell_type": "markdown",
   "metadata": {},
   "source": [
    "# Parsing time in the Stack Exchange "
   ]
  },
  {
   "cell_type": "code",
   "execution_count": 30,
   "metadata": {
    "tags": []
   },
   "outputs": [
    {
     "name": "stdout",
     "output_type": "stream",
     "text": [
      "Number of missing for CreationDate:  0\n",
      "Number of missing for LastEditDate:  23206\n",
      "Number of missing for LastActivityDate:  0\n",
      "Number of missing for ClosedDate:  61974\n",
      "Number of missing for CommunityOwnedDate:  63986\n"
     ]
    }
   ],
   "source": [
    "for col in [\"CreationDate\", \"LastEditDate\", \"LastActivityDate\", \n",
    "            \"ClosedDate\", \"CommunityOwnedDate\"]:\n",
    "    stack_df[col] = pd.to_datetime(stack_df[col])\n",
    "    print(f\"Number of missing for {col}: \",\n",
    "          len(stack_df)-stack_df[col].count())"
   ]
  },
  {
   "cell_type": "code",
   "execution_count": 31,
   "metadata": {
    "tags": []
   },
   "outputs": [
    {
     "name": "stdout",
     "output_type": "stream",
     "text": [
      "There were 9545 posts created in 2016\n"
     ]
    }
   ],
   "source": [
    "# Slice by time 1: By Year\n",
    "year = 2016\n",
    "cyear = len(stack_df[stack_df[\"CreationDate\"].dt.year == year])\n",
    "print(f\"There were {cyear} posts created in {year}\")"
   ]
  },
  {
   "cell_type": "code",
   "execution_count": 32,
   "metadata": {
    "tags": []
   },
   "outputs": [
    {
     "name": "stdout",
     "output_type": "stream",
     "text": [
      "There were 22 posts made between 2015-03-14 and 2015-03-15\n"
     ]
    }
   ],
   "source": [
    "# Time slicing: For one specific day\n",
    "t1 = '2015-03-14'; t2 = '2015-03-15'\n",
    "mask = (stack_df[\"CreationDate\"]>= t1) & \\\n",
    "       (stack_df[\"CreationDate\"]< t2)\n",
    "\n",
    "print(f\"There were {len(stack_df[mask])} posts made between\",\n",
    "      f\"{t1} and {t2}\")"
   ]
  },
  {
   "cell_type": "code",
   "execution_count": 33,
   "metadata": {
    "tags": []
   },
   "outputs": [
    {
     "data": {
      "text/plain": [
       "pandas._libs.tslibs.timestamps.Timestamp"
      ]
     },
     "execution_count": 33,
     "metadata": {},
     "output_type": "execute_result"
    }
   ],
   "source": [
    "type(stack_df[\"CreationDate\"][0])"
   ]
  },
  {
   "cell_type": "markdown",
   "metadata": {},
   "source": [
    "# Regular expressions"
   ]
  },
  {
   "cell_type": "code",
   "execution_count": 34,
   "metadata": {
    "tags": []
   },
   "outputs": [
    {
     "name": "stdout",
     "output_type": "stream",
     "text": [
      "['new g', 'new s']\n",
      "['new t']\n",
      "[]\n",
      "['new b']\n"
     ]
    }
   ],
   "source": [
    "list_Comments = [\"I wanted a new guitar for Christmas, not a new sweater\", \n",
    "                 \"I always knew trombones were not for me\", \n",
    "                 \"Woohoo! New drums for my kit.\", \n",
    "                 \"What to do with my new bass?\"]\n",
    "\n",
    "import re\n",
    "\n",
    "pattern = re.compile(r\"new \\w\")\n",
    "for comment in list_Comments: \n",
    "    print(pattern.findall(comment))"
   ]
  },
  {
   "cell_type": "code",
   "execution_count": 35,
   "metadata": {
    "tags": []
   },
   "outputs": [
    {
     "name": "stdout",
     "output_type": "stream",
     "text": [
      "['new guitar', 'new sweater']\n",
      "['new trombones']\n",
      "[]\n",
      "['new bass']\n"
     ]
    }
   ],
   "source": [
    "pattern = re.compile(r\"new \\w*\")\n",
    "for comment in list_Comments: \n",
    "    print(pattern.findall(comment))"
   ]
  },
  {
   "cell_type": "code",
   "execution_count": 36,
   "metadata": {
    "tags": []
   },
   "outputs": [
    {
     "name": "stdout",
     "output_type": "stream",
     "text": [
      "['new guitar', 'new sweater']\n",
      "[]\n",
      "['New drums']\n",
      "['new bass']\n"
     ]
    }
   ],
   "source": [
    "pattern = re.compile(r\"\\bnew \\w*\",re.IGNORECASE)\n",
    "for comment in list_Comments: \n",
    "    print(pattern.findall(comment))"
   ]
  },
  {
   "cell_type": "markdown",
   "metadata": {},
   "source": [
    "## Further learning for regular expressions"
   ]
  },
  {
   "cell_type": "code",
   "execution_count": 37,
   "metadata": {
    "tags": []
   },
   "outputs": [
    {
     "name": "stdout",
     "output_type": "stream",
     "text": [
      "H\n"
     ]
    }
   ],
   "source": [
    "# Try the various codes yourself for the text in the example\n",
    "pattern = \"\\w\"\n",
    "text = \"Happy Birthday: It's 21 time!\" \n",
    "\n",
    "if re_match := re.compile(pattern).search(text):\n",
    "    print(re_match[0])"
   ]
  },
  {
   "cell_type": "markdown",
   "metadata": {},
   "source": [
    "## Regular expressions and _ground truth_"
   ]
  },
  {
   "cell_type": "code",
   "execution_count": 38,
   "metadata": {
    "tags": []
   },
   "outputs": [],
   "source": [
    "email_pattern = \"\\A[a-z0-9!#$%&'*+/=?^_‘{|}~-]+(?:\\.[a-z0-9!#$%&'*+/=?^_‘{|}~-]+)*@(?:[a-z0-9](?:[a-z0-9-]*[a-z0-9])?\\.)+[a-z0-9](?:[a-z0-9-]*[a-z0-9])?\\z\""
   ]
  },
  {
   "cell_type": "markdown",
   "metadata": {},
   "source": [
    "# Storing our work"
   ]
  },
  {
   "cell_type": "code",
   "execution_count": 39,
   "metadata": {
    "tags": []
   },
   "outputs": [],
   "source": [
    "# Previous export to pickle. Now recommending feather instead (for long-term maintainability)\n",
    "#\n",
    "# import pickle \n",
    "#\n",
    "# with open(Path.cwd().parent / \"data\" / \"movies_stack_df.pkl\",'wb') as fileout: \n",
    "#     fileout.write(pickle.dumps(stack_df))\n",
    "\n",
    "stack_df.reset_index().to_feather(Path.cwd().parent / \"data\" / \"movies_stack_df.feather\")"
   ]
  },
  {
   "cell_type": "markdown",
   "metadata": {},
   "source": [
    "# Summary"
   ]
  },
  {
   "cell_type": "markdown",
   "metadata": {},
   "source": [
    "# Further Reading "
   ]
  },
  {
   "cell_type": "markdown",
   "metadata": {},
   "source": [
    "# Extensions and reflections "
   ]
  }
 ],
 "metadata": {
  "kernelspec": {
   "display_name": "Python 3 (ipykernel)",
   "language": "python",
   "name": "python3"
  },
  "language_info": {
   "codemirror_mode": {
    "name": "ipython",
    "version": 3
   },
   "file_extension": ".py",
   "mimetype": "text/x-python",
   "name": "python",
   "nbconvert_exporter": "python",
   "pygments_lexer": "ipython3",
   "version": "3.11.5"
  },
  "toc-autonumbering": true
 },
 "nbformat": 4,
 "nbformat_minor": 4
}
