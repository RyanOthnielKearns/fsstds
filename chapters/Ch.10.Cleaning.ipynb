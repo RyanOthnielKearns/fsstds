{
 "cells": [
  {
   "cell_type": "markdown",
   "metadata": {
    "tags": []
   },
   "source": [
    "## Data as a form of social context\n",
    "Thank you for checking out the code for: \n",
    "\n",
    "> Hogan, Bernie (2022, forthcoming) _From Social Science to Data Science_. Sage Publications. \n",
    "\n",
    "This notebook contains the code from the book, along with the headers and additional author notes that are not in the book as a way to help navigate the code. You can run this notebook in a browser by clicking the buttons below. \n",
    "    \n",
    "The version that is uploaded to GitHub should have all the results pasted, but the best way to follow along is to clear all outputs and then start afresh. To do this in Jupyter go the menu and select \"Kernel -> Restart Kernel and Clear all Outputs...\". To do this on Google Colab go to the menu and select \"Edit -> Clear all outputs\".\n",
    "    \n",
    "The most up-to-date version of this code can be found at https://www.github.com/berniehogan/fsstds \n",
    "\n",
    "Additional resources and teaching materials can be found on Sage's forthcoming website for this book. \n",
    "\n",
    "All code for the book and derivative code on the book's repository is released open source under the  MIT license. \n",
    "    \n",
    "\n",
    "[![Binder](https://mybinder.org/badge.svg)](https://mybinder.org/v2/gh/berniehogan/fsstds/main?filepath=chapters%2FCh.10.Cleaning.ipynb)[![Colab](https://colab.research.google.com/assets/colab-badge.svg)](https://colab.research.google.com/github/berniehogan/fsstds/blob/main/chapters/Ch.10.Cleaning.ipynb)"
   ]
  },
  {
   "cell_type": "markdown",
   "metadata": {},
   "source": [
    "# A sustained example for cleaning: Stack Exchange"
   ]
  },
  {
   "cell_type": "code",
   "execution_count": 1,
   "metadata": {},
   "outputs": [
    {
     "name": "stdout",
     "output_type": "stream",
     "text": [
      "﻿<?xml version=\"1.0\" encoding=\"utf-8\"?>\n",
      "<posts>\n",
      "  <row Id=\"1\" PostTypeId=\"1\" AcceptedAnswerId=\"2776\" CreationDate=\"2011-11-30T19:15:54.070\" Score=\"31\" ViewCount=\"7679\" Body=\"&lt;p&gt;Some comedians / actors are given creative freedom to improvise at times when producing a new film. Is there any evidence that Vince Vaughn or Owen Wilson improvised in any scenes, diverging from the script in the film &amp;quot;Wedding Crashers&amp;quot;?&lt;/p&gt;&#xA;\" OwnerUserId=\"11\" LastEditorUserId=\"94442\" LastEditDate=\"2022-02-12T21:59:39.633\" LastActivityDate=\"2022-02-12T21:59:39.633\" Title=\"To what extent were the actors in Wedding Crashers improvising?\" Tags=\"&lt;wedding-crashers&gt;\" AnswerCount=\"2\" CommentCount=\"0\" ContentLicense=\"CC BY-SA 4.0\" />\n",
      "  <row Id=\"2\" PostTypeId=\"2\" ParentId=\"1\" CreationDate=\"2011-11-30T19:37:10.510\" Score=\"14\" Body=\"&lt;p&gt;According to the &lt;a href=&quot;http://www.imdb.com/title/tt0396269/trivia&quot;&gt;trivia on IMDb&lt;/a&gt;, Owen Wilson and Vince Vaughn im\n"
     ]
    }
   ],
   "source": [
    "from pathlib import Path\n",
    "\n",
    "# I just unzipped the file within the data folder.\n",
    "data_dir = Path().cwd().parent / \"data\" / \"movies.stackexchange.com\"\n",
    "\n",
    "print(open(data_dir / \"Posts.xml\").read(1000))"
   ]
  },
  {
   "cell_type": "code",
   "execution_count": 2,
   "metadata": {},
   "outputs": [
    {
     "name": "stdout",
     "output_type": "stream",
     "text": [
      "<class 'collections.OrderedDict'>\n"
     ]
    }
   ],
   "source": [
    "import xmltodict \n",
    "\n",
    "xml_data = open(data_dir / \"Posts.xml\",'r').read()\n",
    "\n",
    "stack_dict = xmltodict.parse(xml_data)\n",
    "print(type(stack_dict))"
   ]
  },
  {
   "cell_type": "code",
   "execution_count": 3,
   "metadata": {},
   "outputs": [
    {
     "name": "stdout",
     "output_type": "stream",
     "text": [
      "odict_keys(['row'])\n",
      "<class 'list'>\n"
     ]
    }
   ],
   "source": [
    "print(stack_dict[\"posts\"].keys())\n",
    "print(type(stack_dict[\"posts\"][\"row\"]))"
   ]
  },
  {
   "cell_type": "code",
   "execution_count": 4,
   "metadata": {},
   "outputs": [
    {
     "data": {
      "text/plain": [
       "OrderedDict([('@Id', '1'),\n",
       "             ('@PostTypeId', '1'),\n",
       "             ('@AcceptedAnswerId', '2776'),\n",
       "             ('@CreationDate', '2011-11-30T19:15:54.070'),\n",
       "             ('@Score', '31'),\n",
       "             ('@ViewCount', '7679'),\n",
       "             ('@Body',\n",
       "              '<p>Some comedians / actors are given creative freedom to improvise at times when producing a new film. Is there any evidence that Vince Vaughn or Owen Wilson improvised in any scenes, diverging from the script in the film &quot;Wedding Crashers&quot;?</p>\\n'),\n",
       "             ('@OwnerUserId', '11'),\n",
       "             ('@LastEditorUserId', '94442'),\n",
       "             ('@LastEditDate', '2022-02-12T21:59:39.633'),\n",
       "             ('@LastActivityDate', '2022-02-12T21:59:39.633'),\n",
       "             ('@Title',\n",
       "              'To what extent were the actors in Wedding Crashers improvising?'),\n",
       "             ('@Tags', '<wedding-crashers>'),\n",
       "             ('@AnswerCount', '2'),\n",
       "             ('@CommentCount', '0'),\n",
       "             ('@ContentLicense', 'CC BY-SA 4.0')])"
      ]
     },
     "metadata": {},
     "output_type": "display_data"
    }
   ],
   "source": [
    "display(stack_dict[\"posts\"][\"row\"][0])"
   ]
  },
  {
   "cell_type": "code",
   "execution_count": 5,
   "metadata": {},
   "outputs": [
    {
     "name": "stdout",
     "output_type": "stream",
     "text": [
      "61184\n"
     ]
    }
   ],
   "source": [
    "print(len(stack_dict['posts']['row']))"
   ]
  },
  {
   "cell_type": "code",
   "execution_count": 6,
   "metadata": {},
   "outputs": [],
   "source": [
    "import pandas as pd \n",
    "\n",
    "stack_df = pd.json_normalize(stack_dict[\"posts\"][\"row\"])"
   ]
  },
  {
   "cell_type": "markdown",
   "metadata": {},
   "source": [
    "## Quick summaries of the dataset "
   ]
  },
  {
   "cell_type": "code",
   "execution_count": 7,
   "metadata": {},
   "outputs": [
    {
     "name": "stdout",
     "output_type": "stream",
     "text": [
      "<class 'pandas.core.frame.DataFrame'>\n",
      "RangeIndex: 61184 entries, 0 to 61183\n",
      "Data columns (total 22 columns):\n",
      " #   Column                  Non-Null Count  Dtype \n",
      "---  ------                  --------------  ----- \n",
      " 0   @Id                     61184 non-null  object\n",
      " 1   @PostTypeId             61184 non-null  object\n",
      " 2   @AcceptedAnswerId       13049 non-null  object\n",
      " 3   @CreationDate           61184 non-null  object\n",
      " 4   @Score                  61184 non-null  object\n",
      " 5   @ViewCount              21504 non-null  object\n",
      " 6   @Body                   61184 non-null  object\n",
      " 7   @OwnerUserId            59408 non-null  object\n",
      " 8   @LastEditorUserId       38375 non-null  object\n",
      " 9   @LastEditDate           39037 non-null  object\n",
      " 10  @LastActivityDate       61184 non-null  object\n",
      " 11  @Title                  21504 non-null  object\n",
      " 12  @Tags                   21504 non-null  object\n",
      " 13  @AnswerCount            21504 non-null  object\n",
      " 14  @CommentCount           61184 non-null  object\n",
      " 15  @ContentLicense         61184 non-null  object\n",
      " 16  @ParentId               35380 non-null  object\n",
      " 17  @FavoriteCount          11729 non-null  object\n",
      " 18  @LastEditorDisplayName  903 non-null    object\n",
      " 19  @ClosedDate             2040 non-null   object\n",
      " 20  @OwnerDisplayName       1939 non-null   object\n",
      " 21  @CommunityOwnedDate     66 non-null     object\n",
      "dtypes: object(22)\n",
      "memory usage: 10.3+ MB\n"
     ]
    }
   ],
   "source": [
    "stack_df.info()"
   ]
  },
  {
   "cell_type": "code",
   "execution_count": 8,
   "metadata": {},
   "outputs": [],
   "source": [
    "stack_df.columns = [i.replace(\"@\",\"\") for i in stack_df.columns]"
   ]
  },
  {
   "cell_type": "code",
   "execution_count": 9,
   "metadata": {},
   "outputs": [
    {
     "data": {
      "text/plain": [
       "Id                                                                       1\n",
       "PostTypeId                                                               1\n",
       "AcceptedAnswerId                                                      2776\n",
       "CreationDate                                       2011-11-30T19:15:54.070\n",
       "Score                                                                   31\n",
       "ViewCount                                                             7679\n",
       "Body                     <p>Some comedians / actors are given creative ...\n",
       "OwnerUserId                                                             11\n",
       "LastEditorUserId                                                     94442\n",
       "LastEditDate                                       2022-02-12T21:59:39.633\n",
       "LastActivityDate                                   2022-02-12T21:59:39.633\n",
       "Title                    To what extent were the actors in Wedding Cras...\n",
       "Tags                                                    <wedding-crashers>\n",
       "AnswerCount                                                              2\n",
       "CommentCount                                                             0\n",
       "ContentLicense                                                CC BY-SA 4.0\n",
       "ParentId                                                               NaN\n",
       "FavoriteCount                                                          NaN\n",
       "LastEditorDisplayName                                                  NaN\n",
       "ClosedDate                                                             NaN\n",
       "OwnerDisplayName                                                       NaN\n",
       "CommunityOwnedDate                                                     NaN\n",
       "Name: 0, dtype: object"
      ]
     },
     "execution_count": 9,
     "metadata": {},
     "output_type": "execute_result"
    }
   ],
   "source": [
    "stack_df.loc[0]"
   ]
  },
  {
   "cell_type": "markdown",
   "metadata": {},
   "source": [
    "# Setting an index"
   ]
  },
  {
   "cell_type": "code",
   "execution_count": 10,
   "metadata": {},
   "outputs": [
    {
     "data": {
      "text/plain": [
       "Index(['Id', 'PostTypeId', 'AcceptedAnswerId', 'CreationDate', 'Score',\n",
       "       'ViewCount', 'Body', 'OwnerUserId', 'LastEditorUserId', 'LastEditDate',\n",
       "       'LastActivityDate', 'Title', 'Tags', 'AnswerCount', 'CommentCount',\n",
       "       'ContentLicense', 'ParentId', 'FavoriteCount', 'LastEditorDisplayName',\n",
       "       'ClosedDate', 'OwnerDisplayName', 'CommunityOwnedDate'],\n",
       "      dtype='object')"
      ]
     },
     "execution_count": 10,
     "metadata": {},
     "output_type": "execute_result"
    }
   ],
   "source": [
    "stack_df.columns"
   ]
  },
  {
   "cell_type": "code",
   "execution_count": 11,
   "metadata": {},
   "outputs": [],
   "source": [
    "stack_df.set_index('Id', inplace=True)"
   ]
  },
  {
   "cell_type": "markdown",
   "metadata": {},
   "source": [
    "# Handling missing data"
   ]
  },
  {
   "cell_type": "code",
   "execution_count": 12,
   "metadata": {},
   "outputs": [
    {
     "data": {
      "text/plain": [
       "417"
      ]
     },
     "execution_count": 12,
     "metadata": {},
     "output_type": "execute_result"
    }
   ],
   "source": [
    "len(stack_df[\"OwnerDisplayName\"].unique())"
   ]
  },
  {
   "cell_type": "code",
   "execution_count": 13,
   "metadata": {},
   "outputs": [
    {
     "data": {
      "text/plain": [
       "array([nan, 'user35', 'user223', 'user315', 'spugsley'], dtype=object)"
      ]
     },
     "execution_count": 13,
     "metadata": {},
     "output_type": "execute_result"
    }
   ],
   "source": [
    "stack_df[\"OwnerDisplayName\"].unique()[0:5]"
   ]
  },
  {
   "cell_type": "code",
   "execution_count": 14,
   "metadata": {},
   "outputs": [],
   "source": [
    "stack_df[\"OwnerDisplayName\"].fillna(\"\",inplace=True)"
   ]
  },
  {
   "cell_type": "code",
   "execution_count": 15,
   "metadata": {},
   "outputs": [
    {
     "data": {
      "text/plain": [
       "str"
      ]
     },
     "execution_count": 15,
     "metadata": {},
     "output_type": "execute_result"
    }
   ],
   "source": [
    "type(stack_df[\"OwnerDisplayName\"][0])"
   ]
  },
  {
   "cell_type": "markdown",
   "metadata": {},
   "source": [
    "# Cleaning numeric data"
   ]
  },
  {
   "cell_type": "code",
   "execution_count": null,
   "metadata": {},
   "outputs": [],
   "source": [
    "# I use [:5] for brevity. You can remove it to see all of the columns.\n",
    "stack_df[stack_df.columns[:5]].head()"
   ]
  },
  {
   "cell_type": "code",
   "execution_count": 16,
   "metadata": {},
   "outputs": [
    {
     "name": "stdout",
     "output_type": "stream",
     "text": [
      "7.281544194560669\n"
     ]
    }
   ],
   "source": [
    "for col in [\"Score\", \"ViewCount\", \"AnswerCount\",\n",
    "            \"CommentCount\", \"FavoriteCount\"]:\n",
    "    stack_df[col] = pd.to_numeric(stack_df[col],errors=\"coerce\")\n",
    "\n",
    "print(stack_df['Score'].mean())"
   ]
  },
  {
   "cell_type": "code",
   "execution_count": null,
   "metadata": {},
   "outputs": [],
   "source": [
    "stack_df.describe().style.format(\"{:0.2f}\")"
   ]
  },
  {
   "cell_type": "code",
   "execution_count": 17,
   "metadata": {},
   "outputs": [
    {
     "name": "stdout",
     "output_type": "stream",
     "text": [
      "Missing rows for Score: 0\n",
      "Missing rows for ViewCount: 39680\n",
      "Missing rows for AnswerCount: 39680\n",
      "Missing rows for CommentCount: 0\n",
      "Missing rows for FavoriteCount: 49455\n"
     ]
    }
   ],
   "source": [
    "tot = len(stack_df)\n",
    "\n",
    "for col in [\"Score\", \"ViewCount\", \"AnswerCount\", \n",
    "            \"CommentCount\",\"FavoriteCount\"]:\n",
    "    print(f\"Missing rows for {col}:\", tot - stack_df[col].count()) "
   ]
  },
  {
   "cell_type": "markdown",
   "metadata": {},
   "source": [
    "# Cleaning up Web data"
   ]
  },
  {
   "cell_type": "code",
   "execution_count": 18,
   "metadata": {},
   "outputs": [
    {
     "data": {
      "text/plain": [
       "'<p>According to the <a href=\"http://www.imdb.com/title/tt0396269/trivia\">trivia on IMDb</a>, Owen Wilson and Vince Vaughn improvised the \"Lock it up!\" banter. As I understand it, that also means the other scenes did not - or only slightly - diverge from the script.</p>\\n'"
      ]
     },
     "execution_count": 18,
     "metadata": {},
     "output_type": "execute_result"
    }
   ],
   "source": [
    "# Remember to set `Id` to the index (and remove the @symbols) \n",
    "# if you get an error here.\n",
    "stack_df.loc[\"2\",\"Body\"]"
   ]
  },
  {
   "cell_type": "markdown",
   "metadata": {
    "toc-hr-collapsed": false
   },
   "source": [
    "## Encoding"
   ]
  },
  {
   "cell_type": "markdown",
   "metadata": {},
   "source": [
    "## Stripping HTML from text "
   ]
  },
  {
   "cell_type": "code",
   "execution_count": 19,
   "metadata": {},
   "outputs": [
    {
     "data": {
      "text/html": [
       "<div>\n",
       "<style scoped>\n",
       "    .dataframe tbody tr th:only-of-type {\n",
       "        vertical-align: middle;\n",
       "    }\n",
       "\n",
       "    .dataframe tbody tr th {\n",
       "        vertical-align: top;\n",
       "    }\n",
       "\n",
       "    .dataframe thead th {\n",
       "        text-align: right;\n",
       "    }\n",
       "</style>\n",
       "<table border=\"1\" class=\"dataframe\">\n",
       "  <thead>\n",
       "    <tr style=\"text-align: right;\">\n",
       "      <th></th>\n",
       "      <th>Body</th>\n",
       "      <th>CleanBody</th>\n",
       "    </tr>\n",
       "    <tr>\n",
       "      <th>Id</th>\n",
       "      <th></th>\n",
       "      <th></th>\n",
       "    </tr>\n",
       "  </thead>\n",
       "  <tbody>\n",
       "    <tr>\n",
       "      <th>1</th>\n",
       "      <td>&lt;p&gt;Some comedians / actors are given creative ...</td>\n",
       "      <td>Some comedians / actors are given creative fre...</td>\n",
       "    </tr>\n",
       "    <tr>\n",
       "      <th>2</th>\n",
       "      <td>&lt;p&gt;According to the &lt;a href=\"http://www.imdb.c...</td>\n",
       "      <td>According to the trivia on IMDb, Owen Wilson a...</td>\n",
       "    </tr>\n",
       "    <tr>\n",
       "      <th>3</th>\n",
       "      <td>&lt;p&gt;In his Star Wars Episode 1 &lt;a href=\"https:/...</td>\n",
       "      <td>In his Star Wars Episode 1 review/analysis, Mi...</td>\n",
       "    </tr>\n",
       "    <tr>\n",
       "      <th>4</th>\n",
       "      <td>&lt;p&gt;I'm a big fan of the Pink Panther movies (t...</td>\n",
       "      <td>I'm a big fan of the Pink Panther movies (the ...</td>\n",
       "    </tr>\n",
       "    <tr>\n",
       "      <th>6</th>\n",
       "      <td>&lt;p&gt;At the end of the movie, adult Jack (Sean P...</td>\n",
       "      <td>At the end of the movie, adult Jack (Sean Penn...</td>\n",
       "    </tr>\n",
       "  </tbody>\n",
       "</table>\n",
       "</div>"
      ],
      "text/plain": [
       "                                                 Body  \\\n",
       "Id                                                      \n",
       "1   <p>Some comedians / actors are given creative ...   \n",
       "2   <p>According to the <a href=\"http://www.imdb.c...   \n",
       "3   <p>In his Star Wars Episode 1 <a href=\"https:/...   \n",
       "4   <p>I'm a big fan of the Pink Panther movies (t...   \n",
       "6   <p>At the end of the movie, adult Jack (Sean P...   \n",
       "\n",
       "                                            CleanBody  \n",
       "Id                                                     \n",
       "1   Some comedians / actors are given creative fre...  \n",
       "2   According to the trivia on IMDb, Owen Wilson a...  \n",
       "3   In his Star Wars Episode 1 review/analysis, Mi...  \n",
       "4   I'm a big fan of the Pink Panther movies (the ...  \n",
       "6   At the end of the movie, adult Jack (Sean Penn...  "
      ]
     },
     "metadata": {},
     "output_type": "display_data"
    }
   ],
   "source": [
    "# Warning - this might take a few seconds to a minute to complete. \n",
    "import bs4 \n",
    "\n",
    "def robustParse(text):\n",
    "    try: \n",
    "        return bs4.BeautifulSoup(text, \"lxml\").text.replace(\"\\n\",\" \")\n",
    "    except: \n",
    "        return None \n",
    "\n",
    "stack_df[\"CleanBody\"] = stack_df[\"Body\"].map(robustParse)\n",
    "\n",
    "display(stack_df[[\"Body\",\"CleanBody\"]].head())"
   ]
  },
  {
   "cell_type": "markdown",
   "metadata": {},
   "source": [
    "## Extracting links from HTML"
   ]
  },
  {
   "cell_type": "code",
   "execution_count": 20,
   "metadata": {},
   "outputs": [
    {
     "data": {
      "text/plain": [
       "Id\n",
       "1                                                   []\n",
       "2         [http://www.imdb.com/title/tt0396269/trivia]\n",
       "3    [https://redlettermedia.com/mr-plinketts-star-...\n",
       "4    [http://www.imdb.com/title/tt0352520/, http://...\n",
       "6                                                   []\n",
       "Name: ListUrl, dtype: object"
      ]
     },
     "execution_count": 20,
     "metadata": {},
     "output_type": "execute_result"
    }
   ],
   "source": [
    "# Notice that this will, like above, take a moment to run. \n",
    "def returnLinks(text):\n",
    "    try: \n",
    "        soup = bs4.BeautifulSoup(text, 'html.parser')\n",
    "        return [x['href'] for x in soup.find_all('a')\n",
    "                if 'href' in x.attrs and \"://\" in x.get('href')]\n",
    "    except:\n",
    "        return None\n",
    "\n",
    "# Let's make a new column with a list of all URLs found\n",
    "stack_df[\"ListUrl\"] = stack_df[\"Body\"].map(returnLinks)\n",
    "\n",
    "stack_df[\"ListUrl\"].head()"
   ]
  },
  {
   "cell_type": "markdown",
   "metadata": {},
   "source": [
    "# Cleaning up lists of data "
   ]
  },
  {
   "cell_type": "code",
   "execution_count": 21,
   "metadata": {},
   "outputs": [
    {
     "name": "stdout",
     "output_type": "stream",
     "text": [
      "<plot-explanation><analysis><ending><the-tree-of-life>\n",
      "\n",
      "['plot-explanation', 'analysis', 'ending', 'the-tree-of-life']\n"
     ]
    }
   ],
   "source": [
    "def splitTags(text):\n",
    "    if type(text) != str:\n",
    "        return []\n",
    "    elif len(text) == 0:\n",
    "        return []\n",
    "    else:\n",
    "        return text[1:-1].split(\"><\")\n",
    "\n",
    "print(stack_df[\"Tags\"][4],end=\"\\n\\n\")\n",
    "\n",
    "stack_df[\"ListTags\"] = stack_df[\"Tags\"].map(splitTags)\n",
    "print(stack_df[\"ListTags\"][4])"
   ]
  },
  {
   "cell_type": "code",
   "execution_count": 22,
   "metadata": {},
   "outputs": [
    {
     "data": {
      "text/plain": [
       "0    39680\n",
       "1     4779\n",
       "2    11264\n",
       "3     4480\n",
       "4      861\n",
       "5      120\n",
       "Name: ListTags, dtype: int64"
      ]
     },
     "execution_count": 22,
     "metadata": {},
     "output_type": "execute_result"
    }
   ],
   "source": [
    "stack_df[\"ListTags\"].map(len).value_counts().sort_index(ascending=True)"
   ]
  },
  {
   "cell_type": "code",
   "execution_count": null,
   "metadata": {},
   "outputs": [],
   "source": [
    "pd.crosstab(stack_df['PostTypeId'],stack_df['ListTags'].map(len))"
   ]
  },
  {
   "cell_type": "code",
   "execution_count": 23,
   "metadata": {},
   "outputs": [
    {
     "name": "stdout",
     "output_type": "stream",
     "text": [
      "21504\n"
     ]
    }
   ],
   "source": [
    "print(len(stack_df[stack_df[\"Tags\"].notna()]))"
   ]
  },
  {
   "cell_type": "code",
   "execution_count": null,
   "metadata": {},
   "outputs": [],
   "source": [
    "longtag_stack_df = stack_df[stack_df[\"Tags\"].notna()].explode(\"ListTags\")\n",
    "display(longtag_stack_df[[\"ListTags\",\n",
    "                          \"Body\",\n",
    "                          \"Score\",\n",
    "                          \"OwnerUserId\"]].head(10))"
   ]
  },
  {
   "cell_type": "code",
   "execution_count": null,
   "metadata": {},
   "outputs": [],
   "source": [
    "longtag_stack_df['QuestionId'] = longtag_stack_df.index\n",
    "longtag_stack_df.index = pd.RangeIndex(len(longtag_stack_df))\n",
    "display(longtag_stack_df[[\"ListTags\",\n",
    "                          \"QuestionId\",\n",
    "                          \"Score\",\n",
    "                          \"OwnerUserId\"]].head(6))"
   ]
  },
  {
   "cell_type": "markdown",
   "metadata": {},
   "source": [
    "# Parsing time in the Stack Exchange "
   ]
  },
  {
   "cell_type": "code",
   "execution_count": 26,
   "metadata": {},
   "outputs": [
    {
     "name": "stdout",
     "output_type": "stream",
     "text": [
      "Number of missing for CreationDate:  0\n",
      "Number of missing for LastEditDate:  22147\n",
      "Number of missing for LastActivityDate:  0\n",
      "Number of missing for ClosedDate:  59144\n",
      "Number of missing for CommunityOwnedDate:  61118\n"
     ]
    }
   ],
   "source": [
    "for col in [\"CreationDate\", \"LastEditDate\", \"LastActivityDate\", \n",
    "            \"ClosedDate\", \"CommunityOwnedDate\"]:\n",
    "    stack_df[col] = pd.to_datetime(stack_df[col])\n",
    "    print(f\"Number of missing for {col}: \",\n",
    "          len(stack_df)-stack_df[col].count())"
   ]
  },
  {
   "cell_type": "code",
   "execution_count": 27,
   "metadata": {},
   "outputs": [
    {
     "name": "stdout",
     "output_type": "stream",
     "text": [
      "There were 9549 posts created in 2016\n"
     ]
    }
   ],
   "source": [
    "# Slice by time 1: By Year\n",
    "year = 2016\n",
    "cyear = len(stack_df[stack_df[\"CreationDate\"].dt.year == year])\n",
    "print(f\"There were {cyear} posts created in {year}\")"
   ]
  },
  {
   "cell_type": "code",
   "execution_count": 28,
   "metadata": {},
   "outputs": [
    {
     "name": "stdout",
     "output_type": "stream",
     "text": [
      "There were 22 posts made between 2015-03-14 and 2015-03-15\n"
     ]
    }
   ],
   "source": [
    "# Time slicing: For one specific day\n",
    "t1 = '2015-03-14'; t2 = '2015-03-15'\n",
    "mask = (stack_df[\"CreationDate\"]>= t1) & \\\n",
    "       (stack_df[\"CreationDate\"]< t2)\n",
    "\n",
    "print(f\"There were {len(stack_df[mask])} posts made between\",\n",
    "      f\"{t1} and {t2}\")"
   ]
  },
  {
   "cell_type": "code",
   "execution_count": 29,
   "metadata": {},
   "outputs": [
    {
     "data": {
      "text/plain": [
       "pandas._libs.tslibs.timestamps.Timestamp"
      ]
     },
     "execution_count": 29,
     "metadata": {},
     "output_type": "execute_result"
    }
   ],
   "source": [
    "type(stack_df[\"CreationDate\"][0])"
   ]
  },
  {
   "cell_type": "markdown",
   "metadata": {},
   "source": [
    "# Regular expressions"
   ]
  },
  {
   "cell_type": "code",
   "execution_count": 30,
   "metadata": {},
   "outputs": [
    {
     "name": "stdout",
     "output_type": "stream",
     "text": [
      "['new g', 'new s']\n",
      "['new t']\n",
      "[]\n",
      "['new b']\n"
     ]
    }
   ],
   "source": [
    "list_Comments = [\"I wanted a new guitar for Christmas, not a new sweater\", \n",
    "                 \"I always knew trombones were not for me\", \n",
    "                 \"Woohoo! New drums for my kit.\", \n",
    "                 \"What to do with my new bass?\"]\n",
    "\n",
    "import re\n",
    "\n",
    "pattern = re.compile(r\"new \\w\")\n",
    "for comment in list_Comments: \n",
    "    print(pattern.findall(comment))"
   ]
  },
  {
   "cell_type": "code",
   "execution_count": 31,
   "metadata": {},
   "outputs": [
    {
     "name": "stdout",
     "output_type": "stream",
     "text": [
      "['new guitar', 'new sweater']\n",
      "['new trombones']\n",
      "[]\n",
      "['new bass']\n"
     ]
    }
   ],
   "source": [
    "pattern = re.compile(r\"new \\w*\")\n",
    "for comment in list_Comments: \n",
    "    print(pattern.findall(comment))"
   ]
  },
  {
   "cell_type": "code",
   "execution_count": 32,
   "metadata": {},
   "outputs": [
    {
     "name": "stdout",
     "output_type": "stream",
     "text": [
      "['new guitar', 'new sweater']\n",
      "[]\n",
      "['New drums']\n",
      "['new bass']\n"
     ]
    }
   ],
   "source": [
    "pattern = re.compile(r\"\\bnew \\w*\",re.IGNORECASE)\n",
    "for comment in list_Comments: \n",
    "    print(pattern.findall(comment))"
   ]
  },
  {
   "cell_type": "markdown",
   "metadata": {},
   "source": [
    "## Further learning for regular expressions"
   ]
  },
  {
   "cell_type": "code",
   "execution_count": 33,
   "metadata": {},
   "outputs": [
    {
     "name": "stdout",
     "output_type": "stream",
     "text": [
      "H\n"
     ]
    }
   ],
   "source": [
    "# Try the various codes yourself for the text in the example\n",
    "pattern = \"\\w\"\n",
    "text = \"Happy Birthday: It's 21 time!\" \n",
    "\n",
    "if re_match := re.compile(pattern).search(text):\n",
    "    print(re_match[0])"
   ]
  },
  {
   "cell_type": "markdown",
   "metadata": {},
   "source": [
    "## Regular expressions and _ground truth_"
   ]
  },
  {
   "cell_type": "code",
   "execution_count": 56,
   "metadata": {},
   "outputs": [],
   "source": [
    "email_pattern = \"\\A[a-z0-9!#$%&'*+/=?^_‘{|}~-]+(?:\\.[a-z0-9!#$%&'*+/=?^_‘{|}~-]+)*@(?:[a-z0-9](?:[a-z0-9-]*[a-z0-9])?\\.)+[a-z0-9](?:[a-z0-9-]*[a-z0-9])?\\z\""
   ]
  },
  {
   "cell_type": "markdown",
   "metadata": {},
   "source": [
    "# Storing our work"
   ]
  },
  {
   "cell_type": "code",
   "execution_count": 34,
   "metadata": {},
   "outputs": [],
   "source": [
    "import pickle \n",
    "\n",
    "with open(Path.cwd().parent / \"data\" / \"movies_stack_df.pkl\",'wb') as fileout: \n",
    "    fileout.write(pickle.dumps(stack_df))"
   ]
  },
  {
   "cell_type": "markdown",
   "metadata": {},
   "source": [
    "# Summary"
   ]
  },
  {
   "cell_type": "markdown",
   "metadata": {},
   "source": [
    "# Further Reading "
   ]
  },
  {
   "cell_type": "markdown",
   "metadata": {},
   "source": [
    "# Extensions and reflections "
   ]
  }
 ],
 "metadata": {
  "kernelspec": {
   "display_name": "Python 3 (ipykernel)",
   "language": "python",
   "name": "python3"
  },
  "language_info": {
   "codemirror_mode": {
    "name": "ipython",
    "version": 3
   },
   "file_extension": ".py",
   "mimetype": "text/x-python",
   "name": "python",
   "nbconvert_exporter": "python",
   "pygments_lexer": "ipython3",
   "version": "3.9.7"
  },
  "toc-autonumbering": true
 },
 "nbformat": 4,
 "nbformat_minor": 4
}
